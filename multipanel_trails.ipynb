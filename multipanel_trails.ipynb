{
 "cells": [
  {
   "cell_type": "code",
   "execution_count": 45,
   "metadata": {},
   "outputs": [
    {
     "data": {
      "image/png": "[encoded data removed]",
      "text/plain": [
       "<Figure size 432x288 with 1 Axes>"
      ]
     },
     "metadata": {
      "needs_background": "light"
     },
     "output_type": "display_data"
    }
   ],
   "source": [
    "import matplotlib.pyplot as plt\n",
    "import numpy as np\n",
    "import pandas as pd\n",
    "import matplotlib.gridspec as gridspec\n",
    "#from skimage import exposure\n",
    "\n",
    "def get_frameset(pfchunk, starttime):\n",
    "    framelist = []\n",
    "    start = pfchunk.loc[pfchunk.Time.between(starttime+1.0, starttime+1.5)]\n",
    "    DIR = np.sign(start.loc[np.argmin(np.abs(start['median_dRotation_cArea'])-1.0), 'median_dRotation_cArea'])\n",
    "    framelist.append(start.loc[np.argmin(np.abs(start['median_dRotation_cArea'])-1.0), 'FrameNumber'])\n",
    "    #framelist.append(pfchunk.loc[np.argmin(np.abs(pfchunk['Time']-starttime)), 'FrameNumber'])\n",
    "    for r in [0.75,0.5,0,-0.5,-0.75, -0.9, -1.0]:\n",
    "        framelist.append(pfchunk.loc[np.argmin(np.abs(pfchunk['median_dRotation_cArea']-r*DIR)),'FrameNumber'])\n",
    "\n",
    "    return framelist\n",
    "    \n",
    "    \n",
    "def crop_stitched_img(img):\n",
    "    if len(img.shape)==2:\n",
    "        h,w = img.shape\n",
    "        return img[100:h-100,100:w-100]\n",
    "    elif len(img.shape)==3:\n",
    "        h, w, _ = img.shape\n",
    "        return img[100:h-100,100:w-100,:]\n",
    "\n",
    "XPOS = 'X#wcentroid'\n",
    "YPOS = 'Y#wcentroid'\n",
    "XVEL = 'VX#smooth#wcentroid'\n",
    "YVEL = 'VY#smooth#wcentroid'\n",
    "SPEED = 'SPEED#smooth#wcentroid'\n",
    "ACC = 'ACCELERATION#smooth#wcentroid'\n",
    "angVel = 'ANGULAR_A#wcentroid'\n",
    "angAcc = 'ANGULAR_V#wcentroid'\n",
    "\n",
    "def rotationOrder(centreX, centreY, posX, posY, velX, velY):\n",
    "    \"\"\"\n",
    "    centre - a single point marking the axis of rotation\n",
    "    pos - position of agents (1 per agent)\n",
    "    vel - velocity of agents (1 per agent)\n",
    "    \n",
    "    Returns: 1d array of rotation order values\n",
    "    \"\"\"\n",
    "    CX = posX - centreX\n",
    "    CY = posY - centreY\n",
    "    radius = np.sqrt(CX**2 + CY**2)\n",
    "    uCX = CX / radius # X component of unit vector R\n",
    "    uCY = CY / radius # Y component of unit vector R        \n",
    "    rotation = np.cross(pd.DataFrame({'uCX':uCX,'uCY':uCY}), pd.DataFrame({'velX':velX, 'velY':velY}))\n",
    "\n",
    "    return rotation\n",
    "\n",
    "def plot_data_on_video(img, xdata, ydata, colourdata, TEXT, fig=None, ax=None,\n",
    "                        xlim=(7,312), ylim=(8,327)):\n",
    "    if fig==None:\n",
    "        fig = plt.figure(frameon=False)\n",
    "        fig.set_size_inches(4,4)\n",
    "    if ax== None:\n",
    "        ax = fig.add_subplot(111)\n",
    "    plt.imshow(crop_stitched_img(img), extent=[xlim[0], xlim[1],ylim[0],ylim[1]], origin='lower')\n",
    "    \n",
    "    \n",
    "    props = dict(boxstyle='round', facecolor='#ffffff', alpha=0.75)\n",
    "    ax.text(0.97, 0.02, TEXT, transform=ax.transAxes, fontsize=10,\n",
    "            verticalalignment='bottom', horizontalalignment='right', bbox=props)\n",
    "\n",
    "    data = plt.scatter(xdata.values, \n",
    "                       ydata.values, \n",
    "                       c=np.array(colourdata), s=0.25) \n",
    "    \n",
    "    plt.gca().set_aspect(1.0)\n",
    "    plt.gca().set_axis_off()\n",
    "    plt.subplots_adjust(top = 1, bottom = 0, right = 1, left = 0, \n",
    "            hspace = 0, wspace = 0)    \n",
    "    ax.set_xlim(xlim)\n",
    "    ax.set_ylim(ylim)\n",
    "\n",
    "    \n",
    "    return fig\n",
    "    \n",
    "def create_colourlist(N, cmap='viridis', rev=False):\n",
    "    import matplotlib.pyplot as plt\n",
    "    if rev ==True:\n",
    "        return plt.cm.get_cmap(cmap)(np.linspace(1,0,N))\n",
    "    else:    \n",
    "        return plt.cm.get_cmap(cmap)(np.linspace(0,1,N))\n",
    "\n",
    "\n",
    "def plotnice(plotType='standard', ax=plt.gca()):\n",
    "    ax.spines['top'].set_visible(False)\n",
    "    ax.spines['right'].set_visible(False)\n",
    "    if plotType == 'hist':\n",
    "        ax.spines['left'].set_visible(False)\n",
    "        ax.set_yticks([])\n",
    "    elif plotType=='img':\n",
    "        ax.spines['left'].set_visible(False)\n",
    "        ax.spines['bottom'].set_visible(False)\n",
    "        ax.set_xticks([])\n",
    "        ax.set_yticks([])\n",
    "        plt.axis('off')\n",
    "    return\n",
    "\n"
   ]
  },
  {
   "cell_type": "code",
   "execution_count": 46,
   "metadata": {},
   "outputs": [],
   "source": [
    "\n",
    "from utilities import *\n",
    "import stim_handling as stims\n",
    "import imgstore\n"
   ]
  },
  {
   "cell_type": "code",
   "execution_count": 76,
   "metadata": {},
   "outputs": [],
   "source": [
    "\n",
    "\n",
    "def make_panel(MAIN_DIR, TRAIL_TIME,fig, ax,  startCoh='undefined', label='', prestim_frames=12000):\n",
    "\n",
    "    store = imgstore.new_for_filename(MAIN_DIR + 'metadata.yaml')\n",
    "    #\n",
    "    log = stims.get_logfile(MAIN_DIR)\n",
    "\n",
    "    print('loading pf')\n",
    "    pf = pd.read_pickle(MAIN_DIR + 'track/perframe_stats.pickle')\n",
    "\n",
    "    if len(pf.shape) ==1:\n",
    "        import joblib\n",
    "        pf = joblib.load(MAIN_DIR + 'track/perframe_stats.pickle')\n",
    "    if not 'frame' in pf.columns:\n",
    "        pf['frame'] = pf.index\n",
    "    if not 'FrameNumber' in pf.columns:\n",
    "        ret, pf = stims.sync_data(pf, log, store)\n",
    "\n",
    "    print('loading fbf')\n",
    "    fbf = pd.read_pickle(MAIN_DIR + 'track/frameByFrameData.pickle')\n",
    "    if len(fbf.shape) ==1:\n",
    "        import joblib\n",
    "        fbf = joblib.load(MAIN_DIR + 'track/frameByFrameData.pickle')\n",
    "    if not 'frame' in fbf.columns:\n",
    "        fbf['frame'] = fbf.index\n",
    "    if not 'FrameNumber' in fbf.columns:\n",
    "        print('merging framenumber')\n",
    "        fbf = fbf.merge(pf[['FrameNumber','frame']], left_on='frame', right_on='frame')\n",
    "        #ret, fbf = stims.sync_data(fbf, log, store)\n",
    "\n",
    "    fbf.loc[:,'uVX'] = fbf.loc[:,XVEL] / fbf.loc[:,SPEED]\n",
    "    fbf.loc[:,'uVY'] = fbf.loc[:,YVEL] / fbf.loc[:,SPEED]\n",
    "    fbf['R'] = rotationOrder(160,160,fbf[XPOS],fbf[YPOS],fbf['uVX'],fbf['uVY'])\n",
    "    fbf['colVal'] = fbf['R']/2.0 +0.5 #rescale to 0-1\n",
    "\n",
    "    if startCoh == 'undefined':\n",
    "        frame = store.frame_min + prestim_frames\n",
    "    else:\n",
    "        frame = int(pf.iloc[(pf['median_dRotation_cArea']-startCoh).abs().argsort()[:1]]['FrameNumber'].values)\n",
    "    \n",
    "    \n",
    "    #rpf = pf.loc[pf['Time'].between(T0, T0+45),:]\n",
    "    #framelist = get_frameset(rpf, T0)\n",
    "    #rfbf = fbf.loc[fbf['time'].between(T0, T0+45),:]\n",
    "\n",
    "    try:\n",
    "        img, (f, t) = store.get_image(frame)\n",
    "    except:\n",
    "        img, (f, t) = store.get_next_image()\n",
    "\n",
    "    #img = exposure.adjust_sigmoid(img, 0.40, 8)\n",
    "\n",
    "    #ax.imshow(img, cmap='gray', origin=flipped[i])\n",
    "    #plotnice('img')\n",
    "    #ax.set_aspect('equal')\n",
    "\n",
    "    plotdata = fbf.loc[fbf['FrameNumber'].between(frame-TRAIL_TIME, frame), :]\n",
    "    plotdata = plotdata[['colVal','time',XPOS,YPOS]].dropna()\n",
    "    #plotdata = drop_bad_tracks(plotdata)\n",
    "    #plotdata = plotdata.loc[(plotdata['SPEED#smooth#wcentroid'] >= 0.1) & (plotdata['BORDER_DISTANCE#wcentroid'] > 20), :] \n",
    "    #COLOURS = np.array([colours[x] for x in plotdata.trackid.values])\n",
    "    COLOURS = plt.cm.get_cmap('viridis')(plotdata['colVal'])\n",
    "    COLOURS[:,3] = (plotdata['time'] - plotdata['time'].min()) / (plotdata['time'].max() -plotdata['time'].min())\n",
    "\n",
    "    fig = plot_data_on_video(img, plotdata[XPOS], plotdata[YPOS], \n",
    "                        COLOURS, \n",
    "                        label, fig=fig, ax=ax,\n",
    "                        xlim=(7,312), ylim=(8,327))    \n",
    "\n",
    "\n",
    "\n",
    "    return fig\n",
    "    \"\"\"\n",
    "    plotnice('img')\n",
    "    plt.subplots_adjust(left=0, right=1, bottom=0, top=1, wspace=0, hspace=0)\n",
    "    #plt.show() #FIXME\n",
    "    plt.savefig(MAIN_DIR + 'track/storyboard_'+str(int(args.time)) + '.png', dpi=200)\n",
    "    plt.savefig(MAIN_DIR + 'track/storyboard_'+str(int(args.time)) + '.svg', dpi=200)\n",
    "    plt.close('all')\n",
    "    \"\"\""
   ]
  },
  {
   "cell_type": "code",
   "execution_count": 48,
   "metadata": {},
   "outputs": [],
   "source": [
    "fig2b =['/media/recnodes/recnode_2mfish/coherencetestangular3m_8_dotbot_20190909_113201.stitched',\n",
    "        '/media/recnodes/recnode_2mfish/coherencetestangular3m_16_dotbot_20190924_112201.stitched',\n",
    "        '/media/recnodes/recnode_2mfish/coherencetestangular3m_32_dotbot_20190923_114201.stitched',\n",
    "        '/media/recnodes/recnode_2mfish/coherencetestangular3m_64_dotbot_20181023_143201.stitched',\n",
    "        '/media/recnodes/recnode_2mfish/coherencetestangular3m_128_dotbot_20181211_105201.stitched',\n",
    "        '/media/recnodes/recnode_2mfish/coherencetestangular3m_256_dotbot_20181011_113201.stitched',\n",
    "        '/media/recnodes/recnode_2mfish/coherencetestangular3m_512_dotbot_20181017_143202.stitched',\n",
    "        '/media/recnodes/recnode_2mfish/coherencetestangular3m_1024_dotbot_20190201_113201.stitched']\n",
    "\n",
    "up128 = ['/media/recnodes/recnode_2mfish/coherencetestangular3m_128_dotbot_20181008_173202.stitched',  #0    \n",
    "         '/media/recnodes/recnode_2mfish/coherencetestangular3m_128_dotbot_20181008_125201.stitched',  #20      \n",
    "         '/media/recnodes/recnode_2mfish/coherencetestangular3m_128_dotbot_20181004_125201.stitched',  #40      \n",
    "         '/media/recnodes/recnode_2mfish/coherencetestangular3m_128_dotbot_20181004_153201.stitched',  #60        \n",
    "         '/media/recnodes/recnode_2mfish/coherencetestangular3m_128_dotbot_20181004_141201.stitched',   #80     \n",
    "         '/media/recnodes/recnode_2mfish/coherencetestangular3m_128_dotbot_20181008_105201.stitched']   #100 "
   ]
  },
  {
   "cell_type": "code",
   "execution_count": 82,
   "metadata": {},
   "outputs": [],
   "source": [
    "def doit(filelist, labels, **kwargs):\n",
    "    N = len(filelist)\n",
    "\n",
    "    if N <=3:\n",
    "        gridsize=(1,N)\n",
    "    elif N <=10:\n",
    "        gridsize=(2,int(N/2 + N%2))\n",
    "    elif N <=18:\n",
    "        gridsize=(3,int(N/3 + N%3))\n",
    "    #gridsize = (int(N**0.5), N/int(N**0.5) + N%(int(N**0.5)))\n",
    "\n",
    "    fig = plt.figure(figsize=(gridsize[1]*4, gridsize[0]*4))\n",
    "    gs1 = gridspec.GridSpec(gridsize[0], gridsize[1])\n",
    "    gs1.update(wspace=0.025, hspace=0.025)\n",
    "    \n",
    "    prestim_frames = kwargs['prestim_frames']\n",
    "    \n",
    "    for i in range(N):\n",
    "        ax = fig.add_subplot(gs1[i])\n",
    "        _,GS,_,_,_ = slashdir(filelist[i]).split('/')[-2].split('_')\n",
    "        if int(GS) > 64:\n",
    "            nFrames = 40\n",
    "        else:\n",
    "            nFrames = 120\n",
    "        fig = make_panel(slashdir(filelist[i]), nFrames,fig, ax, prestim_frames=prestim_frames,  label=labels[i])"
   ]
  },
  {
   "cell_type": "code",
   "execution_count": 84,
   "metadata": {
    "scrolled": true
   },
   "outputs": [
    {
     "name": "stdout",
     "output_type": "stream",
     "text": [
      "7844\n"
     ]
    },
    {
     "name": "stderr",
     "output_type": "stream",
     "text": [
      "/home/dan/miniconda3/envs/netstuff/lib/python3.6/site-packages/imgstore/stores.py:1236: YAMLLoadWarning: calling yaml.load() without Loader=... is deprecated, as the default Loader is unsafe. Please read https://msg.pyyaml.org/load for full details.\n",
      "  clsname = yaml.load(f)[STORE_MD_KEY]['class']\n",
      "/home/dan/miniconda3/envs/netstuff/lib/python3.6/site-packages/imgstore/stores.py:171: YAMLLoadWarning: calling yaml.load() without Loader=... is deprecated, as the default Loader is unsafe. Please read https://msg.pyyaml.org/load for full details.\n",
      "  allmd = yaml.load(f)\n"
     ]
    },
    {
     "name": "stdout",
     "output_type": "stream",
     "text": [
      "loading pf\n",
      "loading fbf\n",
      "merging framenumber\n"
     ]
    },
    {
     "name": "stderr",
     "output_type": "stream",
     "text": [
      "/home/dan/miniconda3/envs/netstuff/lib/python3.6/site-packages/imgstore/stores.py:1236: YAMLLoadWarning: calling yaml.load() without Loader=... is deprecated, as the default Loader is unsafe. Please read https://msg.pyyaml.org/load for full details.\n",
      "  clsname = yaml.load(f)[STORE_MD_KEY]['class']\n",
      "/home/dan/miniconda3/envs/netstuff/lib/python3.6/site-packages/imgstore/stores.py:171: YAMLLoadWarning: calling yaml.load() without Loader=... is deprecated, as the default Loader is unsafe. Please read https://msg.pyyaml.org/load for full details.\n",
      "  allmd = yaml.load(f)\n"
     ]
    },
    {
     "name": "stdout",
     "output_type": "stream",
     "text": [
      "loading pf\n",
      "loading fbf\n",
      "merging framenumber\n"
     ]
    },
    {
     "name": "stderr",
     "output_type": "stream",
     "text": [
      "/home/dan/miniconda3/envs/netstuff/lib/python3.6/site-packages/imgstore/stores.py:1236: YAMLLoadWarning: calling yaml.load() without Loader=... is deprecated, as the default Loader is unsafe. Please read https://msg.pyyaml.org/load for full details.\n",
      "  clsname = yaml.load(f)[STORE_MD_KEY]['class']\n",
      "/home/dan/miniconda3/envs/netstuff/lib/python3.6/site-packages/imgstore/stores.py:171: YAMLLoadWarning: calling yaml.load() without Loader=... is deprecated, as the default Loader is unsafe. Please read https://msg.pyyaml.org/load for full details.\n",
      "  allmd = yaml.load(f)\n"
     ]
    },
    {
     "name": "stdout",
     "output_type": "stream",
     "text": [
      "loading pf\n",
      "loading fbf\n",
      "merging framenumber\n"
     ]
    },
    {
     "name": "stderr",
     "output_type": "stream",
     "text": [
      "/home/dan/miniconda3/envs/netstuff/lib/python3.6/site-packages/imgstore/stores.py:1236: YAMLLoadWarning: calling yaml.load() without Loader=... is deprecated, as the default Loader is unsafe. Please read https://msg.pyyaml.org/load for full details.\n",
      "  clsname = yaml.load(f)[STORE_MD_KEY]['class']\n",
      "/home/dan/miniconda3/envs/netstuff/lib/python3.6/site-packages/imgstore/stores.py:171: YAMLLoadWarning: calling yaml.load() without Loader=... is deprecated, as the default Loader is unsafe. Please read https://msg.pyyaml.org/load for full details.\n",
      "  allmd = yaml.load(f)\n",
      "previous store had incorrect image_shape: corrected (4049, 3866, 3) -> (4048, 3866, 3)\n"
     ]
    },
    {
     "name": "stdout",
     "output_type": "stream",
     "text": [
      "loading pf\n",
      "loading fbf\n",
      "merging framenumber\n"
     ]
    },
    {
     "name": "stderr",
     "output_type": "stream",
     "text": [
      "/home/dan/miniconda3/envs/netstuff/lib/python3.6/site-packages/imgstore/stores.py:1236: YAMLLoadWarning: calling yaml.load() without Loader=... is deprecated, as the default Loader is unsafe. Please read https://msg.pyyaml.org/load for full details.\n",
      "  clsname = yaml.load(f)[STORE_MD_KEY]['class']\n",
      "/home/dan/miniconda3/envs/netstuff/lib/python3.6/site-packages/imgstore/stores.py:171: YAMLLoadWarning: calling yaml.load() without Loader=... is deprecated, as the default Loader is unsafe. Please read https://msg.pyyaml.org/load for full details.\n",
      "  allmd = yaml.load(f)\n",
      "previous store had incorrect image_shape: corrected (4049, 3866, 3) -> (4048, 3866, 3)\n"
     ]
    },
    {
     "name": "stdout",
     "output_type": "stream",
     "text": [
      "loading pf\n",
      "loading fbf\n",
      "merging framenumber\n"
     ]
    },
    {
     "name": "stderr",
     "output_type": "stream",
     "text": [
      "/home/dan/miniconda3/envs/netstuff/lib/python3.6/site-packages/imgstore/stores.py:1236: YAMLLoadWarning: calling yaml.load() without Loader=... is deprecated, as the default Loader is unsafe. Please read https://msg.pyyaml.org/load for full details.\n",
      "  clsname = yaml.load(f)[STORE_MD_KEY]['class']\n",
      "/home/dan/miniconda3/envs/netstuff/lib/python3.6/site-packages/imgstore/stores.py:171: YAMLLoadWarning: calling yaml.load() without Loader=... is deprecated, as the default Loader is unsafe. Please read https://msg.pyyaml.org/load for full details.\n",
      "  allmd = yaml.load(f)\n",
      "previous store had incorrect image_shape: corrected (4049, 3866, 3) -> (4048, 3866, 3)\n"
     ]
    },
    {
     "name": "stdout",
     "output_type": "stream",
     "text": [
      "loading pf\n",
      "loading fbf\n",
      "merging framenumber\n"
     ]
    },
    {
     "name": "stderr",
     "output_type": "stream",
     "text": [
      "/home/dan/miniconda3/envs/netstuff/lib/python3.6/site-packages/imgstore/stores.py:1236: YAMLLoadWarning: calling yaml.load() without Loader=... is deprecated, as the default Loader is unsafe. Please read https://msg.pyyaml.org/load for full details.\n",
      "  clsname = yaml.load(f)[STORE_MD_KEY]['class']\n",
      "/home/dan/miniconda3/envs/netstuff/lib/python3.6/site-packages/imgstore/stores.py:171: YAMLLoadWarning: calling yaml.load() without Loader=... is deprecated, as the default Loader is unsafe. Please read https://msg.pyyaml.org/load for full details.\n",
      "  allmd = yaml.load(f)\n",
      "previous store had incorrect image_shape: corrected (4049, 3866, 3) -> (4048, 3866, 3)\n"
     ]
    },
    {
     "name": "stdout",
     "output_type": "stream",
     "text": [
      "loading pf\n",
      "loading fbf\n",
      "merging framenumber\n"
     ]
    },
    {
     "name": "stderr",
     "output_type": "stream",
     "text": [
      "/home/dan/miniconda3/envs/netstuff/lib/python3.6/site-packages/imgstore/stores.py:1236: YAMLLoadWarning: calling yaml.load() without Loader=... is deprecated, as the default Loader is unsafe. Please read https://msg.pyyaml.org/load for full details.\n",
      "  clsname = yaml.load(f)[STORE_MD_KEY]['class']\n",
      "/home/dan/miniconda3/envs/netstuff/lib/python3.6/site-packages/imgstore/stores.py:171: YAMLLoadWarning: calling yaml.load() without Loader=... is deprecated, as the default Loader is unsafe. Please read https://msg.pyyaml.org/load for full details.\n",
      "  allmd = yaml.load(f)\n",
      "previous store had incorrect image_shape: corrected (4049, 3866, 3) -> (4048, 3866, 3)\n"
     ]
    },
    {
     "name": "stdout",
     "output_type": "stream",
     "text": [
      "loading pf\n",
      "loading fbf\n",
      "merging framenumber\n",
      "8021\n"
     ]
    },
    {
     "name": "stderr",
     "output_type": "stream",
     "text": [
      "/home/dan/miniconda3/envs/netstuff/lib/python3.6/site-packages/imgstore/stores.py:1236: YAMLLoadWarning: calling yaml.load() without Loader=... is deprecated, as the default Loader is unsafe. Please read https://msg.pyyaml.org/load for full details.\n",
      "  clsname = yaml.load(f)[STORE_MD_KEY]['class']\n",
      "/home/dan/miniconda3/envs/netstuff/lib/python3.6/site-packages/imgstore/stores.py:171: YAMLLoadWarning: calling yaml.load() without Loader=... is deprecated, as the default Loader is unsafe. Please read https://msg.pyyaml.org/load for full details.\n",
      "  allmd = yaml.load(f)\n"
     ]
    },
    {
     "name": "stdout",
     "output_type": "stream",
     "text": [
      "loading pf\n",
      "loading fbf\n",
      "merging framenumber\n"
     ]
    },
    {
     "name": "stderr",
     "output_type": "stream",
     "text": [
      "/home/dan/miniconda3/envs/netstuff/lib/python3.6/site-packages/imgstore/stores.py:1236: YAMLLoadWarning: calling yaml.load() without Loader=... is deprecated, as the default Loader is unsafe. Please read https://msg.pyyaml.org/load for full details.\n",
      "  clsname = yaml.load(f)[STORE_MD_KEY]['class']\n",
      "/home/dan/miniconda3/envs/netstuff/lib/python3.6/site-packages/imgstore/stores.py:171: YAMLLoadWarning: calling yaml.load() without Loader=... is deprecated, as the default Loader is unsafe. Please read https://msg.pyyaml.org/load for full details.\n",
      "  allmd = yaml.load(f)\n"
     ]
    },
    {
     "name": "stdout",
     "output_type": "stream",
     "text": [
      "loading pf\n",
      "loading fbf\n",
      "merging framenumber\n"
     ]
    },
    {
     "name": "stderr",
     "output_type": "stream",
     "text": [
      "/home/dan/miniconda3/envs/netstuff/lib/python3.6/site-packages/imgstore/stores.py:1236: YAMLLoadWarning: calling yaml.load() without Loader=... is deprecated, as the default Loader is unsafe. Please read https://msg.pyyaml.org/load for full details.\n",
      "  clsname = yaml.load(f)[STORE_MD_KEY]['class']\n",
      "/home/dan/miniconda3/envs/netstuff/lib/python3.6/site-packages/imgstore/stores.py:171: YAMLLoadWarning: calling yaml.load() without Loader=... is deprecated, as the default Loader is unsafe. Please read https://msg.pyyaml.org/load for full details.\n",
      "  allmd = yaml.load(f)\n"
     ]
    },
    {
     "name": "stdout",
     "output_type": "stream",
     "text": [
      "loading pf\n",
      "loading fbf\n",
      "merging framenumber\n"
     ]
    },
    {
     "name": "stderr",
     "output_type": "stream",
     "text": [
      "/home/dan/miniconda3/envs/netstuff/lib/python3.6/site-packages/imgstore/stores.py:1236: YAMLLoadWarning: calling yaml.load() without Loader=... is deprecated, as the default Loader is unsafe. Please read https://msg.pyyaml.org/load for full details.\n",
      "  clsname = yaml.load(f)[STORE_MD_KEY]['class']\n",
      "/home/dan/miniconda3/envs/netstuff/lib/python3.6/site-packages/imgstore/stores.py:171: YAMLLoadWarning: calling yaml.load() without Loader=... is deprecated, as the default Loader is unsafe. Please read https://msg.pyyaml.org/load for full details.\n",
      "  allmd = yaml.load(f)\n",
      "previous store had incorrect image_shape: corrected (4049, 3866, 3) -> (4048, 3866, 3)\n"
     ]
    },
    {
     "name": "stdout",
     "output_type": "stream",
     "text": [
      "loading pf\n",
      "loading fbf\n",
      "merging framenumber\n"
     ]
    },
    {
     "name": "stderr",
     "output_type": "stream",
     "text": [
      "/home/dan/miniconda3/envs/netstuff/lib/python3.6/site-packages/imgstore/stores.py:1236: YAMLLoadWarning: calling yaml.load() without Loader=... is deprecated, as the default Loader is unsafe. Please read https://msg.pyyaml.org/load for full details.\n",
      "  clsname = yaml.load(f)[STORE_MD_KEY]['class']\n",
      "/home/dan/miniconda3/envs/netstuff/lib/python3.6/site-packages/imgstore/stores.py:171: YAMLLoadWarning: calling yaml.load() without Loader=... is deprecated, as the default Loader is unsafe. Please read https://msg.pyyaml.org/load for full details.\n",
      "  allmd = yaml.load(f)\n",
      "previous store had incorrect image_shape: corrected (4049, 3866, 3) -> (4048, 3866, 3)\n"
     ]
    },
    {
     "name": "stdout",
     "output_type": "stream",
     "text": [
      "loading pf\n",
      "loading fbf\n",
      "merging framenumber\n"
     ]
    },
    {
     "name": "stderr",
     "output_type": "stream",
     "text": [
      "/home/dan/miniconda3/envs/netstuff/lib/python3.6/site-packages/imgstore/stores.py:1236: YAMLLoadWarning: calling yaml.load() without Loader=... is deprecated, as the default Loader is unsafe. Please read https://msg.pyyaml.org/load for full details.\n",
      "  clsname = yaml.load(f)[STORE_MD_KEY]['class']\n",
      "/home/dan/miniconda3/envs/netstuff/lib/python3.6/site-packages/imgstore/stores.py:171: YAMLLoadWarning: calling yaml.load() without Loader=... is deprecated, as the default Loader is unsafe. Please read https://msg.pyyaml.org/load for full details.\n",
      "  allmd = yaml.load(f)\n",
      "previous store had incorrect image_shape: corrected (4049, 3866, 3) -> (4048, 3866, 3)\n"
     ]
    },
    {
     "name": "stdout",
     "output_type": "stream",
     "text": [
      "loading pf\n",
      "loading fbf\n",
      "merging framenumber\n"
     ]
    },
    {
     "name": "stderr",
     "output_type": "stream",
     "text": [
      "/home/dan/miniconda3/envs/netstuff/lib/python3.6/site-packages/imgstore/stores.py:1236: YAMLLoadWarning: calling yaml.load() without Loader=... is deprecated, as the default Loader is unsafe. Please read https://msg.pyyaml.org/load for full details.\n",
      "  clsname = yaml.load(f)[STORE_MD_KEY]['class']\n",
      "/home/dan/miniconda3/envs/netstuff/lib/python3.6/site-packages/imgstore/stores.py:171: YAMLLoadWarning: calling yaml.load() without Loader=... is deprecated, as the default Loader is unsafe. Please read https://msg.pyyaml.org/load for full details.\n",
      "  allmd = yaml.load(f)\n",
      "previous store had incorrect image_shape: corrected (4049, 3866, 3) -> (4048, 3866, 3)\n"
     ]
    },
    {
     "name": "stdout",
     "output_type": "stream",
     "text": [
      "loading pf\n",
      "loading fbf\n",
      "merging framenumber\n"
     ]
    },
    {
     "name": "stderr",
     "output_type": "stream",
     "text": [
      "/home/dan/miniconda3/envs/netstuff/lib/python3.6/site-packages/imgstore/stores.py:1236: YAMLLoadWarning: calling yaml.load() without Loader=... is deprecated, as the default Loader is unsafe. Please read https://msg.pyyaml.org/load for full details.\n",
      "  clsname = yaml.load(f)[STORE_MD_KEY]['class']\n",
      "/home/dan/miniconda3/envs/netstuff/lib/python3.6/site-packages/imgstore/stores.py:171: YAMLLoadWarning: calling yaml.load() without Loader=... is deprecated, as the default Loader is unsafe. Please read https://msg.pyyaml.org/load for full details.\n",
      "  allmd = yaml.load(f)\n",
      "previous store had incorrect image_shape: corrected (4049, 3866, 3) -> (4048, 3866, 3)\n"
     ]
    },
    {
     "name": "stdout",
     "output_type": "stream",
     "text": [
      "loading pf\n",
      "loading fbf\n",
      "merging framenumber\n",
      "2333\n"
     ]
    },
    {
     "name": "stderr",
     "output_type": "stream",
     "text": [
      "/home/dan/miniconda3/envs/netstuff/lib/python3.6/site-packages/imgstore/stores.py:1236: YAMLLoadWarning: calling yaml.load() without Loader=... is deprecated, as the default Loader is unsafe. Please read https://msg.pyyaml.org/load for full details.\n",
      "  clsname = yaml.load(f)[STORE_MD_KEY]['class']\n",
      "/home/dan/miniconda3/envs/netstuff/lib/python3.6/site-packages/imgstore/stores.py:171: YAMLLoadWarning: calling yaml.load() without Loader=... is deprecated, as the default Loader is unsafe. Please read https://msg.pyyaml.org/load for full details.\n",
      "  allmd = yaml.load(f)\n"
     ]
    },
    {
     "name": "stdout",
     "output_type": "stream",
     "text": [
      "loading pf\n",
      "loading fbf\n",
      "merging framenumber\n"
     ]
    },
    {
     "name": "stderr",
     "output_type": "stream",
     "text": [
      "/home/dan/miniconda3/envs/netstuff/lib/python3.6/site-packages/imgstore/stores.py:1236: YAMLLoadWarning: calling yaml.load() without Loader=... is deprecated, as the default Loader is unsafe. Please read https://msg.pyyaml.org/load for full details.\n",
      "  clsname = yaml.load(f)[STORE_MD_KEY]['class']\n",
      "/home/dan/miniconda3/envs/netstuff/lib/python3.6/site-packages/imgstore/stores.py:171: YAMLLoadWarning: calling yaml.load() without Loader=... is deprecated, as the default Loader is unsafe. Please read https://msg.pyyaml.org/load for full details.\n",
      "  allmd = yaml.load(f)\n"
     ]
    },
    {
     "name": "stdout",
     "output_type": "stream",
     "text": [
      "loading pf\n",
      "loading fbf\n",
      "merging framenumber\n"
     ]
    },
    {
     "name": "stderr",
     "output_type": "stream",
     "text": [
      "/home/dan/miniconda3/envs/netstuff/lib/python3.6/site-packages/imgstore/stores.py:1236: YAMLLoadWarning: calling yaml.load() without Loader=... is deprecated, as the default Loader is unsafe. Please read https://msg.pyyaml.org/load for full details.\n",
      "  clsname = yaml.load(f)[STORE_MD_KEY]['class']\n",
      "/home/dan/miniconda3/envs/netstuff/lib/python3.6/site-packages/imgstore/stores.py:171: YAMLLoadWarning: calling yaml.load() without Loader=... is deprecated, as the default Loader is unsafe. Please read https://msg.pyyaml.org/load for full details.\n",
      "  allmd = yaml.load(f)\n"
     ]
    },
    {
     "name": "stdout",
     "output_type": "stream",
     "text": [
      "loading pf\n",
      "loading fbf\n",
      "merging framenumber\n"
     ]
    },
    {
     "name": "stderr",
     "output_type": "stream",
     "text": [
      "/home/dan/miniconda3/envs/netstuff/lib/python3.6/site-packages/imgstore/stores.py:1236: YAMLLoadWarning: calling yaml.load() without Loader=... is deprecated, as the default Loader is unsafe. Please read https://msg.pyyaml.org/load for full details.\n",
      "  clsname = yaml.load(f)[STORE_MD_KEY]['class']\n",
      "/home/dan/miniconda3/envs/netstuff/lib/python3.6/site-packages/imgstore/stores.py:171: YAMLLoadWarning: calling yaml.load() without Loader=... is deprecated, as the default Loader is unsafe. Please read https://msg.pyyaml.org/load for full details.\n",
      "  allmd = yaml.load(f)\n",
      "previous store had incorrect image_shape: corrected (4049, 3866, 3) -> (4048, 3866, 3)\n"
     ]
    },
    {
     "name": "stdout",
     "output_type": "stream",
     "text": [
      "loading pf\n",
      "loading fbf\n",
      "merging framenumber\n"
     ]
    },
    {
     "name": "stderr",
     "output_type": "stream",
     "text": [
      "/home/dan/miniconda3/envs/netstuff/lib/python3.6/site-packages/imgstore/stores.py:1236: YAMLLoadWarning: calling yaml.load() without Loader=... is deprecated, as the default Loader is unsafe. Please read https://msg.pyyaml.org/load for full details.\n",
      "  clsname = yaml.load(f)[STORE_MD_KEY]['class']\n",
      "/home/dan/miniconda3/envs/netstuff/lib/python3.6/site-packages/imgstore/stores.py:171: YAMLLoadWarning: calling yaml.load() without Loader=... is deprecated, as the default Loader is unsafe. Please read https://msg.pyyaml.org/load for full details.\n",
      "  allmd = yaml.load(f)\n",
      "previous store had incorrect image_shape: corrected (4049, 3866, 3) -> (4048, 3866, 3)\n"
     ]
    },
    {
     "name": "stdout",
     "output_type": "stream",
     "text": [
      "loading pf\n",
      "loading fbf\n",
      "merging framenumber\n"
     ]
    },
    {
     "name": "stderr",
     "output_type": "stream",
     "text": [
      "/home/dan/miniconda3/envs/netstuff/lib/python3.6/site-packages/imgstore/stores.py:1236: YAMLLoadWarning: calling yaml.load() without Loader=... is deprecated, as the default Loader is unsafe. Please read https://msg.pyyaml.org/load for full details.\n",
      "  clsname = yaml.load(f)[STORE_MD_KEY]['class']\n",
      "/home/dan/miniconda3/envs/netstuff/lib/python3.6/site-packages/imgstore/stores.py:171: YAMLLoadWarning: calling yaml.load() without Loader=... is deprecated, as the default Loader is unsafe. Please read https://msg.pyyaml.org/load for full details.\n",
      "  allmd = yaml.load(f)\n",
      "previous store had incorrect image_shape: corrected (4049, 3866, 3) -> (4048, 3866, 3)\n"
     ]
    },
    {
     "name": "stdout",
     "output_type": "stream",
     "text": [
      "loading pf\n",
      "loading fbf\n",
      "merging framenumber\n"
     ]
    },
    {
     "name": "stderr",
     "output_type": "stream",
     "text": [
      "/home/dan/miniconda3/envs/netstuff/lib/python3.6/site-packages/imgstore/stores.py:1236: YAMLLoadWarning: calling yaml.load() without Loader=... is deprecated, as the default Loader is unsafe. Please read https://msg.pyyaml.org/load for full details.\n",
      "  clsname = yaml.load(f)[STORE_MD_KEY]['class']\n",
      "/home/dan/miniconda3/envs/netstuff/lib/python3.6/site-packages/imgstore/stores.py:171: YAMLLoadWarning: calling yaml.load() without Loader=... is deprecated, as the default Loader is unsafe. Please read https://msg.pyyaml.org/load for full details.\n",
      "  allmd = yaml.load(f)\n",
      "previous store had incorrect image_shape: corrected (4049, 3866, 3) -> (4048, 3866, 3)\n"
     ]
    },
    {
     "name": "stdout",
     "output_type": "stream",
     "text": [
      "loading pf\n",
      "loading fbf\n",
      "merging framenumber\n"
     ]
    },
    {
     "name": "stderr",
     "output_type": "stream",
     "text": [
      "/home/dan/miniconda3/envs/netstuff/lib/python3.6/site-packages/imgstore/stores.py:1236: YAMLLoadWarning: calling yaml.load() without Loader=... is deprecated, as the default Loader is unsafe. Please read https://msg.pyyaml.org/load for full details.\n",
      "  clsname = yaml.load(f)[STORE_MD_KEY]['class']\n",
      "/home/dan/miniconda3/envs/netstuff/lib/python3.6/site-packages/imgstore/stores.py:171: YAMLLoadWarning: calling yaml.load() without Loader=... is deprecated, as the default Loader is unsafe. Please read https://msg.pyyaml.org/load for full details.\n",
      "  allmd = yaml.load(f)\n",
      "previous store had incorrect image_shape: corrected (4049, 3866, 3) -> (4048, 3866, 3)\n"
     ]
    },
    {
     "name": "stdout",
     "output_type": "stream",
     "text": [
      "loading pf\n",
      "loading fbf\n",
      "merging framenumber\n",
      "11371\n"
     ]
    },
    {
     "name": "stderr",
     "output_type": "stream",
     "text": [
      "/home/dan/miniconda3/envs/netstuff/lib/python3.6/site-packages/imgstore/stores.py:1236: YAMLLoadWarning: calling yaml.load() without Loader=... is deprecated, as the default Loader is unsafe. Please read https://msg.pyyaml.org/load for full details.\n",
      "  clsname = yaml.load(f)[STORE_MD_KEY]['class']\n",
      "/home/dan/miniconda3/envs/netstuff/lib/python3.6/site-packages/imgstore/stores.py:171: YAMLLoadWarning: calling yaml.load() without Loader=... is deprecated, as the default Loader is unsafe. Please read https://msg.pyyaml.org/load for full details.\n",
      "  allmd = yaml.load(f)\n"
     ]
    },
    {
     "name": "stdout",
     "output_type": "stream",
     "text": [
      "loading pf\n",
      "loading fbf\n",
      "merging framenumber\n"
     ]
    },
    {
     "name": "stderr",
     "output_type": "stream",
     "text": [
      "/home/dan/miniconda3/envs/netstuff/lib/python3.6/site-packages/imgstore/stores.py:1236: YAMLLoadWarning: calling yaml.load() without Loader=... is deprecated, as the default Loader is unsafe. Please read https://msg.pyyaml.org/load for full details.\n",
      "  clsname = yaml.load(f)[STORE_MD_KEY]['class']\n",
      "/home/dan/miniconda3/envs/netstuff/lib/python3.6/site-packages/imgstore/stores.py:171: YAMLLoadWarning: calling yaml.load() without Loader=... is deprecated, as the default Loader is unsafe. Please read https://msg.pyyaml.org/load for full details.\n",
      "  allmd = yaml.load(f)\n"
     ]
    },
    {
     "name": "stdout",
     "output_type": "stream",
     "text": [
      "loading pf\n",
      "loading fbf\n",
      "merging framenumber\n"
     ]
    },
    {
     "name": "stderr",
     "output_type": "stream",
     "text": [
      "/home/dan/miniconda3/envs/netstuff/lib/python3.6/site-packages/imgstore/stores.py:1236: YAMLLoadWarning: calling yaml.load() without Loader=... is deprecated, as the default Loader is unsafe. Please read https://msg.pyyaml.org/load for full details.\n",
      "  clsname = yaml.load(f)[STORE_MD_KEY]['class']\n",
      "/home/dan/miniconda3/envs/netstuff/lib/python3.6/site-packages/imgstore/stores.py:171: YAMLLoadWarning: calling yaml.load() without Loader=... is deprecated, as the default Loader is unsafe. Please read https://msg.pyyaml.org/load for full details.\n",
      "  allmd = yaml.load(f)\n"
     ]
    },
    {
     "name": "stdout",
     "output_type": "stream",
     "text": [
      "loading pf\n",
      "loading fbf\n",
      "merging framenumber\n"
     ]
    },
    {
     "name": "stderr",
     "output_type": "stream",
     "text": [
      "/home/dan/miniconda3/envs/netstuff/lib/python3.6/site-packages/imgstore/stores.py:1236: YAMLLoadWarning: calling yaml.load() without Loader=... is deprecated, as the default Loader is unsafe. Please read https://msg.pyyaml.org/load for full details.\n",
      "  clsname = yaml.load(f)[STORE_MD_KEY]['class']\n",
      "/home/dan/miniconda3/envs/netstuff/lib/python3.6/site-packages/imgstore/stores.py:171: YAMLLoadWarning: calling yaml.load() without Loader=... is deprecated, as the default Loader is unsafe. Please read https://msg.pyyaml.org/load for full details.\n",
      "  allmd = yaml.load(f)\n",
      "previous store had incorrect image_shape: corrected (4049, 3866, 3) -> (4048, 3866, 3)\n"
     ]
    },
    {
     "name": "stdout",
     "output_type": "stream",
     "text": [
      "loading pf\n",
      "loading fbf\n",
      "merging framenumber\n"
     ]
    },
    {
     "name": "stderr",
     "output_type": "stream",
     "text": [
      "/home/dan/miniconda3/envs/netstuff/lib/python3.6/site-packages/imgstore/stores.py:1236: YAMLLoadWarning: calling yaml.load() without Loader=... is deprecated, as the default Loader is unsafe. Please read https://msg.pyyaml.org/load for full details.\n",
      "  clsname = yaml.load(f)[STORE_MD_KEY]['class']\n",
      "/home/dan/miniconda3/envs/netstuff/lib/python3.6/site-packages/imgstore/stores.py:171: YAMLLoadWarning: calling yaml.load() without Loader=... is deprecated, as the default Loader is unsafe. Please read https://msg.pyyaml.org/load for full details.\n",
      "  allmd = yaml.load(f)\n",
      "previous store had incorrect image_shape: corrected (4049, 3866, 3) -> (4048, 3866, 3)\n"
     ]
    },
    {
     "name": "stdout",
     "output_type": "stream",
     "text": [
      "loading pf\n",
      "loading fbf\n",
      "merging framenumber\n"
     ]
    },
    {
     "name": "stderr",
     "output_type": "stream",
     "text": [
      "/home/dan/miniconda3/envs/netstuff/lib/python3.6/site-packages/imgstore/stores.py:1236: YAMLLoadWarning: calling yaml.load() without Loader=... is deprecated, as the default Loader is unsafe. Please read https://msg.pyyaml.org/load for full details.\n",
      "  clsname = yaml.load(f)[STORE_MD_KEY]['class']\n",
      "/home/dan/miniconda3/envs/netstuff/lib/python3.6/site-packages/imgstore/stores.py:171: YAMLLoadWarning: calling yaml.load() without Loader=... is deprecated, as the default Loader is unsafe. Please read https://msg.pyyaml.org/load for full details.\n",
      "  allmd = yaml.load(f)\n",
      "previous store had incorrect image_shape: corrected (4049, 3866, 3) -> (4048, 3866, 3)\n"
     ]
    },
    {
     "name": "stdout",
     "output_type": "stream",
     "text": [
      "loading pf\n",
      "loading fbf\n",
      "merging framenumber\n"
     ]
    },
    {
     "name": "stderr",
     "output_type": "stream",
     "text": [
      "/home/dan/miniconda3/envs/netstuff/lib/python3.6/site-packages/imgstore/stores.py:1236: YAMLLoadWarning: calling yaml.load() without Loader=... is deprecated, as the default Loader is unsafe. Please read https://msg.pyyaml.org/load for full details.\n",
      "  clsname = yaml.load(f)[STORE_MD_KEY]['class']\n",
      "/home/dan/miniconda3/envs/netstuff/lib/python3.6/site-packages/imgstore/stores.py:171: YAMLLoadWarning: calling yaml.load() without Loader=... is deprecated, as the default Loader is unsafe. Please read https://msg.pyyaml.org/load for full details.\n",
      "  allmd = yaml.load(f)\n",
      "previous store had incorrect image_shape: corrected (4049, 3866, 3) -> (4048, 3866, 3)\n"
     ]
    },
    {
     "name": "stdout",
     "output_type": "stream",
     "text": [
      "loading pf\n",
      "loading fbf\n",
      "merging framenumber\n"
     ]
    },
    {
     "name": "stderr",
     "output_type": "stream",
     "text": [
      "/home/dan/miniconda3/envs/netstuff/lib/python3.6/site-packages/imgstore/stores.py:1236: YAMLLoadWarning: calling yaml.load() without Loader=... is deprecated, as the default Loader is unsafe. Please read https://msg.pyyaml.org/load for full details.\n",
      "  clsname = yaml.load(f)[STORE_MD_KEY]['class']\n",
      "/home/dan/miniconda3/envs/netstuff/lib/python3.6/site-packages/imgstore/stores.py:171: YAMLLoadWarning: calling yaml.load() without Loader=... is deprecated, as the default Loader is unsafe. Please read https://msg.pyyaml.org/load for full details.\n",
      "  allmd = yaml.load(f)\n",
      "previous store had incorrect image_shape: corrected (4049, 3866, 3) -> (4048, 3866, 3)\n"
     ]
    },
    {
     "name": "stdout",
     "output_type": "stream",
     "text": [
      "loading pf\n",
      "loading fbf\n",
      "merging framenumber\n",
      "1277\n"
     ]
    },
    {
     "name": "stderr",
     "output_type": "stream",
     "text": [
      "/home/dan/miniconda3/envs/netstuff/lib/python3.6/site-packages/imgstore/stores.py:1236: YAMLLoadWarning: calling yaml.load() without Loader=... is deprecated, as the default Loader is unsafe. Please read https://msg.pyyaml.org/load for full details.\n",
      "  clsname = yaml.load(f)[STORE_MD_KEY]['class']\n",
      "/home/dan/miniconda3/envs/netstuff/lib/python3.6/site-packages/imgstore/stores.py:171: YAMLLoadWarning: calling yaml.load() without Loader=... is deprecated, as the default Loader is unsafe. Please read https://msg.pyyaml.org/load for full details.\n",
      "  allmd = yaml.load(f)\n"
     ]
    },
    {
     "name": "stdout",
     "output_type": "stream",
     "text": [
      "loading pf\n",
      "loading fbf\n",
      "merging framenumber\n"
     ]
    },
    {
     "name": "stderr",
     "output_type": "stream",
     "text": [
      "/home/dan/miniconda3/envs/netstuff/lib/python3.6/site-packages/imgstore/stores.py:1236: YAMLLoadWarning: calling yaml.load() without Loader=... is deprecated, as the default Loader is unsafe. Please read https://msg.pyyaml.org/load for full details.\n",
      "  clsname = yaml.load(f)[STORE_MD_KEY]['class']\n",
      "/home/dan/miniconda3/envs/netstuff/lib/python3.6/site-packages/imgstore/stores.py:171: YAMLLoadWarning: calling yaml.load() without Loader=... is deprecated, as the default Loader is unsafe. Please read https://msg.pyyaml.org/load for full details.\n",
      "  allmd = yaml.load(f)\n"
     ]
    },
    {
     "name": "stdout",
     "output_type": "stream",
     "text": [
      "loading pf\n",
      "loading fbf\n",
      "merging framenumber\n"
     ]
    },
    {
     "name": "stderr",
     "output_type": "stream",
     "text": [
      "/home/dan/miniconda3/envs/netstuff/lib/python3.6/site-packages/imgstore/stores.py:1236: YAMLLoadWarning: calling yaml.load() without Loader=... is deprecated, as the default Loader is unsafe. Please read https://msg.pyyaml.org/load for full details.\n",
      "  clsname = yaml.load(f)[STORE_MD_KEY]['class']\n",
      "/home/dan/miniconda3/envs/netstuff/lib/python3.6/site-packages/imgstore/stores.py:171: YAMLLoadWarning: calling yaml.load() without Loader=... is deprecated, as the default Loader is unsafe. Please read https://msg.pyyaml.org/load for full details.\n",
      "  allmd = yaml.load(f)\n"
     ]
    },
    {
     "name": "stdout",
     "output_type": "stream",
     "text": [
      "loading pf\n",
      "loading fbf\n",
      "merging framenumber\n"
     ]
    },
    {
     "name": "stderr",
     "output_type": "stream",
     "text": [
      "/home/dan/miniconda3/envs/netstuff/lib/python3.6/site-packages/imgstore/stores.py:1236: YAMLLoadWarning: calling yaml.load() without Loader=... is deprecated, as the default Loader is unsafe. Please read https://msg.pyyaml.org/load for full details.\n",
      "  clsname = yaml.load(f)[STORE_MD_KEY]['class']\n",
      "/home/dan/miniconda3/envs/netstuff/lib/python3.6/site-packages/imgstore/stores.py:171: YAMLLoadWarning: calling yaml.load() without Loader=... is deprecated, as the default Loader is unsafe. Please read https://msg.pyyaml.org/load for full details.\n",
      "  allmd = yaml.load(f)\n",
      "previous store had incorrect image_shape: corrected (4049, 3866, 3) -> (4048, 3866, 3)\n"
     ]
    },
    {
     "name": "stdout",
     "output_type": "stream",
     "text": [
      "loading pf\n",
      "loading fbf\n",
      "merging framenumber\n"
     ]
    },
    {
     "name": "stderr",
     "output_type": "stream",
     "text": [
      "/home/dan/miniconda3/envs/netstuff/lib/python3.6/site-packages/imgstore/stores.py:1236: YAMLLoadWarning: calling yaml.load() without Loader=... is deprecated, as the default Loader is unsafe. Please read https://msg.pyyaml.org/load for full details.\n",
      "  clsname = yaml.load(f)[STORE_MD_KEY]['class']\n",
      "/home/dan/miniconda3/envs/netstuff/lib/python3.6/site-packages/imgstore/stores.py:171: YAMLLoadWarning: calling yaml.load() without Loader=... is deprecated, as the default Loader is unsafe. Please read https://msg.pyyaml.org/load for full details.\n",
      "  allmd = yaml.load(f)\n",
      "previous store had incorrect image_shape: corrected (4049, 3866, 3) -> (4048, 3866, 3)\n"
     ]
    },
    {
     "name": "stdout",
     "output_type": "stream",
     "text": [
      "loading pf\n",
      "loading fbf\n",
      "merging framenumber\n"
     ]
    },
    {
     "name": "stderr",
     "output_type": "stream",
     "text": [
      "/home/dan/miniconda3/envs/netstuff/lib/python3.6/site-packages/imgstore/stores.py:1236: YAMLLoadWarning: calling yaml.load() without Loader=... is deprecated, as the default Loader is unsafe. Please read https://msg.pyyaml.org/load for full details.\n",
      "  clsname = yaml.load(f)[STORE_MD_KEY]['class']\n",
      "/home/dan/miniconda3/envs/netstuff/lib/python3.6/site-packages/imgstore/stores.py:171: YAMLLoadWarning: calling yaml.load() without Loader=... is deprecated, as the default Loader is unsafe. Please read https://msg.pyyaml.org/load for full details.\n",
      "  allmd = yaml.load(f)\n",
      "previous store had incorrect image_shape: corrected (4049, 3866, 3) -> (4048, 3866, 3)\n"
     ]
    },
    {
     "name": "stdout",
     "output_type": "stream",
     "text": [
      "loading pf\n",
      "loading fbf\n",
      "merging framenumber\n"
     ]
    },
    {
     "name": "stderr",
     "output_type": "stream",
     "text": [
      "/home/dan/miniconda3/envs/netstuff/lib/python3.6/site-packages/imgstore/stores.py:1236: YAMLLoadWarning: calling yaml.load() without Loader=... is deprecated, as the default Loader is unsafe. Please read https://msg.pyyaml.org/load for full details.\n",
      "  clsname = yaml.load(f)[STORE_MD_KEY]['class']\n",
      "/home/dan/miniconda3/envs/netstuff/lib/python3.6/site-packages/imgstore/stores.py:171: YAMLLoadWarning: calling yaml.load() without Loader=... is deprecated, as the default Loader is unsafe. Please read https://msg.pyyaml.org/load for full details.\n",
      "  allmd = yaml.load(f)\n",
      "previous store had incorrect image_shape: corrected (4049, 3866, 3) -> (4048, 3866, 3)\n"
     ]
    },
    {
     "name": "stdout",
     "output_type": "stream",
     "text": [
      "loading pf\n",
      "loading fbf\n",
      "merging framenumber\n"
     ]
    },
    {
     "name": "stderr",
     "output_type": "stream",
     "text": [
      "/home/dan/miniconda3/envs/netstuff/lib/python3.6/site-packages/imgstore/stores.py:1236: YAMLLoadWarning: calling yaml.load() without Loader=... is deprecated, as the default Loader is unsafe. Please read https://msg.pyyaml.org/load for full details.\n",
      "  clsname = yaml.load(f)[STORE_MD_KEY]['class']\n",
      "/home/dan/miniconda3/envs/netstuff/lib/python3.6/site-packages/imgstore/stores.py:171: YAMLLoadWarning: calling yaml.load() without Loader=... is deprecated, as the default Loader is unsafe. Please read https://msg.pyyaml.org/load for full details.\n",
      "  allmd = yaml.load(f)\n",
      "previous store had incorrect image_shape: corrected (4049, 3866, 3) -> (4048, 3866, 3)\n"
     ]
    },
    {
     "name": "stdout",
     "output_type": "stream",
     "text": [
      "loading pf\n",
      "loading fbf\n",
      "merging framenumber\n",
      "13541\n"
     ]
    },
    {
     "name": "stderr",
     "output_type": "stream",
     "text": [
      "/home/dan/miniconda3/envs/netstuff/lib/python3.6/site-packages/imgstore/stores.py:1236: YAMLLoadWarning: calling yaml.load() without Loader=... is deprecated, as the default Loader is unsafe. Please read https://msg.pyyaml.org/load for full details.\n",
      "  clsname = yaml.load(f)[STORE_MD_KEY]['class']\n",
      "/home/dan/miniconda3/envs/netstuff/lib/python3.6/site-packages/imgstore/stores.py:171: YAMLLoadWarning: calling yaml.load() without Loader=... is deprecated, as the default Loader is unsafe. Please read https://msg.pyyaml.org/load for full details.\n",
      "  allmd = yaml.load(f)\n"
     ]
    },
    {
     "name": "stdout",
     "output_type": "stream",
     "text": [
      "loading pf\n",
      "loading fbf\n",
      "merging framenumber\n"
     ]
    },
    {
     "name": "stderr",
     "output_type": "stream",
     "text": [
      "/home/dan/miniconda3/envs/netstuff/lib/python3.6/site-packages/imgstore/stores.py:1236: YAMLLoadWarning: calling yaml.load() without Loader=... is deprecated, as the default Loader is unsafe. Please read https://msg.pyyaml.org/load for full details.\n",
      "  clsname = yaml.load(f)[STORE_MD_KEY]['class']\n",
      "/home/dan/miniconda3/envs/netstuff/lib/python3.6/site-packages/imgstore/stores.py:171: YAMLLoadWarning: calling yaml.load() without Loader=... is deprecated, as the default Loader is unsafe. Please read https://msg.pyyaml.org/load for full details.\n",
      "  allmd = yaml.load(f)\n"
     ]
    },
    {
     "name": "stdout",
     "output_type": "stream",
     "text": [
      "loading pf\n",
      "loading fbf\n",
      "merging framenumber\n"
     ]
    },
    {
     "name": "stderr",
     "output_type": "stream",
     "text": [
      "/home/dan/miniconda3/envs/netstuff/lib/python3.6/site-packages/imgstore/stores.py:1236: YAMLLoadWarning: calling yaml.load() without Loader=... is deprecated, as the default Loader is unsafe. Please read https://msg.pyyaml.org/load for full details.\n",
      "  clsname = yaml.load(f)[STORE_MD_KEY]['class']\n",
      "/home/dan/miniconda3/envs/netstuff/lib/python3.6/site-packages/imgstore/stores.py:171: YAMLLoadWarning: calling yaml.load() without Loader=... is deprecated, as the default Loader is unsafe. Please read https://msg.pyyaml.org/load for full details.\n",
      "  allmd = yaml.load(f)\n"
     ]
    },
    {
     "name": "stdout",
     "output_type": "stream",
     "text": [
      "loading pf\n",
      "loading fbf\n",
      "merging framenumber\n"
     ]
    },
    {
     "name": "stderr",
     "output_type": "stream",
     "text": [
      "/home/dan/miniconda3/envs/netstuff/lib/python3.6/site-packages/imgstore/stores.py:1236: YAMLLoadWarning: calling yaml.load() without Loader=... is deprecated, as the default Loader is unsafe. Please read https://msg.pyyaml.org/load for full details.\n",
      "  clsname = yaml.load(f)[STORE_MD_KEY]['class']\n",
      "/home/dan/miniconda3/envs/netstuff/lib/python3.6/site-packages/imgstore/stores.py:171: YAMLLoadWarning: calling yaml.load() without Loader=... is deprecated, as the default Loader is unsafe. Please read https://msg.pyyaml.org/load for full details.\n",
      "  allmd = yaml.load(f)\n",
      "previous store had incorrect image_shape: corrected (4049, 3866, 3) -> (4048, 3866, 3)\n"
     ]
    },
    {
     "name": "stdout",
     "output_type": "stream",
     "text": [
      "loading pf\n",
      "loading fbf\n",
      "merging framenumber\n"
     ]
    },
    {
     "name": "stderr",
     "output_type": "stream",
     "text": [
      "/home/dan/miniconda3/envs/netstuff/lib/python3.6/site-packages/imgstore/stores.py:1236: YAMLLoadWarning: calling yaml.load() without Loader=... is deprecated, as the default Loader is unsafe. Please read https://msg.pyyaml.org/load for full details.\n",
      "  clsname = yaml.load(f)[STORE_MD_KEY]['class']\n",
      "/home/dan/miniconda3/envs/netstuff/lib/python3.6/site-packages/imgstore/stores.py:171: YAMLLoadWarning: calling yaml.load() without Loader=... is deprecated, as the default Loader is unsafe. Please read https://msg.pyyaml.org/load for full details.\n",
      "  allmd = yaml.load(f)\n",
      "previous store had incorrect image_shape: corrected (4049, 3866, 3) -> (4048, 3866, 3)\n"
     ]
    },
    {
     "name": "stdout",
     "output_type": "stream",
     "text": [
      "loading pf\n",
      "loading fbf\n",
      "merging framenumber\n"
     ]
    },
    {
     "name": "stderr",
     "output_type": "stream",
     "text": [
      "/home/dan/miniconda3/envs/netstuff/lib/python3.6/site-packages/imgstore/stores.py:1236: YAMLLoadWarning: calling yaml.load() without Loader=... is deprecated, as the default Loader is unsafe. Please read https://msg.pyyaml.org/load for full details.\n",
      "  clsname = yaml.load(f)[STORE_MD_KEY]['class']\n",
      "/home/dan/miniconda3/envs/netstuff/lib/python3.6/site-packages/imgstore/stores.py:171: YAMLLoadWarning: calling yaml.load() without Loader=... is deprecated, as the default Loader is unsafe. Please read https://msg.pyyaml.org/load for full details.\n",
      "  allmd = yaml.load(f)\n",
      "previous store had incorrect image_shape: corrected (4049, 3866, 3) -> (4048, 3866, 3)\n"
     ]
    },
    {
     "name": "stdout",
     "output_type": "stream",
     "text": [
      "loading pf\n",
      "loading fbf\n",
      "merging framenumber\n"
     ]
    },
    {
     "name": "stderr",
     "output_type": "stream",
     "text": [
      "/home/dan/miniconda3/envs/netstuff/lib/python3.6/site-packages/imgstore/stores.py:1236: YAMLLoadWarning: calling yaml.load() without Loader=... is deprecated, as the default Loader is unsafe. Please read https://msg.pyyaml.org/load for full details.\n",
      "  clsname = yaml.load(f)[STORE_MD_KEY]['class']\n",
      "/home/dan/miniconda3/envs/netstuff/lib/python3.6/site-packages/imgstore/stores.py:171: YAMLLoadWarning: calling yaml.load() without Loader=... is deprecated, as the default Loader is unsafe. Please read https://msg.pyyaml.org/load for full details.\n",
      "  allmd = yaml.load(f)\n",
      "previous store had incorrect image_shape: corrected (4049, 3866, 3) -> (4048, 3866, 3)\n"
     ]
    },
    {
     "name": "stdout",
     "output_type": "stream",
     "text": [
      "loading pf\n",
      "loading fbf\n",
      "merging framenumber\n"
     ]
    },
    {
     "name": "stderr",
     "output_type": "stream",
     "text": [
      "/home/dan/miniconda3/envs/netstuff/lib/python3.6/site-packages/imgstore/stores.py:1236: YAMLLoadWarning: calling yaml.load() without Loader=... is deprecated, as the default Loader is unsafe. Please read https://msg.pyyaml.org/load for full details.\n",
      "  clsname = yaml.load(f)[STORE_MD_KEY]['class']\n",
      "/home/dan/miniconda3/envs/netstuff/lib/python3.6/site-packages/imgstore/stores.py:171: YAMLLoadWarning: calling yaml.load() without Loader=... is deprecated, as the default Loader is unsafe. Please read https://msg.pyyaml.org/load for full details.\n",
      "  allmd = yaml.load(f)\n",
      "previous store had incorrect image_shape: corrected (4049, 3866, 3) -> (4048, 3866, 3)\n"
     ]
    },
    {
     "name": "stdout",
     "output_type": "stream",
     "text": [
      "loading pf\n",
      "loading fbf\n",
      "merging framenumber\n",
      "8518\n"
     ]
    },
    {
     "name": "stderr",
     "output_type": "stream",
     "text": [
      "/home/dan/miniconda3/envs/netstuff/lib/python3.6/site-packages/imgstore/stores.py:1236: YAMLLoadWarning: calling yaml.load() without Loader=... is deprecated, as the default Loader is unsafe. Please read https://msg.pyyaml.org/load for full details.\n",
      "  clsname = yaml.load(f)[STORE_MD_KEY]['class']\n",
      "/home/dan/miniconda3/envs/netstuff/lib/python3.6/site-packages/imgstore/stores.py:171: YAMLLoadWarning: calling yaml.load() without Loader=... is deprecated, as the default Loader is unsafe. Please read https://msg.pyyaml.org/load for full details.\n",
      "  allmd = yaml.load(f)\n"
     ]
    },
    {
     "name": "stdout",
     "output_type": "stream",
     "text": [
      "loading pf\n",
      "loading fbf\n",
      "merging framenumber\n"
     ]
    },
    {
     "name": "stderr",
     "output_type": "stream",
     "text": [
      "/home/dan/miniconda3/envs/netstuff/lib/python3.6/site-packages/imgstore/stores.py:1236: YAMLLoadWarning: calling yaml.load() without Loader=... is deprecated, as the default Loader is unsafe. Please read https://msg.pyyaml.org/load for full details.\n",
      "  clsname = yaml.load(f)[STORE_MD_KEY]['class']\n",
      "/home/dan/miniconda3/envs/netstuff/lib/python3.6/site-packages/imgstore/stores.py:171: YAMLLoadWarning: calling yaml.load() without Loader=... is deprecated, as the default Loader is unsafe. Please read https://msg.pyyaml.org/load for full details.\n",
      "  allmd = yaml.load(f)\n"
     ]
    },
    {
     "name": "stdout",
     "output_type": "stream",
     "text": [
      "loading pf\n",
      "loading fbf\n",
      "merging framenumber\n"
     ]
    },
    {
     "name": "stderr",
     "output_type": "stream",
     "text": [
      "/home/dan/miniconda3/envs/netstuff/lib/python3.6/site-packages/imgstore/stores.py:1236: YAMLLoadWarning: calling yaml.load() without Loader=... is deprecated, as the default Loader is unsafe. Please read https://msg.pyyaml.org/load for full details.\n",
      "  clsname = yaml.load(f)[STORE_MD_KEY]['class']\n",
      "/home/dan/miniconda3/envs/netstuff/lib/python3.6/site-packages/imgstore/stores.py:171: YAMLLoadWarning: calling yaml.load() without Loader=... is deprecated, as the default Loader is unsafe. Please read https://msg.pyyaml.org/load for full details.\n",
      "  allmd = yaml.load(f)\n"
     ]
    },
    {
     "name": "stdout",
     "output_type": "stream",
     "text": [
      "loading pf\n",
      "loading fbf\n",
      "merging framenumber\n"
     ]
    },
    {
     "name": "stderr",
     "output_type": "stream",
     "text": [
      "/home/dan/miniconda3/envs/netstuff/lib/python3.6/site-packages/imgstore/stores.py:1236: YAMLLoadWarning: calling yaml.load() without Loader=... is deprecated, as the default Loader is unsafe. Please read https://msg.pyyaml.org/load for full details.\n",
      "  clsname = yaml.load(f)[STORE_MD_KEY]['class']\n",
      "/home/dan/miniconda3/envs/netstuff/lib/python3.6/site-packages/imgstore/stores.py:171: YAMLLoadWarning: calling yaml.load() without Loader=... is deprecated, as the default Loader is unsafe. Please read https://msg.pyyaml.org/load for full details.\n",
      "  allmd = yaml.load(f)\n",
      "previous store had incorrect image_shape: corrected (4049, 3866, 3) -> (4048, 3866, 3)\n"
     ]
    },
    {
     "name": "stdout",
     "output_type": "stream",
     "text": [
      "loading pf\n",
      "loading fbf\n",
      "merging framenumber\n"
     ]
    },
    {
     "name": "stderr",
     "output_type": "stream",
     "text": [
      "/home/dan/miniconda3/envs/netstuff/lib/python3.6/site-packages/imgstore/stores.py:1236: YAMLLoadWarning: calling yaml.load() without Loader=... is deprecated, as the default Loader is unsafe. Please read https://msg.pyyaml.org/load for full details.\n",
      "  clsname = yaml.load(f)[STORE_MD_KEY]['class']\n",
      "/home/dan/miniconda3/envs/netstuff/lib/python3.6/site-packages/imgstore/stores.py:171: YAMLLoadWarning: calling yaml.load() without Loader=... is deprecated, as the default Loader is unsafe. Please read https://msg.pyyaml.org/load for full details.\n",
      "  allmd = yaml.load(f)\n",
      "previous store had incorrect image_shape: corrected (4049, 3866, 3) -> (4048, 3866, 3)\n"
     ]
    },
    {
     "name": "stdout",
     "output_type": "stream",
     "text": [
      "loading pf\n",
      "loading fbf\n",
      "merging framenumber\n"
     ]
    },
    {
     "name": "stderr",
     "output_type": "stream",
     "text": [
      "/home/dan/miniconda3/envs/netstuff/lib/python3.6/site-packages/imgstore/stores.py:1236: YAMLLoadWarning: calling yaml.load() without Loader=... is deprecated, as the default Loader is unsafe. Please read https://msg.pyyaml.org/load for full details.\n",
      "  clsname = yaml.load(f)[STORE_MD_KEY]['class']\n",
      "/home/dan/miniconda3/envs/netstuff/lib/python3.6/site-packages/imgstore/stores.py:171: YAMLLoadWarning: calling yaml.load() without Loader=... is deprecated, as the default Loader is unsafe. Please read https://msg.pyyaml.org/load for full details.\n",
      "  allmd = yaml.load(f)\n",
      "previous store had incorrect image_shape: corrected (4049, 3866, 3) -> (4048, 3866, 3)\n"
     ]
    },
    {
     "name": "stdout",
     "output_type": "stream",
     "text": [
      "loading pf\n",
      "loading fbf\n",
      "merging framenumber\n"
     ]
    },
    {
     "name": "stderr",
     "output_type": "stream",
     "text": [
      "/home/dan/miniconda3/envs/netstuff/lib/python3.6/site-packages/imgstore/stores.py:1236: YAMLLoadWarning: calling yaml.load() without Loader=... is deprecated, as the default Loader is unsafe. Please read https://msg.pyyaml.org/load for full details.\n",
      "  clsname = yaml.load(f)[STORE_MD_KEY]['class']\n",
      "/home/dan/miniconda3/envs/netstuff/lib/python3.6/site-packages/imgstore/stores.py:171: YAMLLoadWarning: calling yaml.load() without Loader=... is deprecated, as the default Loader is unsafe. Please read https://msg.pyyaml.org/load for full details.\n",
      "  allmd = yaml.load(f)\n",
      "previous store had incorrect image_shape: corrected (4049, 3866, 3) -> (4048, 3866, 3)\n"
     ]
    },
    {
     "name": "stdout",
     "output_type": "stream",
     "text": [
      "loading pf\n",
      "loading fbf\n",
      "merging framenumber\n"
     ]
    },
    {
     "name": "stderr",
     "output_type": "stream",
     "text": [
      "/home/dan/miniconda3/envs/netstuff/lib/python3.6/site-packages/imgstore/stores.py:1236: YAMLLoadWarning: calling yaml.load() without Loader=... is deprecated, as the default Loader is unsafe. Please read https://msg.pyyaml.org/load for full details.\n",
      "  clsname = yaml.load(f)[STORE_MD_KEY]['class']\n",
      "/home/dan/miniconda3/envs/netstuff/lib/python3.6/site-packages/imgstore/stores.py:171: YAMLLoadWarning: calling yaml.load() without Loader=... is deprecated, as the default Loader is unsafe. Please read https://msg.pyyaml.org/load for full details.\n",
      "  allmd = yaml.load(f)\n",
      "previous store had incorrect image_shape: corrected (4049, 3866, 3) -> (4048, 3866, 3)\n"
     ]
    },
    {
     "name": "stdout",
     "output_type": "stream",
     "text": [
      "loading pf\n",
      "loading fbf\n",
      "merging framenumber\n",
      "11523\n"
     ]
    },
    {
     "name": "stderr",
     "output_type": "stream",
     "text": [
      "/home/dan/miniconda3/envs/netstuff/lib/python3.6/site-packages/imgstore/stores.py:1236: YAMLLoadWarning: calling yaml.load() without Loader=... is deprecated, as the default Loader is unsafe. Please read https://msg.pyyaml.org/load for full details.\n",
      "  clsname = yaml.load(f)[STORE_MD_KEY]['class']\n",
      "/home/dan/miniconda3/envs/netstuff/lib/python3.6/site-packages/imgstore/stores.py:171: YAMLLoadWarning: calling yaml.load() without Loader=... is deprecated, as the default Loader is unsafe. Please read https://msg.pyyaml.org/load for full details.\n",
      "  allmd = yaml.load(f)\n"
     ]
    },
    {
     "name": "stdout",
     "output_type": "stream",
     "text": [
      "loading pf\n",
      "loading fbf\n",
      "merging framenumber\n"
     ]
    },
    {
     "name": "stderr",
     "output_type": "stream",
     "text": [
      "/home/dan/miniconda3/envs/netstuff/lib/python3.6/site-packages/imgstore/stores.py:1236: YAMLLoadWarning: calling yaml.load() without Loader=... is deprecated, as the default Loader is unsafe. Please read https://msg.pyyaml.org/load for full details.\n",
      "  clsname = yaml.load(f)[STORE_MD_KEY]['class']\n",
      "/home/dan/miniconda3/envs/netstuff/lib/python3.6/site-packages/imgstore/stores.py:171: YAMLLoadWarning: calling yaml.load() without Loader=... is deprecated, as the default Loader is unsafe. Please read https://msg.pyyaml.org/load for full details.\n",
      "  allmd = yaml.load(f)\n"
     ]
    },
    {
     "name": "stdout",
     "output_type": "stream",
     "text": [
      "loading pf\n",
      "loading fbf\n",
      "merging framenumber\n"
     ]
    },
    {
     "name": "stderr",
     "output_type": "stream",
     "text": [
      "/home/dan/miniconda3/envs/netstuff/lib/python3.6/site-packages/imgstore/stores.py:1236: YAMLLoadWarning: calling yaml.load() without Loader=... is deprecated, as the default Loader is unsafe. Please read https://msg.pyyaml.org/load for full details.\n",
      "  clsname = yaml.load(f)[STORE_MD_KEY]['class']\n",
      "/home/dan/miniconda3/envs/netstuff/lib/python3.6/site-packages/imgstore/stores.py:171: YAMLLoadWarning: calling yaml.load() without Loader=... is deprecated, as the default Loader is unsafe. Please read https://msg.pyyaml.org/load for full details.\n",
      "  allmd = yaml.load(f)\n"
     ]
    },
    {
     "name": "stdout",
     "output_type": "stream",
     "text": [
      "loading pf\n",
      "loading fbf\n",
      "merging framenumber\n"
     ]
    },
    {
     "name": "stderr",
     "output_type": "stream",
     "text": [
      "/home/dan/miniconda3/envs/netstuff/lib/python3.6/site-packages/imgstore/stores.py:1236: YAMLLoadWarning: calling yaml.load() without Loader=... is deprecated, as the default Loader is unsafe. Please read https://msg.pyyaml.org/load for full details.\n",
      "  clsname = yaml.load(f)[STORE_MD_KEY]['class']\n",
      "/home/dan/miniconda3/envs/netstuff/lib/python3.6/site-packages/imgstore/stores.py:171: YAMLLoadWarning: calling yaml.load() without Loader=... is deprecated, as the default Loader is unsafe. Please read https://msg.pyyaml.org/load for full details.\n",
      "  allmd = yaml.load(f)\n",
      "previous store had incorrect image_shape: corrected (4049, 3866, 3) -> (4048, 3866, 3)\n"
     ]
    },
    {
     "name": "stdout",
     "output_type": "stream",
     "text": [
      "loading pf\n",
      "loading fbf\n",
      "merging framenumber\n"
     ]
    },
    {
     "name": "stderr",
     "output_type": "stream",
     "text": [
      "/home/dan/miniconda3/envs/netstuff/lib/python3.6/site-packages/imgstore/stores.py:1236: YAMLLoadWarning: calling yaml.load() without Loader=... is deprecated, as the default Loader is unsafe. Please read https://msg.pyyaml.org/load for full details.\n",
      "  clsname = yaml.load(f)[STORE_MD_KEY]['class']\n",
      "/home/dan/miniconda3/envs/netstuff/lib/python3.6/site-packages/imgstore/stores.py:171: YAMLLoadWarning: calling yaml.load() without Loader=... is deprecated, as the default Loader is unsafe. Please read https://msg.pyyaml.org/load for full details.\n",
      "  allmd = yaml.load(f)\n",
      "previous store had incorrect image_shape: corrected (4049, 3866, 3) -> (4048, 3866, 3)\n"
     ]
    },
    {
     "name": "stdout",
     "output_type": "stream",
     "text": [
      "loading pf\n",
      "loading fbf\n",
      "merging framenumber\n"
     ]
    },
    {
     "name": "stderr",
     "output_type": "stream",
     "text": [
      "/home/dan/miniconda3/envs/netstuff/lib/python3.6/site-packages/imgstore/stores.py:1236: YAMLLoadWarning: calling yaml.load() without Loader=... is deprecated, as the default Loader is unsafe. Please read https://msg.pyyaml.org/load for full details.\n",
      "  clsname = yaml.load(f)[STORE_MD_KEY]['class']\n",
      "/home/dan/miniconda3/envs/netstuff/lib/python3.6/site-packages/imgstore/stores.py:171: YAMLLoadWarning: calling yaml.load() without Loader=... is deprecated, as the default Loader is unsafe. Please read https://msg.pyyaml.org/load for full details.\n",
      "  allmd = yaml.load(f)\n",
      "previous store had incorrect image_shape: corrected (4049, 3866, 3) -> (4048, 3866, 3)\n"
     ]
    },
    {
     "name": "stdout",
     "output_type": "stream",
     "text": [
      "loading pf\n",
      "loading fbf\n",
      "merging framenumber\n"
     ]
    },
    {
     "name": "stderr",
     "output_type": "stream",
     "text": [
      "/home/dan/miniconda3/envs/netstuff/lib/python3.6/site-packages/imgstore/stores.py:1236: YAMLLoadWarning: calling yaml.load() without Loader=... is deprecated, as the default Loader is unsafe. Please read https://msg.pyyaml.org/load for full details.\n",
      "  clsname = yaml.load(f)[STORE_MD_KEY]['class']\n",
      "/home/dan/miniconda3/envs/netstuff/lib/python3.6/site-packages/imgstore/stores.py:171: YAMLLoadWarning: calling yaml.load() without Loader=... is deprecated, as the default Loader is unsafe. Please read https://msg.pyyaml.org/load for full details.\n",
      "  allmd = yaml.load(f)\n",
      "previous store had incorrect image_shape: corrected (4049, 3866, 3) -> (4048, 3866, 3)\n"
     ]
    },
    {
     "name": "stdout",
     "output_type": "stream",
     "text": [
      "loading pf\n",
      "loading fbf\n",
      "merging framenumber\n"
     ]
    },
    {
     "name": "stderr",
     "output_type": "stream",
     "text": [
      "/home/dan/miniconda3/envs/netstuff/lib/python3.6/site-packages/imgstore/stores.py:1236: YAMLLoadWarning: calling yaml.load() without Loader=... is deprecated, as the default Loader is unsafe. Please read https://msg.pyyaml.org/load for full details.\n",
      "  clsname = yaml.load(f)[STORE_MD_KEY]['class']\n",
      "/home/dan/miniconda3/envs/netstuff/lib/python3.6/site-packages/imgstore/stores.py:171: YAMLLoadWarning: calling yaml.load() without Loader=... is deprecated, as the default Loader is unsafe. Please read https://msg.pyyaml.org/load for full details.\n",
      "  allmd = yaml.load(f)\n",
      "previous store had incorrect image_shape: corrected (4049, 3866, 3) -> (4048, 3866, 3)\n"
     ]
    },
    {
     "name": "stdout",
     "output_type": "stream",
     "text": [
      "loading pf\n",
      "loading fbf\n",
      "merging framenumber\n",
      "11643\n"
     ]
    },
    {
     "name": "stderr",
     "output_type": "stream",
     "text": [
      "/home/dan/miniconda3/envs/netstuff/lib/python3.6/site-packages/imgstore/stores.py:1236: YAMLLoadWarning: calling yaml.load() without Loader=... is deprecated, as the default Loader is unsafe. Please read https://msg.pyyaml.org/load for full details.\n",
      "  clsname = yaml.load(f)[STORE_MD_KEY]['class']\n",
      "/home/dan/miniconda3/envs/netstuff/lib/python3.6/site-packages/imgstore/stores.py:171: YAMLLoadWarning: calling yaml.load() without Loader=... is deprecated, as the default Loader is unsafe. Please read https://msg.pyyaml.org/load for full details.\n",
      "  allmd = yaml.load(f)\n"
     ]
    },
    {
     "name": "stdout",
     "output_type": "stream",
     "text": [
      "loading pf\n",
      "loading fbf\n",
      "merging framenumber\n"
     ]
    },
    {
     "name": "stderr",
     "output_type": "stream",
     "text": [
      "/home/dan/miniconda3/envs/netstuff/lib/python3.6/site-packages/imgstore/stores.py:1236: YAMLLoadWarning: calling yaml.load() without Loader=... is deprecated, as the default Loader is unsafe. Please read https://msg.pyyaml.org/load for full details.\n",
      "  clsname = yaml.load(f)[STORE_MD_KEY]['class']\n",
      "/home/dan/miniconda3/envs/netstuff/lib/python3.6/site-packages/imgstore/stores.py:171: YAMLLoadWarning: calling yaml.load() without Loader=... is deprecated, as the default Loader is unsafe. Please read https://msg.pyyaml.org/load for full details.\n",
      "  allmd = yaml.load(f)\n"
     ]
    },
    {
     "name": "stdout",
     "output_type": "stream",
     "text": [
      "loading pf\n",
      "loading fbf\n",
      "merging framenumber\n"
     ]
    },
    {
     "name": "stderr",
     "output_type": "stream",
     "text": [
      "/home/dan/miniconda3/envs/netstuff/lib/python3.6/site-packages/imgstore/stores.py:1236: YAMLLoadWarning: calling yaml.load() without Loader=... is deprecated, as the default Loader is unsafe. Please read https://msg.pyyaml.org/load for full details.\n",
      "  clsname = yaml.load(f)[STORE_MD_KEY]['class']\n",
      "/home/dan/miniconda3/envs/netstuff/lib/python3.6/site-packages/imgstore/stores.py:171: YAMLLoadWarning: calling yaml.load() without Loader=... is deprecated, as the default Loader is unsafe. Please read https://msg.pyyaml.org/load for full details.\n",
      "  allmd = yaml.load(f)\n"
     ]
    },
    {
     "name": "stdout",
     "output_type": "stream",
     "text": [
      "loading pf\n",
      "loading fbf\n",
      "merging framenumber\n"
     ]
    },
    {
     "name": "stderr",
     "output_type": "stream",
     "text": [
      "/home/dan/miniconda3/envs/netstuff/lib/python3.6/site-packages/imgstore/stores.py:1236: YAMLLoadWarning: calling yaml.load() without Loader=... is deprecated, as the default Loader is unsafe. Please read https://msg.pyyaml.org/load for full details.\n",
      "  clsname = yaml.load(f)[STORE_MD_KEY]['class']\n",
      "/home/dan/miniconda3/envs/netstuff/lib/python3.6/site-packages/imgstore/stores.py:171: YAMLLoadWarning: calling yaml.load() without Loader=... is deprecated, as the default Loader is unsafe. Please read https://msg.pyyaml.org/load for full details.\n",
      "  allmd = yaml.load(f)\n",
      "previous store had incorrect image_shape: corrected (4049, 3866, 3) -> (4048, 3866, 3)\n"
     ]
    },
    {
     "name": "stdout",
     "output_type": "stream",
     "text": [
      "loading pf\n",
      "loading fbf\n",
      "merging framenumber\n"
     ]
    },
    {
     "name": "stderr",
     "output_type": "stream",
     "text": [
      "/home/dan/miniconda3/envs/netstuff/lib/python3.6/site-packages/imgstore/stores.py:1236: YAMLLoadWarning: calling yaml.load() without Loader=... is deprecated, as the default Loader is unsafe. Please read https://msg.pyyaml.org/load for full details.\n",
      "  clsname = yaml.load(f)[STORE_MD_KEY]['class']\n",
      "/home/dan/miniconda3/envs/netstuff/lib/python3.6/site-packages/imgstore/stores.py:171: YAMLLoadWarning: calling yaml.load() without Loader=... is deprecated, as the default Loader is unsafe. Please read https://msg.pyyaml.org/load for full details.\n",
      "  allmd = yaml.load(f)\n",
      "previous store had incorrect image_shape: corrected (4049, 3866, 3) -> (4048, 3866, 3)\n"
     ]
    },
    {
     "name": "stdout",
     "output_type": "stream",
     "text": [
      "loading pf\n",
      "loading fbf\n",
      "merging framenumber\n"
     ]
    },
    {
     "name": "stderr",
     "output_type": "stream",
     "text": [
      "/home/dan/miniconda3/envs/netstuff/lib/python3.6/site-packages/imgstore/stores.py:1236: YAMLLoadWarning: calling yaml.load() without Loader=... is deprecated, as the default Loader is unsafe. Please read https://msg.pyyaml.org/load for full details.\n",
      "  clsname = yaml.load(f)[STORE_MD_KEY]['class']\n",
      "/home/dan/miniconda3/envs/netstuff/lib/python3.6/site-packages/imgstore/stores.py:171: YAMLLoadWarning: calling yaml.load() without Loader=... is deprecated, as the default Loader is unsafe. Please read https://msg.pyyaml.org/load for full details.\n",
      "  allmd = yaml.load(f)\n",
      "previous store had incorrect image_shape: corrected (4049, 3866, 3) -> (4048, 3866, 3)\n"
     ]
    },
    {
     "name": "stdout",
     "output_type": "stream",
     "text": [
      "loading pf\n",
      "loading fbf\n",
      "merging framenumber\n"
     ]
    },
    {
     "name": "stderr",
     "output_type": "stream",
     "text": [
      "/home/dan/miniconda3/envs/netstuff/lib/python3.6/site-packages/imgstore/stores.py:1236: YAMLLoadWarning: calling yaml.load() without Loader=... is deprecated, as the default Loader is unsafe. Please read https://msg.pyyaml.org/load for full details.\n",
      "  clsname = yaml.load(f)[STORE_MD_KEY]['class']\n",
      "/home/dan/miniconda3/envs/netstuff/lib/python3.6/site-packages/imgstore/stores.py:171: YAMLLoadWarning: calling yaml.load() without Loader=... is deprecated, as the default Loader is unsafe. Please read https://msg.pyyaml.org/load for full details.\n",
      "  allmd = yaml.load(f)\n",
      "previous store had incorrect image_shape: corrected (4049, 3866, 3) -> (4048, 3866, 3)\n"
     ]
    },
    {
     "name": "stdout",
     "output_type": "stream",
     "text": [
      "loading pf\n",
      "loading fbf\n",
      "merging framenumber\n"
     ]
    },
    {
     "name": "stderr",
     "output_type": "stream",
     "text": [
      "/home/dan/miniconda3/envs/netstuff/lib/python3.6/site-packages/imgstore/stores.py:1236: YAMLLoadWarning: calling yaml.load() without Loader=... is deprecated, as the default Loader is unsafe. Please read https://msg.pyyaml.org/load for full details.\n",
      "  clsname = yaml.load(f)[STORE_MD_KEY]['class']\n",
      "/home/dan/miniconda3/envs/netstuff/lib/python3.6/site-packages/imgstore/stores.py:171: YAMLLoadWarning: calling yaml.load() without Loader=... is deprecated, as the default Loader is unsafe. Please read https://msg.pyyaml.org/load for full details.\n",
      "  allmd = yaml.load(f)\n",
      "previous store had incorrect image_shape: corrected (4049, 3866, 3) -> (4048, 3866, 3)\n"
     ]
    },
    {
     "name": "stdout",
     "output_type": "stream",
     "text": [
      "loading pf\n",
      "loading fbf\n",
      "merging framenumber\n",
      "4804\n"
     ]
    },
    {
     "name": "stderr",
     "output_type": "stream",
     "text": [
      "/home/dan/miniconda3/envs/netstuff/lib/python3.6/site-packages/imgstore/stores.py:1236: YAMLLoadWarning: calling yaml.load() without Loader=... is deprecated, as the default Loader is unsafe. Please read https://msg.pyyaml.org/load for full details.\n",
      "  clsname = yaml.load(f)[STORE_MD_KEY]['class']\n",
      "/home/dan/miniconda3/envs/netstuff/lib/python3.6/site-packages/imgstore/stores.py:171: YAMLLoadWarning: calling yaml.load() without Loader=... is deprecated, as the default Loader is unsafe. Please read https://msg.pyyaml.org/load for full details.\n",
      "  allmd = yaml.load(f)\n"
     ]
    },
    {
     "name": "stdout",
     "output_type": "stream",
     "text": [
      "loading pf\n",
      "loading fbf\n",
      "merging framenumber\n"
     ]
    },
    {
     "name": "stderr",
     "output_type": "stream",
     "text": [
      "/home/dan/miniconda3/envs/netstuff/lib/python3.6/site-packages/imgstore/stores.py:1236: YAMLLoadWarning: calling yaml.load() without Loader=... is deprecated, as the default Loader is unsafe. Please read https://msg.pyyaml.org/load for full details.\n",
      "  clsname = yaml.load(f)[STORE_MD_KEY]['class']\n",
      "/home/dan/miniconda3/envs/netstuff/lib/python3.6/site-packages/imgstore/stores.py:171: YAMLLoadWarning: calling yaml.load() without Loader=... is deprecated, as the default Loader is unsafe. Please read https://msg.pyyaml.org/load for full details.\n",
      "  allmd = yaml.load(f)\n"
     ]
    },
    {
     "name": "stdout",
     "output_type": "stream",
     "text": [
      "loading pf\n",
      "loading fbf\n",
      "merging framenumber\n"
     ]
    },
    {
     "name": "stderr",
     "output_type": "stream",
     "text": [
      "/home/dan/miniconda3/envs/netstuff/lib/python3.6/site-packages/imgstore/stores.py:1236: YAMLLoadWarning: calling yaml.load() without Loader=... is deprecated, as the default Loader is unsafe. Please read https://msg.pyyaml.org/load for full details.\n",
      "  clsname = yaml.load(f)[STORE_MD_KEY]['class']\n",
      "/home/dan/miniconda3/envs/netstuff/lib/python3.6/site-packages/imgstore/stores.py:171: YAMLLoadWarning: calling yaml.load() without Loader=... is deprecated, as the default Loader is unsafe. Please read https://msg.pyyaml.org/load for full details.\n",
      "  allmd = yaml.load(f)\n"
     ]
    },
    {
     "name": "stdout",
     "output_type": "stream",
     "text": [
      "loading pf\n",
      "loading fbf\n",
      "merging framenumber\n"
     ]
    },
    {
     "name": "stderr",
     "output_type": "stream",
     "text": [
      "/home/dan/miniconda3/envs/netstuff/lib/python3.6/site-packages/imgstore/stores.py:1236: YAMLLoadWarning: calling yaml.load() without Loader=... is deprecated, as the default Loader is unsafe. Please read https://msg.pyyaml.org/load for full details.\n",
      "  clsname = yaml.load(f)[STORE_MD_KEY]['class']\n",
      "/home/dan/miniconda3/envs/netstuff/lib/python3.6/site-packages/imgstore/stores.py:171: YAMLLoadWarning: calling yaml.load() without Loader=... is deprecated, as the default Loader is unsafe. Please read https://msg.pyyaml.org/load for full details.\n",
      "  allmd = yaml.load(f)\n",
      "previous store had incorrect image_shape: corrected (4049, 3866, 3) -> (4048, 3866, 3)\n"
     ]
    },
    {
     "name": "stdout",
     "output_type": "stream",
     "text": [
      "loading pf\n",
      "loading fbf\n",
      "merging framenumber\n"
     ]
    },
    {
     "name": "stderr",
     "output_type": "stream",
     "text": [
      "/home/dan/miniconda3/envs/netstuff/lib/python3.6/site-packages/imgstore/stores.py:1236: YAMLLoadWarning: calling yaml.load() without Loader=... is deprecated, as the default Loader is unsafe. Please read https://msg.pyyaml.org/load for full details.\n",
      "  clsname = yaml.load(f)[STORE_MD_KEY]['class']\n",
      "/home/dan/miniconda3/envs/netstuff/lib/python3.6/site-packages/imgstore/stores.py:171: YAMLLoadWarning: calling yaml.load() without Loader=... is deprecated, as the default Loader is unsafe. Please read https://msg.pyyaml.org/load for full details.\n",
      "  allmd = yaml.load(f)\n",
      "previous store had incorrect image_shape: corrected (4049, 3866, 3) -> (4048, 3866, 3)\n"
     ]
    },
    {
     "name": "stdout",
     "output_type": "stream",
     "text": [
      "loading pf\n",
      "loading fbf\n",
      "merging framenumber\n"
     ]
    },
    {
     "name": "stderr",
     "output_type": "stream",
     "text": [
      "/home/dan/miniconda3/envs/netstuff/lib/python3.6/site-packages/imgstore/stores.py:1236: YAMLLoadWarning: calling yaml.load() without Loader=... is deprecated, as the default Loader is unsafe. Please read https://msg.pyyaml.org/load for full details.\n",
      "  clsname = yaml.load(f)[STORE_MD_KEY]['class']\n",
      "/home/dan/miniconda3/envs/netstuff/lib/python3.6/site-packages/imgstore/stores.py:171: YAMLLoadWarning: calling yaml.load() without Loader=... is deprecated, as the default Loader is unsafe. Please read https://msg.pyyaml.org/load for full details.\n",
      "  allmd = yaml.load(f)\n",
      "previous store had incorrect image_shape: corrected (4049, 3866, 3) -> (4048, 3866, 3)\n"
     ]
    },
    {
     "name": "stdout",
     "output_type": "stream",
     "text": [
      "loading pf\n",
      "loading fbf\n",
      "merging framenumber\n"
     ]
    },
    {
     "name": "stderr",
     "output_type": "stream",
     "text": [
      "/home/dan/miniconda3/envs/netstuff/lib/python3.6/site-packages/imgstore/stores.py:1236: YAMLLoadWarning: calling yaml.load() without Loader=... is deprecated, as the default Loader is unsafe. Please read https://msg.pyyaml.org/load for full details.\n",
      "  clsname = yaml.load(f)[STORE_MD_KEY]['class']\n",
      "/home/dan/miniconda3/envs/netstuff/lib/python3.6/site-packages/imgstore/stores.py:171: YAMLLoadWarning: calling yaml.load() without Loader=... is deprecated, as the default Loader is unsafe. Please read https://msg.pyyaml.org/load for full details.\n",
      "  allmd = yaml.load(f)\n",
      "previous store had incorrect image_shape: corrected (4049, 3866, 3) -> (4048, 3866, 3)\n"
     ]
    },
    {
     "name": "stdout",
     "output_type": "stream",
     "text": [
      "loading pf\n",
      "loading fbf\n",
      "merging framenumber\n"
     ]
    },
    {
     "name": "stderr",
     "output_type": "stream",
     "text": [
      "/home/dan/miniconda3/envs/netstuff/lib/python3.6/site-packages/imgstore/stores.py:1236: YAMLLoadWarning: calling yaml.load() without Loader=... is deprecated, as the default Loader is unsafe. Please read https://msg.pyyaml.org/load for full details.\n",
      "  clsname = yaml.load(f)[STORE_MD_KEY]['class']\n",
      "/home/dan/miniconda3/envs/netstuff/lib/python3.6/site-packages/imgstore/stores.py:171: YAMLLoadWarning: calling yaml.load() without Loader=... is deprecated, as the default Loader is unsafe. Please read https://msg.pyyaml.org/load for full details.\n",
      "  allmd = yaml.load(f)\n",
      "previous store had incorrect image_shape: corrected (4049, 3866, 3) -> (4048, 3866, 3)\n"
     ]
    },
    {
     "name": "stdout",
     "output_type": "stream",
     "text": [
      "loading pf\n",
      "loading fbf\n",
      "merging framenumber\n",
      "18110\n"
     ]
    },
    {
     "name": "stderr",
     "output_type": "stream",
     "text": [
      "/home/dan/miniconda3/envs/netstuff/lib/python3.6/site-packages/imgstore/stores.py:1236: YAMLLoadWarning: calling yaml.load() without Loader=... is deprecated, as the default Loader is unsafe. Please read https://msg.pyyaml.org/load for full details.\n",
      "  clsname = yaml.load(f)[STORE_MD_KEY]['class']\n",
      "/home/dan/miniconda3/envs/netstuff/lib/python3.6/site-packages/imgstore/stores.py:171: YAMLLoadWarning: calling yaml.load() without Loader=... is deprecated, as the default Loader is unsafe. Please read https://msg.pyyaml.org/load for full details.\n",
      "  allmd = yaml.load(f)\n"
     ]
    },
    {
     "name": "stdout",
     "output_type": "stream",
     "text": [
      "loading pf\n",
      "loading fbf\n",
      "merging framenumber\n"
     ]
    },
    {
     "name": "stderr",
     "output_type": "stream",
     "text": [
      "/home/dan/miniconda3/envs/netstuff/lib/python3.6/site-packages/imgstore/stores.py:1236: YAMLLoadWarning: calling yaml.load() without Loader=... is deprecated, as the default Loader is unsafe. Please read https://msg.pyyaml.org/load for full details.\n",
      "  clsname = yaml.load(f)[STORE_MD_KEY]['class']\n",
      "/home/dan/miniconda3/envs/netstuff/lib/python3.6/site-packages/imgstore/stores.py:171: YAMLLoadWarning: calling yaml.load() without Loader=... is deprecated, as the default Loader is unsafe. Please read https://msg.pyyaml.org/load for full details.\n",
      "  allmd = yaml.load(f)\n"
     ]
    },
    {
     "name": "stdout",
     "output_type": "stream",
     "text": [
      "loading pf\n",
      "loading fbf\n",
      "merging framenumber\n"
     ]
    },
    {
     "name": "stderr",
     "output_type": "stream",
     "text": [
      "/home/dan/miniconda3/envs/netstuff/lib/python3.6/site-packages/imgstore/stores.py:1236: YAMLLoadWarning: calling yaml.load() without Loader=... is deprecated, as the default Loader is unsafe. Please read https://msg.pyyaml.org/load for full details.\n",
      "  clsname = yaml.load(f)[STORE_MD_KEY]['class']\n",
      "/home/dan/miniconda3/envs/netstuff/lib/python3.6/site-packages/imgstore/stores.py:171: YAMLLoadWarning: calling yaml.load() without Loader=... is deprecated, as the default Loader is unsafe. Please read https://msg.pyyaml.org/load for full details.\n",
      "  allmd = yaml.load(f)\n"
     ]
    },
    {
     "name": "stdout",
     "output_type": "stream",
     "text": [
      "loading pf\n",
      "loading fbf\n",
      "merging framenumber\n"
     ]
    },
    {
     "name": "stderr",
     "output_type": "stream",
     "text": [
      "/home/dan/miniconda3/envs/netstuff/lib/python3.6/site-packages/imgstore/stores.py:1236: YAMLLoadWarning: calling yaml.load() without Loader=... is deprecated, as the default Loader is unsafe. Please read https://msg.pyyaml.org/load for full details.\n",
      "  clsname = yaml.load(f)[STORE_MD_KEY]['class']\n",
      "/home/dan/miniconda3/envs/netstuff/lib/python3.6/site-packages/imgstore/stores.py:171: YAMLLoadWarning: calling yaml.load() without Loader=... is deprecated, as the default Loader is unsafe. Please read https://msg.pyyaml.org/load for full details.\n",
      "  allmd = yaml.load(f)\n",
      "previous store had incorrect image_shape: corrected (4049, 3866, 3) -> (4048, 3866, 3)\n"
     ]
    },
    {
     "name": "stdout",
     "output_type": "stream",
     "text": [
      "loading pf\n",
      "loading fbf\n",
      "merging framenumber\n"
     ]
    },
    {
     "name": "stderr",
     "output_type": "stream",
     "text": [
      "/home/dan/miniconda3/envs/netstuff/lib/python3.6/site-packages/imgstore/stores.py:1236: YAMLLoadWarning: calling yaml.load() without Loader=... is deprecated, as the default Loader is unsafe. Please read https://msg.pyyaml.org/load for full details.\n",
      "  clsname = yaml.load(f)[STORE_MD_KEY]['class']\n",
      "/home/dan/miniconda3/envs/netstuff/lib/python3.6/site-packages/imgstore/stores.py:171: YAMLLoadWarning: calling yaml.load() without Loader=... is deprecated, as the default Loader is unsafe. Please read https://msg.pyyaml.org/load for full details.\n",
      "  allmd = yaml.load(f)\n",
      "previous store had incorrect image_shape: corrected (4049, 3866, 3) -> (4048, 3866, 3)\n"
     ]
    },
    {
     "name": "stdout",
     "output_type": "stream",
     "text": [
      "loading pf\n",
      "loading fbf\n",
      "merging framenumber\n"
     ]
    },
    {
     "name": "stderr",
     "output_type": "stream",
     "text": [
      "/home/dan/miniconda3/envs/netstuff/lib/python3.6/site-packages/imgstore/stores.py:1236: YAMLLoadWarning: calling yaml.load() without Loader=... is deprecated, as the default Loader is unsafe. Please read https://msg.pyyaml.org/load for full details.\n",
      "  clsname = yaml.load(f)[STORE_MD_KEY]['class']\n",
      "/home/dan/miniconda3/envs/netstuff/lib/python3.6/site-packages/imgstore/stores.py:171: YAMLLoadWarning: calling yaml.load() without Loader=... is deprecated, as the default Loader is unsafe. Please read https://msg.pyyaml.org/load for full details.\n",
      "  allmd = yaml.load(f)\n",
      "previous store had incorrect image_shape: corrected (4049, 3866, 3) -> (4048, 3866, 3)\n"
     ]
    },
    {
     "name": "stdout",
     "output_type": "stream",
     "text": [
      "loading pf\n",
      "loading fbf\n",
      "merging framenumber\n"
     ]
    },
    {
     "name": "stderr",
     "output_type": "stream",
     "text": [
      "/home/dan/miniconda3/envs/netstuff/lib/python3.6/site-packages/imgstore/stores.py:1236: YAMLLoadWarning: calling yaml.load() without Loader=... is deprecated, as the default Loader is unsafe. Please read https://msg.pyyaml.org/load for full details.\n",
      "  clsname = yaml.load(f)[STORE_MD_KEY]['class']\n",
      "/home/dan/miniconda3/envs/netstuff/lib/python3.6/site-packages/imgstore/stores.py:171: YAMLLoadWarning: calling yaml.load() without Loader=... is deprecated, as the default Loader is unsafe. Please read https://msg.pyyaml.org/load for full details.\n",
      "  allmd = yaml.load(f)\n",
      "previous store had incorrect image_shape: corrected (4049, 3866, 3) -> (4048, 3866, 3)\n"
     ]
    },
    {
     "name": "stdout",
     "output_type": "stream",
     "text": [
      "loading pf\n",
      "loading fbf\n",
      "merging framenumber\n"
     ]
    },
    {
     "name": "stderr",
     "output_type": "stream",
     "text": [
      "/home/dan/miniconda3/envs/netstuff/lib/python3.6/site-packages/imgstore/stores.py:1236: YAMLLoadWarning: calling yaml.load() without Loader=... is deprecated, as the default Loader is unsafe. Please read https://msg.pyyaml.org/load for full details.\n",
      "  clsname = yaml.load(f)[STORE_MD_KEY]['class']\n",
      "/home/dan/miniconda3/envs/netstuff/lib/python3.6/site-packages/imgstore/stores.py:171: YAMLLoadWarning: calling yaml.load() without Loader=... is deprecated, as the default Loader is unsafe. Please read https://msg.pyyaml.org/load for full details.\n",
      "  allmd = yaml.load(f)\n",
      "previous store had incorrect image_shape: corrected (4049, 3866, 3) -> (4048, 3866, 3)\n"
     ]
    },
    {
     "name": "stdout",
     "output_type": "stream",
     "text": [
      "loading pf\n",
      "loading fbf\n",
      "merging framenumber\n",
      "18641\n"
     ]
    },
    {
     "name": "stderr",
     "output_type": "stream",
     "text": [
      "/home/dan/miniconda3/envs/netstuff/lib/python3.6/site-packages/imgstore/stores.py:1236: YAMLLoadWarning: calling yaml.load() without Loader=... is deprecated, as the default Loader is unsafe. Please read https://msg.pyyaml.org/load for full details.\n",
      "  clsname = yaml.load(f)[STORE_MD_KEY]['class']\n",
      "/home/dan/miniconda3/envs/netstuff/lib/python3.6/site-packages/imgstore/stores.py:171: YAMLLoadWarning: calling yaml.load() without Loader=... is deprecated, as the default Loader is unsafe. Please read https://msg.pyyaml.org/load for full details.\n",
      "  allmd = yaml.load(f)\n"
     ]
    },
    {
     "name": "stdout",
     "output_type": "stream",
     "text": [
      "loading pf\n",
      "loading fbf\n",
      "merging framenumber\n"
     ]
    },
    {
     "name": "stderr",
     "output_type": "stream",
     "text": [
      "/home/dan/miniconda3/envs/netstuff/lib/python3.6/site-packages/imgstore/stores.py:1236: YAMLLoadWarning: calling yaml.load() without Loader=... is deprecated, as the default Loader is unsafe. Please read https://msg.pyyaml.org/load for full details.\n",
      "  clsname = yaml.load(f)[STORE_MD_KEY]['class']\n",
      "/home/dan/miniconda3/envs/netstuff/lib/python3.6/site-packages/imgstore/stores.py:171: YAMLLoadWarning: calling yaml.load() without Loader=... is deprecated, as the default Loader is unsafe. Please read https://msg.pyyaml.org/load for full details.\n",
      "  allmd = yaml.load(f)\n"
     ]
    },
    {
     "name": "stdout",
     "output_type": "stream",
     "text": [
      "loading pf\n",
      "loading fbf\n",
      "merging framenumber\n"
     ]
    },
    {
     "name": "stderr",
     "output_type": "stream",
     "text": [
      "/home/dan/miniconda3/envs/netstuff/lib/python3.6/site-packages/imgstore/stores.py:1236: YAMLLoadWarning: calling yaml.load() without Loader=... is deprecated, as the default Loader is unsafe. Please read https://msg.pyyaml.org/load for full details.\n",
      "  clsname = yaml.load(f)[STORE_MD_KEY]['class']\n",
      "/home/dan/miniconda3/envs/netstuff/lib/python3.6/site-packages/imgstore/stores.py:171: YAMLLoadWarning: calling yaml.load() without Loader=... is deprecated, as the default Loader is unsafe. Please read https://msg.pyyaml.org/load for full details.\n",
      "  allmd = yaml.load(f)\n"
     ]
    },
    {
     "name": "stdout",
     "output_type": "stream",
     "text": [
      "loading pf\n",
      "loading fbf\n",
      "merging framenumber\n"
     ]
    },
    {
     "name": "stderr",
     "output_type": "stream",
     "text": [
      "/home/dan/miniconda3/envs/netstuff/lib/python3.6/site-packages/imgstore/stores.py:1236: YAMLLoadWarning: calling yaml.load() without Loader=... is deprecated, as the default Loader is unsafe. Please read https://msg.pyyaml.org/load for full details.\n",
      "  clsname = yaml.load(f)[STORE_MD_KEY]['class']\n",
      "/home/dan/miniconda3/envs/netstuff/lib/python3.6/site-packages/imgstore/stores.py:171: YAMLLoadWarning: calling yaml.load() without Loader=... is deprecated, as the default Loader is unsafe. Please read https://msg.pyyaml.org/load for full details.\n",
      "  allmd = yaml.load(f)\n",
      "previous store had incorrect image_shape: corrected (4049, 3866, 3) -> (4048, 3866, 3)\n"
     ]
    },
    {
     "name": "stdout",
     "output_type": "stream",
     "text": [
      "loading pf\n",
      "loading fbf\n",
      "merging framenumber\n"
     ]
    },
    {
     "name": "stderr",
     "output_type": "stream",
     "text": [
      "/home/dan/miniconda3/envs/netstuff/lib/python3.6/site-packages/imgstore/stores.py:1236: YAMLLoadWarning: calling yaml.load() without Loader=... is deprecated, as the default Loader is unsafe. Please read https://msg.pyyaml.org/load for full details.\n",
      "  clsname = yaml.load(f)[STORE_MD_KEY]['class']\n",
      "/home/dan/miniconda3/envs/netstuff/lib/python3.6/site-packages/imgstore/stores.py:171: YAMLLoadWarning: calling yaml.load() without Loader=... is deprecated, as the default Loader is unsafe. Please read https://msg.pyyaml.org/load for full details.\n",
      "  allmd = yaml.load(f)\n",
      "previous store had incorrect image_shape: corrected (4049, 3866, 3) -> (4048, 3866, 3)\n"
     ]
    },
    {
     "name": "stdout",
     "output_type": "stream",
     "text": [
      "loading pf\n",
      "loading fbf\n",
      "merging framenumber\n"
     ]
    },
    {
     "name": "stderr",
     "output_type": "stream",
     "text": [
      "/home/dan/miniconda3/envs/netstuff/lib/python3.6/site-packages/imgstore/stores.py:1236: YAMLLoadWarning: calling yaml.load() without Loader=... is deprecated, as the default Loader is unsafe. Please read https://msg.pyyaml.org/load for full details.\n",
      "  clsname = yaml.load(f)[STORE_MD_KEY]['class']\n",
      "/home/dan/miniconda3/envs/netstuff/lib/python3.6/site-packages/imgstore/stores.py:171: YAMLLoadWarning: calling yaml.load() without Loader=... is deprecated, as the default Loader is unsafe. Please read https://msg.pyyaml.org/load for full details.\n",
      "  allmd = yaml.load(f)\n",
      "previous store had incorrect image_shape: corrected (4049, 3866, 3) -> (4048, 3866, 3)\n"
     ]
    },
    {
     "name": "stdout",
     "output_type": "stream",
     "text": [
      "loading pf\n",
      "loading fbf\n",
      "merging framenumber\n"
     ]
    },
    {
     "name": "stderr",
     "output_type": "stream",
     "text": [
      "/home/dan/miniconda3/envs/netstuff/lib/python3.6/site-packages/imgstore/stores.py:1236: YAMLLoadWarning: calling yaml.load() without Loader=... is deprecated, as the default Loader is unsafe. Please read https://msg.pyyaml.org/load for full details.\n",
      "  clsname = yaml.load(f)[STORE_MD_KEY]['class']\n",
      "/home/dan/miniconda3/envs/netstuff/lib/python3.6/site-packages/imgstore/stores.py:171: YAMLLoadWarning: calling yaml.load() without Loader=... is deprecated, as the default Loader is unsafe. Please read https://msg.pyyaml.org/load for full details.\n",
      "  allmd = yaml.load(f)\n",
      "previous store had incorrect image_shape: corrected (4049, 3866, 3) -> (4048, 3866, 3)\n"
     ]
    },
    {
     "name": "stdout",
     "output_type": "stream",
     "text": [
      "loading pf\n",
      "loading fbf\n",
      "merging framenumber\n"
     ]
    },
    {
     "name": "stderr",
     "output_type": "stream",
     "text": [
      "/home/dan/miniconda3/envs/netstuff/lib/python3.6/site-packages/imgstore/stores.py:1236: YAMLLoadWarning: calling yaml.load() without Loader=... is deprecated, as the default Loader is unsafe. Please read https://msg.pyyaml.org/load for full details.\n",
      "  clsname = yaml.load(f)[STORE_MD_KEY]['class']\n",
      "/home/dan/miniconda3/envs/netstuff/lib/python3.6/site-packages/imgstore/stores.py:171: YAMLLoadWarning: calling yaml.load() without Loader=... is deprecated, as the default Loader is unsafe. Please read https://msg.pyyaml.org/load for full details.\n",
      "  allmd = yaml.load(f)\n",
      "previous store had incorrect image_shape: corrected (4049, 3866, 3) -> (4048, 3866, 3)\n"
     ]
    },
    {
     "name": "stdout",
     "output_type": "stream",
     "text": [
      "loading pf\n",
      "loading fbf\n",
      "merging framenumber\n",
      "3666\n"
     ]
    },
    {
     "name": "stderr",
     "output_type": "stream",
     "text": [
      "/home/dan/miniconda3/envs/netstuff/lib/python3.6/site-packages/imgstore/stores.py:1236: YAMLLoadWarning: calling yaml.load() without Loader=... is deprecated, as the default Loader is unsafe. Please read https://msg.pyyaml.org/load for full details.\n",
      "  clsname = yaml.load(f)[STORE_MD_KEY]['class']\n",
      "/home/dan/miniconda3/envs/netstuff/lib/python3.6/site-packages/imgstore/stores.py:171: YAMLLoadWarning: calling yaml.load() without Loader=... is deprecated, as the default Loader is unsafe. Please read https://msg.pyyaml.org/load for full details.\n",
      "  allmd = yaml.load(f)\n"
     ]
    },
    {
     "name": "stdout",
     "output_type": "stream",
     "text": [
      "loading pf\n",
      "loading fbf\n",
      "merging framenumber\n"
     ]
    },
    {
     "name": "stderr",
     "output_type": "stream",
     "text": [
      "/home/dan/miniconda3/envs/netstuff/lib/python3.6/site-packages/imgstore/stores.py:1236: YAMLLoadWarning: calling yaml.load() without Loader=... is deprecated, as the default Loader is unsafe. Please read https://msg.pyyaml.org/load for full details.\n",
      "  clsname = yaml.load(f)[STORE_MD_KEY]['class']\n",
      "/home/dan/miniconda3/envs/netstuff/lib/python3.6/site-packages/imgstore/stores.py:171: YAMLLoadWarning: calling yaml.load() without Loader=... is deprecated, as the default Loader is unsafe. Please read https://msg.pyyaml.org/load for full details.\n",
      "  allmd = yaml.load(f)\n"
     ]
    },
    {
     "name": "stdout",
     "output_type": "stream",
     "text": [
      "loading pf\n",
      "loading fbf\n",
      "merging framenumber\n"
     ]
    },
    {
     "name": "stderr",
     "output_type": "stream",
     "text": [
      "/home/dan/miniconda3/envs/netstuff/lib/python3.6/site-packages/imgstore/stores.py:1236: YAMLLoadWarning: calling yaml.load() without Loader=... is deprecated, as the default Loader is unsafe. Please read https://msg.pyyaml.org/load for full details.\n",
      "  clsname = yaml.load(f)[STORE_MD_KEY]['class']\n",
      "/home/dan/miniconda3/envs/netstuff/lib/python3.6/site-packages/imgstore/stores.py:171: YAMLLoadWarning: calling yaml.load() without Loader=... is deprecated, as the default Loader is unsafe. Please read https://msg.pyyaml.org/load for full details.\n",
      "  allmd = yaml.load(f)\n"
     ]
    },
    {
     "name": "stdout",
     "output_type": "stream",
     "text": [
      "loading pf\n",
      "loading fbf\n",
      "merging framenumber\n"
     ]
    },
    {
     "name": "stderr",
     "output_type": "stream",
     "text": [
      "/home/dan/miniconda3/envs/netstuff/lib/python3.6/site-packages/imgstore/stores.py:1236: YAMLLoadWarning: calling yaml.load() without Loader=... is deprecated, as the default Loader is unsafe. Please read https://msg.pyyaml.org/load for full details.\n",
      "  clsname = yaml.load(f)[STORE_MD_KEY]['class']\n",
      "/home/dan/miniconda3/envs/netstuff/lib/python3.6/site-packages/imgstore/stores.py:171: YAMLLoadWarning: calling yaml.load() without Loader=... is deprecated, as the default Loader is unsafe. Please read https://msg.pyyaml.org/load for full details.\n",
      "  allmd = yaml.load(f)\n",
      "previous store had incorrect image_shape: corrected (4049, 3866, 3) -> (4048, 3866, 3)\n"
     ]
    },
    {
     "name": "stdout",
     "output_type": "stream",
     "text": [
      "loading pf\n",
      "loading fbf\n",
      "merging framenumber\n"
     ]
    },
    {
     "name": "stderr",
     "output_type": "stream",
     "text": [
      "/home/dan/miniconda3/envs/netstuff/lib/python3.6/site-packages/imgstore/stores.py:1236: YAMLLoadWarning: calling yaml.load() without Loader=... is deprecated, as the default Loader is unsafe. Please read https://msg.pyyaml.org/load for full details.\n",
      "  clsname = yaml.load(f)[STORE_MD_KEY]['class']\n",
      "/home/dan/miniconda3/envs/netstuff/lib/python3.6/site-packages/imgstore/stores.py:171: YAMLLoadWarning: calling yaml.load() without Loader=... is deprecated, as the default Loader is unsafe. Please read https://msg.pyyaml.org/load for full details.\n",
      "  allmd = yaml.load(f)\n",
      "previous store had incorrect image_shape: corrected (4049, 3866, 3) -> (4048, 3866, 3)\n"
     ]
    },
    {
     "name": "stdout",
     "output_type": "stream",
     "text": [
      "loading pf\n",
      "loading fbf\n",
      "merging framenumber\n"
     ]
    },
    {
     "name": "stderr",
     "output_type": "stream",
     "text": [
      "/home/dan/miniconda3/envs/netstuff/lib/python3.6/site-packages/imgstore/stores.py:1236: YAMLLoadWarning: calling yaml.load() without Loader=... is deprecated, as the default Loader is unsafe. Please read https://msg.pyyaml.org/load for full details.\n",
      "  clsname = yaml.load(f)[STORE_MD_KEY]['class']\n",
      "/home/dan/miniconda3/envs/netstuff/lib/python3.6/site-packages/imgstore/stores.py:171: YAMLLoadWarning: calling yaml.load() without Loader=... is deprecated, as the default Loader is unsafe. Please read https://msg.pyyaml.org/load for full details.\n",
      "  allmd = yaml.load(f)\n",
      "previous store had incorrect image_shape: corrected (4049, 3866, 3) -> (4048, 3866, 3)\n"
     ]
    },
    {
     "name": "stdout",
     "output_type": "stream",
     "text": [
      "loading pf\n",
      "loading fbf\n",
      "merging framenumber\n"
     ]
    },
    {
     "name": "stderr",
     "output_type": "stream",
     "text": [
      "/home/dan/miniconda3/envs/netstuff/lib/python3.6/site-packages/imgstore/stores.py:1236: YAMLLoadWarning: calling yaml.load() without Loader=... is deprecated, as the default Loader is unsafe. Please read https://msg.pyyaml.org/load for full details.\n",
      "  clsname = yaml.load(f)[STORE_MD_KEY]['class']\n",
      "/home/dan/miniconda3/envs/netstuff/lib/python3.6/site-packages/imgstore/stores.py:171: YAMLLoadWarning: calling yaml.load() without Loader=... is deprecated, as the default Loader is unsafe. Please read https://msg.pyyaml.org/load for full details.\n",
      "  allmd = yaml.load(f)\n",
      "previous store had incorrect image_shape: corrected (4049, 3866, 3) -> (4048, 3866, 3)\n"
     ]
    },
    {
     "name": "stdout",
     "output_type": "stream",
     "text": [
      "loading pf\n",
      "loading fbf\n",
      "merging framenumber\n"
     ]
    },
    {
     "name": "stderr",
     "output_type": "stream",
     "text": [
      "/home/dan/miniconda3/envs/netstuff/lib/python3.6/site-packages/imgstore/stores.py:1236: YAMLLoadWarning: calling yaml.load() without Loader=... is deprecated, as the default Loader is unsafe. Please read https://msg.pyyaml.org/load for full details.\n",
      "  clsname = yaml.load(f)[STORE_MD_KEY]['class']\n",
      "/home/dan/miniconda3/envs/netstuff/lib/python3.6/site-packages/imgstore/stores.py:171: YAMLLoadWarning: calling yaml.load() without Loader=... is deprecated, as the default Loader is unsafe. Please read https://msg.pyyaml.org/load for full details.\n",
      "  allmd = yaml.load(f)\n",
      "previous store had incorrect image_shape: corrected (4049, 3866, 3) -> (4048, 3866, 3)\n"
     ]
    },
    {
     "name": "stdout",
     "output_type": "stream",
     "text": [
      "loading pf\n",
      "loading fbf\n",
      "merging framenumber\n",
      "5823\n"
     ]
    },
    {
     "name": "stderr",
     "output_type": "stream",
     "text": [
      "/home/dan/miniconda3/envs/netstuff/lib/python3.6/site-packages/imgstore/stores.py:1236: YAMLLoadWarning: calling yaml.load() without Loader=... is deprecated, as the default Loader is unsafe. Please read https://msg.pyyaml.org/load for full details.\n",
      "  clsname = yaml.load(f)[STORE_MD_KEY]['class']\n",
      "/home/dan/miniconda3/envs/netstuff/lib/python3.6/site-packages/imgstore/stores.py:171: YAMLLoadWarning: calling yaml.load() without Loader=... is deprecated, as the default Loader is unsafe. Please read https://msg.pyyaml.org/load for full details.\n",
      "  allmd = yaml.load(f)\n"
     ]
    },
    {
     "name": "stdout",
     "output_type": "stream",
     "text": [
      "loading pf\n",
      "loading fbf\n",
      "merging framenumber\n"
     ]
    },
    {
     "name": "stderr",
     "output_type": "stream",
     "text": [
      "/home/dan/miniconda3/envs/netstuff/lib/python3.6/site-packages/imgstore/stores.py:1236: YAMLLoadWarning: calling yaml.load() without Loader=... is deprecated, as the default Loader is unsafe. Please read https://msg.pyyaml.org/load for full details.\n",
      "  clsname = yaml.load(f)[STORE_MD_KEY]['class']\n",
      "/home/dan/miniconda3/envs/netstuff/lib/python3.6/site-packages/imgstore/stores.py:171: YAMLLoadWarning: calling yaml.load() without Loader=... is deprecated, as the default Loader is unsafe. Please read https://msg.pyyaml.org/load for full details.\n",
      "  allmd = yaml.load(f)\n"
     ]
    },
    {
     "name": "stdout",
     "output_type": "stream",
     "text": [
      "loading pf\n",
      "loading fbf\n",
      "merging framenumber\n"
     ]
    },
    {
     "name": "stderr",
     "output_type": "stream",
     "text": [
      "/home/dan/miniconda3/envs/netstuff/lib/python3.6/site-packages/imgstore/stores.py:1236: YAMLLoadWarning: calling yaml.load() without Loader=... is deprecated, as the default Loader is unsafe. Please read https://msg.pyyaml.org/load for full details.\n",
      "  clsname = yaml.load(f)[STORE_MD_KEY]['class']\n",
      "/home/dan/miniconda3/envs/netstuff/lib/python3.6/site-packages/imgstore/stores.py:171: YAMLLoadWarning: calling yaml.load() without Loader=... is deprecated, as the default Loader is unsafe. Please read https://msg.pyyaml.org/load for full details.\n",
      "  allmd = yaml.load(f)\n"
     ]
    },
    {
     "name": "stdout",
     "output_type": "stream",
     "text": [
      "loading pf\n",
      "loading fbf\n",
      "merging framenumber\n"
     ]
    },
    {
     "name": "stderr",
     "output_type": "stream",
     "text": [
      "/home/dan/miniconda3/envs/netstuff/lib/python3.6/site-packages/imgstore/stores.py:1236: YAMLLoadWarning: calling yaml.load() without Loader=... is deprecated, as the default Loader is unsafe. Please read https://msg.pyyaml.org/load for full details.\n",
      "  clsname = yaml.load(f)[STORE_MD_KEY]['class']\n",
      "/home/dan/miniconda3/envs/netstuff/lib/python3.6/site-packages/imgstore/stores.py:171: YAMLLoadWarning: calling yaml.load() without Loader=... is deprecated, as the default Loader is unsafe. Please read https://msg.pyyaml.org/load for full details.\n",
      "  allmd = yaml.load(f)\n",
      "previous store had incorrect image_shape: corrected (4049, 3866, 3) -> (4048, 3866, 3)\n"
     ]
    },
    {
     "name": "stdout",
     "output_type": "stream",
     "text": [
      "loading pf\n",
      "loading fbf\n",
      "merging framenumber\n"
     ]
    },
    {
     "name": "stderr",
     "output_type": "stream",
     "text": [
      "/home/dan/miniconda3/envs/netstuff/lib/python3.6/site-packages/imgstore/stores.py:1236: YAMLLoadWarning: calling yaml.load() without Loader=... is deprecated, as the default Loader is unsafe. Please read https://msg.pyyaml.org/load for full details.\n",
      "  clsname = yaml.load(f)[STORE_MD_KEY]['class']\n",
      "/home/dan/miniconda3/envs/netstuff/lib/python3.6/site-packages/imgstore/stores.py:171: YAMLLoadWarning: calling yaml.load() without Loader=... is deprecated, as the default Loader is unsafe. Please read https://msg.pyyaml.org/load for full details.\n",
      "  allmd = yaml.load(f)\n",
      "previous store had incorrect image_shape: corrected (4049, 3866, 3) -> (4048, 3866, 3)\n"
     ]
    },
    {
     "name": "stdout",
     "output_type": "stream",
     "text": [
      "loading pf\n",
      "loading fbf\n",
      "merging framenumber\n"
     ]
    },
    {
     "name": "stderr",
     "output_type": "stream",
     "text": [
      "/home/dan/miniconda3/envs/netstuff/lib/python3.6/site-packages/imgstore/stores.py:1236: YAMLLoadWarning: calling yaml.load() without Loader=... is deprecated, as the default Loader is unsafe. Please read https://msg.pyyaml.org/load for full details.\n",
      "  clsname = yaml.load(f)[STORE_MD_KEY]['class']\n",
      "/home/dan/miniconda3/envs/netstuff/lib/python3.6/site-packages/imgstore/stores.py:171: YAMLLoadWarning: calling yaml.load() without Loader=... is deprecated, as the default Loader is unsafe. Please read https://msg.pyyaml.org/load for full details.\n",
      "  allmd = yaml.load(f)\n",
      "previous store had incorrect image_shape: corrected (4049, 3866, 3) -> (4048, 3866, 3)\n"
     ]
    },
    {
     "name": "stdout",
     "output_type": "stream",
     "text": [
      "loading pf\n",
      "loading fbf\n",
      "merging framenumber\n"
     ]
    },
    {
     "name": "stderr",
     "output_type": "stream",
     "text": [
      "/home/dan/miniconda3/envs/netstuff/lib/python3.6/site-packages/imgstore/stores.py:1236: YAMLLoadWarning: calling yaml.load() without Loader=... is deprecated, as the default Loader is unsafe. Please read https://msg.pyyaml.org/load for full details.\n",
      "  clsname = yaml.load(f)[STORE_MD_KEY]['class']\n",
      "/home/dan/miniconda3/envs/netstuff/lib/python3.6/site-packages/imgstore/stores.py:171: YAMLLoadWarning: calling yaml.load() without Loader=... is deprecated, as the default Loader is unsafe. Please read https://msg.pyyaml.org/load for full details.\n",
      "  allmd = yaml.load(f)\n",
      "previous store had incorrect image_shape: corrected (4049, 3866, 3) -> (4048, 3866, 3)\n"
     ]
    },
    {
     "name": "stdout",
     "output_type": "stream",
     "text": [
      "loading pf\n",
      "loading fbf\n",
      "merging framenumber\n"
     ]
    },
    {
     "name": "stderr",
     "output_type": "stream",
     "text": [
      "/home/dan/miniconda3/envs/netstuff/lib/python3.6/site-packages/imgstore/stores.py:1236: YAMLLoadWarning: calling yaml.load() without Loader=... is deprecated, as the default Loader is unsafe. Please read https://msg.pyyaml.org/load for full details.\n",
      "  clsname = yaml.load(f)[STORE_MD_KEY]['class']\n",
      "/home/dan/miniconda3/envs/netstuff/lib/python3.6/site-packages/imgstore/stores.py:171: YAMLLoadWarning: calling yaml.load() without Loader=... is deprecated, as the default Loader is unsafe. Please read https://msg.pyyaml.org/load for full details.\n",
      "  allmd = yaml.load(f)\n",
      "previous store had incorrect image_shape: corrected (4049, 3866, 3) -> (4048, 3866, 3)\n"
     ]
    },
    {
     "name": "stdout",
     "output_type": "stream",
     "text": [
      "loading pf\n",
      "loading fbf\n",
      "merging framenumber\n",
      "2148\n"
     ]
    },
    {
     "name": "stderr",
     "output_type": "stream",
     "text": [
      "/home/dan/miniconda3/envs/netstuff/lib/python3.6/site-packages/imgstore/stores.py:1236: YAMLLoadWarning: calling yaml.load() without Loader=... is deprecated, as the default Loader is unsafe. Please read https://msg.pyyaml.org/load for full details.\n",
      "  clsname = yaml.load(f)[STORE_MD_KEY]['class']\n",
      "/home/dan/miniconda3/envs/netstuff/lib/python3.6/site-packages/imgstore/stores.py:171: YAMLLoadWarning: calling yaml.load() without Loader=... is deprecated, as the default Loader is unsafe. Please read https://msg.pyyaml.org/load for full details.\n",
      "  allmd = yaml.load(f)\n"
     ]
    },
    {
     "name": "stdout",
     "output_type": "stream",
     "text": [
      "loading pf\n",
      "loading fbf\n",
      "merging framenumber\n"
     ]
    },
    {
     "name": "stderr",
     "output_type": "stream",
     "text": [
      "/home/dan/miniconda3/envs/netstuff/lib/python3.6/site-packages/imgstore/stores.py:1236: YAMLLoadWarning: calling yaml.load() without Loader=... is deprecated, as the default Loader is unsafe. Please read https://msg.pyyaml.org/load for full details.\n",
      "  clsname = yaml.load(f)[STORE_MD_KEY]['class']\n",
      "/home/dan/miniconda3/envs/netstuff/lib/python3.6/site-packages/imgstore/stores.py:171: YAMLLoadWarning: calling yaml.load() without Loader=... is deprecated, as the default Loader is unsafe. Please read https://msg.pyyaml.org/load for full details.\n",
      "  allmd = yaml.load(f)\n"
     ]
    },
    {
     "name": "stdout",
     "output_type": "stream",
     "text": [
      "loading pf\n",
      "loading fbf\n",
      "merging framenumber\n"
     ]
    },
    {
     "name": "stderr",
     "output_type": "stream",
     "text": [
      "/home/dan/miniconda3/envs/netstuff/lib/python3.6/site-packages/imgstore/stores.py:1236: YAMLLoadWarning: calling yaml.load() without Loader=... is deprecated, as the default Loader is unsafe. Please read https://msg.pyyaml.org/load for full details.\n",
      "  clsname = yaml.load(f)[STORE_MD_KEY]['class']\n",
      "/home/dan/miniconda3/envs/netstuff/lib/python3.6/site-packages/imgstore/stores.py:171: YAMLLoadWarning: calling yaml.load() without Loader=... is deprecated, as the default Loader is unsafe. Please read https://msg.pyyaml.org/load for full details.\n",
      "  allmd = yaml.load(f)\n"
     ]
    },
    {
     "name": "stdout",
     "output_type": "stream",
     "text": [
      "loading pf\n",
      "loading fbf\n",
      "merging framenumber\n"
     ]
    },
    {
     "name": "stderr",
     "output_type": "stream",
     "text": [
      "/home/dan/miniconda3/envs/netstuff/lib/python3.6/site-packages/imgstore/stores.py:1236: YAMLLoadWarning: calling yaml.load() without Loader=... is deprecated, as the default Loader is unsafe. Please read https://msg.pyyaml.org/load for full details.\n",
      "  clsname = yaml.load(f)[STORE_MD_KEY]['class']\n",
      "/home/dan/miniconda3/envs/netstuff/lib/python3.6/site-packages/imgstore/stores.py:171: YAMLLoadWarning: calling yaml.load() without Loader=... is deprecated, as the default Loader is unsafe. Please read https://msg.pyyaml.org/load for full details.\n",
      "  allmd = yaml.load(f)\n",
      "previous store had incorrect image_shape: corrected (4049, 3866, 3) -> (4048, 3866, 3)\n"
     ]
    },
    {
     "name": "stdout",
     "output_type": "stream",
     "text": [
      "loading pf\n",
      "loading fbf\n",
      "merging framenumber\n"
     ]
    },
    {
     "name": "stderr",
     "output_type": "stream",
     "text": [
      "/home/dan/miniconda3/envs/netstuff/lib/python3.6/site-packages/imgstore/stores.py:1236: YAMLLoadWarning: calling yaml.load() without Loader=... is deprecated, as the default Loader is unsafe. Please read https://msg.pyyaml.org/load for full details.\n",
      "  clsname = yaml.load(f)[STORE_MD_KEY]['class']\n",
      "/home/dan/miniconda3/envs/netstuff/lib/python3.6/site-packages/imgstore/stores.py:171: YAMLLoadWarning: calling yaml.load() without Loader=... is deprecated, as the default Loader is unsafe. Please read https://msg.pyyaml.org/load for full details.\n",
      "  allmd = yaml.load(f)\n",
      "previous store had incorrect image_shape: corrected (4049, 3866, 3) -> (4048, 3866, 3)\n"
     ]
    },
    {
     "name": "stdout",
     "output_type": "stream",
     "text": [
      "loading pf\n",
      "loading fbf\n",
      "merging framenumber\n"
     ]
    },
    {
     "name": "stderr",
     "output_type": "stream",
     "text": [
      "/home/dan/miniconda3/envs/netstuff/lib/python3.6/site-packages/imgstore/stores.py:1236: YAMLLoadWarning: calling yaml.load() without Loader=... is deprecated, as the default Loader is unsafe. Please read https://msg.pyyaml.org/load for full details.\n",
      "  clsname = yaml.load(f)[STORE_MD_KEY]['class']\n",
      "/home/dan/miniconda3/envs/netstuff/lib/python3.6/site-packages/imgstore/stores.py:171: YAMLLoadWarning: calling yaml.load() without Loader=... is deprecated, as the default Loader is unsafe. Please read https://msg.pyyaml.org/load for full details.\n",
      "  allmd = yaml.load(f)\n",
      "previous store had incorrect image_shape: corrected (4049, 3866, 3) -> (4048, 3866, 3)\n"
     ]
    },
    {
     "name": "stdout",
     "output_type": "stream",
     "text": [
      "loading pf\n",
      "loading fbf\n",
      "merging framenumber\n"
     ]
    },
    {
     "name": "stderr",
     "output_type": "stream",
     "text": [
      "/home/dan/miniconda3/envs/netstuff/lib/python3.6/site-packages/imgstore/stores.py:1236: YAMLLoadWarning: calling yaml.load() without Loader=... is deprecated, as the default Loader is unsafe. Please read https://msg.pyyaml.org/load for full details.\n",
      "  clsname = yaml.load(f)[STORE_MD_KEY]['class']\n",
      "/home/dan/miniconda3/envs/netstuff/lib/python3.6/site-packages/imgstore/stores.py:171: YAMLLoadWarning: calling yaml.load() without Loader=... is deprecated, as the default Loader is unsafe. Please read https://msg.pyyaml.org/load for full details.\n",
      "  allmd = yaml.load(f)\n",
      "previous store had incorrect image_shape: corrected (4049, 3866, 3) -> (4048, 3866, 3)\n"
     ]
    },
    {
     "name": "stdout",
     "output_type": "stream",
     "text": [
      "loading pf\n",
      "loading fbf\n",
      "merging framenumber\n"
     ]
    },
    {
     "name": "stderr",
     "output_type": "stream",
     "text": [
      "/home/dan/miniconda3/envs/netstuff/lib/python3.6/site-packages/imgstore/stores.py:1236: YAMLLoadWarning: calling yaml.load() without Loader=... is deprecated, as the default Loader is unsafe. Please read https://msg.pyyaml.org/load for full details.\n",
      "  clsname = yaml.load(f)[STORE_MD_KEY]['class']\n",
      "/home/dan/miniconda3/envs/netstuff/lib/python3.6/site-packages/imgstore/stores.py:171: YAMLLoadWarning: calling yaml.load() without Loader=... is deprecated, as the default Loader is unsafe. Please read https://msg.pyyaml.org/load for full details.\n",
      "  allmd = yaml.load(f)\n",
      "previous store had incorrect image_shape: corrected (4049, 3866, 3) -> (4048, 3866, 3)\n"
     ]
    },
    {
     "name": "stdout",
     "output_type": "stream",
     "text": [
      "loading pf\n",
      "loading fbf\n",
      "merging framenumber\n",
      "1996\n"
     ]
    },
    {
     "name": "stderr",
     "output_type": "stream",
     "text": [
      "/home/dan/miniconda3/envs/netstuff/lib/python3.6/site-packages/imgstore/stores.py:1236: YAMLLoadWarning: calling yaml.load() without Loader=... is deprecated, as the default Loader is unsafe. Please read https://msg.pyyaml.org/load for full details.\n",
      "  clsname = yaml.load(f)[STORE_MD_KEY]['class']\n",
      "/home/dan/miniconda3/envs/netstuff/lib/python3.6/site-packages/imgstore/stores.py:171: YAMLLoadWarning: calling yaml.load() without Loader=... is deprecated, as the default Loader is unsafe. Please read https://msg.pyyaml.org/load for full details.\n",
      "  allmd = yaml.load(f)\n"
     ]
    },
    {
     "name": "stdout",
     "output_type": "stream",
     "text": [
      "loading pf\n",
      "loading fbf\n",
      "merging framenumber\n"
     ]
    },
    {
     "name": "stderr",
     "output_type": "stream",
     "text": [
      "/home/dan/miniconda3/envs/netstuff/lib/python3.6/site-packages/imgstore/stores.py:1236: YAMLLoadWarning: calling yaml.load() without Loader=... is deprecated, as the default Loader is unsafe. Please read https://msg.pyyaml.org/load for full details.\n",
      "  clsname = yaml.load(f)[STORE_MD_KEY]['class']\n",
      "/home/dan/miniconda3/envs/netstuff/lib/python3.6/site-packages/imgstore/stores.py:171: YAMLLoadWarning: calling yaml.load() without Loader=... is deprecated, as the default Loader is unsafe. Please read https://msg.pyyaml.org/load for full details.\n",
      "  allmd = yaml.load(f)\n"
     ]
    },
    {
     "name": "stdout",
     "output_type": "stream",
     "text": [
      "loading pf\n",
      "loading fbf\n",
      "merging framenumber\n"
     ]
    },
    {
     "name": "stderr",
     "output_type": "stream",
     "text": [
      "/home/dan/miniconda3/envs/netstuff/lib/python3.6/site-packages/imgstore/stores.py:1236: YAMLLoadWarning: calling yaml.load() without Loader=... is deprecated, as the default Loader is unsafe. Please read https://msg.pyyaml.org/load for full details.\n",
      "  clsname = yaml.load(f)[STORE_MD_KEY]['class']\n",
      "/home/dan/miniconda3/envs/netstuff/lib/python3.6/site-packages/imgstore/stores.py:171: YAMLLoadWarning: calling yaml.load() without Loader=... is deprecated, as the default Loader is unsafe. Please read https://msg.pyyaml.org/load for full details.\n",
      "  allmd = yaml.load(f)\n"
     ]
    },
    {
     "name": "stdout",
     "output_type": "stream",
     "text": [
      "loading pf\n",
      "loading fbf\n",
      "merging framenumber\n"
     ]
    },
    {
     "name": "stderr",
     "output_type": "stream",
     "text": [
      "/home/dan/miniconda3/envs/netstuff/lib/python3.6/site-packages/imgstore/stores.py:1236: YAMLLoadWarning: calling yaml.load() without Loader=... is deprecated, as the default Loader is unsafe. Please read https://msg.pyyaml.org/load for full details.\n",
      "  clsname = yaml.load(f)[STORE_MD_KEY]['class']\n",
      "/home/dan/miniconda3/envs/netstuff/lib/python3.6/site-packages/imgstore/stores.py:171: YAMLLoadWarning: calling yaml.load() without Loader=... is deprecated, as the default Loader is unsafe. Please read https://msg.pyyaml.org/load for full details.\n",
      "  allmd = yaml.load(f)\n",
      "previous store had incorrect image_shape: corrected (4049, 3866, 3) -> (4048, 3866, 3)\n"
     ]
    },
    {
     "name": "stdout",
     "output_type": "stream",
     "text": [
      "loading pf\n",
      "loading fbf\n",
      "merging framenumber\n"
     ]
    },
    {
     "name": "stderr",
     "output_type": "stream",
     "text": [
      "/home/dan/miniconda3/envs/netstuff/lib/python3.6/site-packages/imgstore/stores.py:1236: YAMLLoadWarning: calling yaml.load() without Loader=... is deprecated, as the default Loader is unsafe. Please read https://msg.pyyaml.org/load for full details.\n",
      "  clsname = yaml.load(f)[STORE_MD_KEY]['class']\n",
      "/home/dan/miniconda3/envs/netstuff/lib/python3.6/site-packages/imgstore/stores.py:171: YAMLLoadWarning: calling yaml.load() without Loader=... is deprecated, as the default Loader is unsafe. Please read https://msg.pyyaml.org/load for full details.\n",
      "  allmd = yaml.load(f)\n",
      "previous store had incorrect image_shape: corrected (4049, 3866, 3) -> (4048, 3866, 3)\n"
     ]
    },
    {
     "name": "stdout",
     "output_type": "stream",
     "text": [
      "loading pf\n",
      "loading fbf\n",
      "merging framenumber\n"
     ]
    },
    {
     "name": "stderr",
     "output_type": "stream",
     "text": [
      "/home/dan/miniconda3/envs/netstuff/lib/python3.6/site-packages/imgstore/stores.py:1236: YAMLLoadWarning: calling yaml.load() without Loader=... is deprecated, as the default Loader is unsafe. Please read https://msg.pyyaml.org/load for full details.\n",
      "  clsname = yaml.load(f)[STORE_MD_KEY]['class']\n",
      "/home/dan/miniconda3/envs/netstuff/lib/python3.6/site-packages/imgstore/stores.py:171: YAMLLoadWarning: calling yaml.load() without Loader=... is deprecated, as the default Loader is unsafe. Please read https://msg.pyyaml.org/load for full details.\n",
      "  allmd = yaml.load(f)\n",
      "previous store had incorrect image_shape: corrected (4049, 3866, 3) -> (4048, 3866, 3)\n"
     ]
    },
    {
     "name": "stdout",
     "output_type": "stream",
     "text": [
      "loading pf\n",
      "loading fbf\n",
      "merging framenumber\n"
     ]
    },
    {
     "name": "stderr",
     "output_type": "stream",
     "text": [
      "/home/dan/miniconda3/envs/netstuff/lib/python3.6/site-packages/imgstore/stores.py:1236: YAMLLoadWarning: calling yaml.load() without Loader=... is deprecated, as the default Loader is unsafe. Please read https://msg.pyyaml.org/load for full details.\n",
      "  clsname = yaml.load(f)[STORE_MD_KEY]['class']\n",
      "/home/dan/miniconda3/envs/netstuff/lib/python3.6/site-packages/imgstore/stores.py:171: YAMLLoadWarning: calling yaml.load() without Loader=... is deprecated, as the default Loader is unsafe. Please read https://msg.pyyaml.org/load for full details.\n",
      "  allmd = yaml.load(f)\n",
      "previous store had incorrect image_shape: corrected (4049, 3866, 3) -> (4048, 3866, 3)\n"
     ]
    },
    {
     "name": "stdout",
     "output_type": "stream",
     "text": [
      "loading pf\n",
      "loading fbf\n",
      "merging framenumber\n"
     ]
    },
    {
     "name": "stderr",
     "output_type": "stream",
     "text": [
      "/home/dan/miniconda3/envs/netstuff/lib/python3.6/site-packages/imgstore/stores.py:1236: YAMLLoadWarning: calling yaml.load() without Loader=... is deprecated, as the default Loader is unsafe. Please read https://msg.pyyaml.org/load for full details.\n",
      "  clsname = yaml.load(f)[STORE_MD_KEY]['class']\n",
      "/home/dan/miniconda3/envs/netstuff/lib/python3.6/site-packages/imgstore/stores.py:171: YAMLLoadWarning: calling yaml.load() without Loader=... is deprecated, as the default Loader is unsafe. Please read https://msg.pyyaml.org/load for full details.\n",
      "  allmd = yaml.load(f)\n",
      "previous store had incorrect image_shape: corrected (4049, 3866, 3) -> (4048, 3866, 3)\n"
     ]
    },
    {
     "name": "stdout",
     "output_type": "stream",
     "text": [
      "loading pf\n",
      "loading fbf\n",
      "merging framenumber\n",
      "7315\n"
     ]
    },
    {
     "name": "stderr",
     "output_type": "stream",
     "text": [
      "/home/dan/miniconda3/envs/netstuff/lib/python3.6/site-packages/imgstore/stores.py:1236: YAMLLoadWarning: calling yaml.load() without Loader=... is deprecated, as the default Loader is unsafe. Please read https://msg.pyyaml.org/load for full details.\n",
      "  clsname = yaml.load(f)[STORE_MD_KEY]['class']\n",
      "/home/dan/miniconda3/envs/netstuff/lib/python3.6/site-packages/imgstore/stores.py:171: YAMLLoadWarning: calling yaml.load() without Loader=... is deprecated, as the default Loader is unsafe. Please read https://msg.pyyaml.org/load for full details.\n",
      "  allmd = yaml.load(f)\n"
     ]
    },
    {
     "name": "stdout",
     "output_type": "stream",
     "text": [
      "loading pf\n",
      "loading fbf\n",
      "merging framenumber\n"
     ]
    },
    {
     "name": "stderr",
     "output_type": "stream",
     "text": [
      "/home/dan/miniconda3/envs/netstuff/lib/python3.6/site-packages/imgstore/stores.py:1236: YAMLLoadWarning: calling yaml.load() without Loader=... is deprecated, as the default Loader is unsafe. Please read https://msg.pyyaml.org/load for full details.\n",
      "  clsname = yaml.load(f)[STORE_MD_KEY]['class']\n",
      "/home/dan/miniconda3/envs/netstuff/lib/python3.6/site-packages/imgstore/stores.py:171: YAMLLoadWarning: calling yaml.load() without Loader=... is deprecated, as the default Loader is unsafe. Please read https://msg.pyyaml.org/load for full details.\n",
      "  allmd = yaml.load(f)\n"
     ]
    },
    {
     "name": "stdout",
     "output_type": "stream",
     "text": [
      "loading pf\n",
      "loading fbf\n",
      "merging framenumber\n"
     ]
    },
    {
     "name": "stderr",
     "output_type": "stream",
     "text": [
      "/home/dan/miniconda3/envs/netstuff/lib/python3.6/site-packages/imgstore/stores.py:1236: YAMLLoadWarning: calling yaml.load() without Loader=... is deprecated, as the default Loader is unsafe. Please read https://msg.pyyaml.org/load for full details.\n",
      "  clsname = yaml.load(f)[STORE_MD_KEY]['class']\n",
      "/home/dan/miniconda3/envs/netstuff/lib/python3.6/site-packages/imgstore/stores.py:171: YAMLLoadWarning: calling yaml.load() without Loader=... is deprecated, as the default Loader is unsafe. Please read https://msg.pyyaml.org/load for full details.\n",
      "  allmd = yaml.load(f)\n"
     ]
    },
    {
     "name": "stdout",
     "output_type": "stream",
     "text": [
      "loading pf\n",
      "loading fbf\n",
      "merging framenumber\n"
     ]
    },
    {
     "name": "stderr",
     "output_type": "stream",
     "text": [
      "/home/dan/miniconda3/envs/netstuff/lib/python3.6/site-packages/imgstore/stores.py:1236: YAMLLoadWarning: calling yaml.load() without Loader=... is deprecated, as the default Loader is unsafe. Please read https://msg.pyyaml.org/load for full details.\n",
      "  clsname = yaml.load(f)[STORE_MD_KEY]['class']\n",
      "/home/dan/miniconda3/envs/netstuff/lib/python3.6/site-packages/imgstore/stores.py:171: YAMLLoadWarning: calling yaml.load() without Loader=... is deprecated, as the default Loader is unsafe. Please read https://msg.pyyaml.org/load for full details.\n",
      "  allmd = yaml.load(f)\n",
      "previous store had incorrect image_shape: corrected (4049, 3866, 3) -> (4048, 3866, 3)\n"
     ]
    },
    {
     "name": "stdout",
     "output_type": "stream",
     "text": [
      "loading pf\n",
      "loading fbf\n",
      "merging framenumber\n"
     ]
    },
    {
     "name": "stderr",
     "output_type": "stream",
     "text": [
      "/home/dan/miniconda3/envs/netstuff/lib/python3.6/site-packages/imgstore/stores.py:1236: YAMLLoadWarning: calling yaml.load() without Loader=... is deprecated, as the default Loader is unsafe. Please read https://msg.pyyaml.org/load for full details.\n",
      "  clsname = yaml.load(f)[STORE_MD_KEY]['class']\n",
      "/home/dan/miniconda3/envs/netstuff/lib/python3.6/site-packages/imgstore/stores.py:171: YAMLLoadWarning: calling yaml.load() without Loader=... is deprecated, as the default Loader is unsafe. Please read https://msg.pyyaml.org/load for full details.\n",
      "  allmd = yaml.load(f)\n",
      "previous store had incorrect image_shape: corrected (4049, 3866, 3) -> (4048, 3866, 3)\n"
     ]
    },
    {
     "name": "stdout",
     "output_type": "stream",
     "text": [
      "loading pf\n",
      "loading fbf\n",
      "merging framenumber\n"
     ]
    },
    {
     "name": "stderr",
     "output_type": "stream",
     "text": [
      "/home/dan/miniconda3/envs/netstuff/lib/python3.6/site-packages/imgstore/stores.py:1236: YAMLLoadWarning: calling yaml.load() without Loader=... is deprecated, as the default Loader is unsafe. Please read https://msg.pyyaml.org/load for full details.\n",
      "  clsname = yaml.load(f)[STORE_MD_KEY]['class']\n",
      "/home/dan/miniconda3/envs/netstuff/lib/python3.6/site-packages/imgstore/stores.py:171: YAMLLoadWarning: calling yaml.load() without Loader=... is deprecated, as the default Loader is unsafe. Please read https://msg.pyyaml.org/load for full details.\n",
      "  allmd = yaml.load(f)\n",
      "previous store had incorrect image_shape: corrected (4049, 3866, 3) -> (4048, 3866, 3)\n"
     ]
    },
    {
     "name": "stdout",
     "output_type": "stream",
     "text": [
      "loading pf\n",
      "loading fbf\n",
      "merging framenumber\n"
     ]
    },
    {
     "name": "stderr",
     "output_type": "stream",
     "text": [
      "/home/dan/miniconda3/envs/netstuff/lib/python3.6/site-packages/imgstore/stores.py:1236: YAMLLoadWarning: calling yaml.load() without Loader=... is deprecated, as the default Loader is unsafe. Please read https://msg.pyyaml.org/load for full details.\n",
      "  clsname = yaml.load(f)[STORE_MD_KEY]['class']\n",
      "/home/dan/miniconda3/envs/netstuff/lib/python3.6/site-packages/imgstore/stores.py:171: YAMLLoadWarning: calling yaml.load() without Loader=... is deprecated, as the default Loader is unsafe. Please read https://msg.pyyaml.org/load for full details.\n",
      "  allmd = yaml.load(f)\n",
      "previous store had incorrect image_shape: corrected (4049, 3866, 3) -> (4048, 3866, 3)\n"
     ]
    },
    {
     "name": "stdout",
     "output_type": "stream",
     "text": [
      "loading pf\n",
      "loading fbf\n",
      "merging framenumber\n"
     ]
    },
    {
     "name": "stderr",
     "output_type": "stream",
     "text": [
      "/home/dan/miniconda3/envs/netstuff/lib/python3.6/site-packages/imgstore/stores.py:1236: YAMLLoadWarning: calling yaml.load() without Loader=... is deprecated, as the default Loader is unsafe. Please read https://msg.pyyaml.org/load for full details.\n",
      "  clsname = yaml.load(f)[STORE_MD_KEY]['class']\n",
      "/home/dan/miniconda3/envs/netstuff/lib/python3.6/site-packages/imgstore/stores.py:171: YAMLLoadWarning: calling yaml.load() without Loader=... is deprecated, as the default Loader is unsafe. Please read https://msg.pyyaml.org/load for full details.\n",
      "  allmd = yaml.load(f)\n",
      "previous store had incorrect image_shape: corrected (4049, 3866, 3) -> (4048, 3866, 3)\n"
     ]
    },
    {
     "name": "stdout",
     "output_type": "stream",
     "text": [
      "loading pf\n",
      "loading fbf\n",
      "merging framenumber\n",
      "15741\n"
     ]
    },
    {
     "name": "stderr",
     "output_type": "stream",
     "text": [
      "/home/dan/miniconda3/envs/netstuff/lib/python3.6/site-packages/imgstore/stores.py:1236: YAMLLoadWarning: calling yaml.load() without Loader=... is deprecated, as the default Loader is unsafe. Please read https://msg.pyyaml.org/load for full details.\n",
      "  clsname = yaml.load(f)[STORE_MD_KEY]['class']\n",
      "/home/dan/miniconda3/envs/netstuff/lib/python3.6/site-packages/imgstore/stores.py:171: YAMLLoadWarning: calling yaml.load() without Loader=... is deprecated, as the default Loader is unsafe. Please read https://msg.pyyaml.org/load for full details.\n",
      "  allmd = yaml.load(f)\n"
     ]
    },
    {
     "name": "stdout",
     "output_type": "stream",
     "text": [
      "loading pf\n",
      "loading fbf\n",
      "merging framenumber\n"
     ]
    },
    {
     "name": "stderr",
     "output_type": "stream",
     "text": [
      "/home/dan/miniconda3/envs/netstuff/lib/python3.6/site-packages/imgstore/stores.py:1236: YAMLLoadWarning: calling yaml.load() without Loader=... is deprecated, as the default Loader is unsafe. Please read https://msg.pyyaml.org/load for full details.\n",
      "  clsname = yaml.load(f)[STORE_MD_KEY]['class']\n",
      "/home/dan/miniconda3/envs/netstuff/lib/python3.6/site-packages/imgstore/stores.py:171: YAMLLoadWarning: calling yaml.load() without Loader=... is deprecated, as the default Loader is unsafe. Please read https://msg.pyyaml.org/load for full details.\n",
      "  allmd = yaml.load(f)\n"
     ]
    },
    {
     "name": "stdout",
     "output_type": "stream",
     "text": [
      "loading pf\n",
      "loading fbf\n",
      "merging framenumber\n"
     ]
    },
    {
     "name": "stderr",
     "output_type": "stream",
     "text": [
      "/home/dan/miniconda3/envs/netstuff/lib/python3.6/site-packages/imgstore/stores.py:1236: YAMLLoadWarning: calling yaml.load() without Loader=... is deprecated, as the default Loader is unsafe. Please read https://msg.pyyaml.org/load for full details.\n",
      "  clsname = yaml.load(f)[STORE_MD_KEY]['class']\n",
      "/home/dan/miniconda3/envs/netstuff/lib/python3.6/site-packages/imgstore/stores.py:171: YAMLLoadWarning: calling yaml.load() without Loader=... is deprecated, as the default Loader is unsafe. Please read https://msg.pyyaml.org/load for full details.\n",
      "  allmd = yaml.load(f)\n"
     ]
    },
    {
     "name": "stdout",
     "output_type": "stream",
     "text": [
      "loading pf\n",
      "loading fbf\n",
      "merging framenumber\n"
     ]
    },
    {
     "name": "stderr",
     "output_type": "stream",
     "text": [
      "/home/dan/miniconda3/envs/netstuff/lib/python3.6/site-packages/imgstore/stores.py:1236: YAMLLoadWarning: calling yaml.load() without Loader=... is deprecated, as the default Loader is unsafe. Please read https://msg.pyyaml.org/load for full details.\n",
      "  clsname = yaml.load(f)[STORE_MD_KEY]['class']\n",
      "/home/dan/miniconda3/envs/netstuff/lib/python3.6/site-packages/imgstore/stores.py:171: YAMLLoadWarning: calling yaml.load() without Loader=... is deprecated, as the default Loader is unsafe. Please read https://msg.pyyaml.org/load for full details.\n",
      "  allmd = yaml.load(f)\n",
      "previous store had incorrect image_shape: corrected (4049, 3866, 3) -> (4048, 3866, 3)\n"
     ]
    },
    {
     "name": "stdout",
     "output_type": "stream",
     "text": [
      "loading pf\n",
      "loading fbf\n",
      "merging framenumber\n"
     ]
    },
    {
     "name": "stderr",
     "output_type": "stream",
     "text": [
      "/home/dan/miniconda3/envs/netstuff/lib/python3.6/site-packages/imgstore/stores.py:1236: YAMLLoadWarning: calling yaml.load() without Loader=... is deprecated, as the default Loader is unsafe. Please read https://msg.pyyaml.org/load for full details.\n",
      "  clsname = yaml.load(f)[STORE_MD_KEY]['class']\n",
      "/home/dan/miniconda3/envs/netstuff/lib/python3.6/site-packages/imgstore/stores.py:171: YAMLLoadWarning: calling yaml.load() without Loader=... is deprecated, as the default Loader is unsafe. Please read https://msg.pyyaml.org/load for full details.\n",
      "  allmd = yaml.load(f)\n",
      "previous store had incorrect image_shape: corrected (4049, 3866, 3) -> (4048, 3866, 3)\n"
     ]
    },
    {
     "name": "stdout",
     "output_type": "stream",
     "text": [
      "loading pf\n",
      "loading fbf\n",
      "merging framenumber\n"
     ]
    },
    {
     "name": "stderr",
     "output_type": "stream",
     "text": [
      "/home/dan/miniconda3/envs/netstuff/lib/python3.6/site-packages/imgstore/stores.py:1236: YAMLLoadWarning: calling yaml.load() without Loader=... is deprecated, as the default Loader is unsafe. Please read https://msg.pyyaml.org/load for full details.\n",
      "  clsname = yaml.load(f)[STORE_MD_KEY]['class']\n",
      "/home/dan/miniconda3/envs/netstuff/lib/python3.6/site-packages/imgstore/stores.py:171: YAMLLoadWarning: calling yaml.load() without Loader=... is deprecated, as the default Loader is unsafe. Please read https://msg.pyyaml.org/load for full details.\n",
      "  allmd = yaml.load(f)\n",
      "previous store had incorrect image_shape: corrected (4049, 3866, 3) -> (4048, 3866, 3)\n"
     ]
    },
    {
     "name": "stdout",
     "output_type": "stream",
     "text": [
      "loading pf\n",
      "loading fbf\n",
      "merging framenumber\n"
     ]
    },
    {
     "name": "stderr",
     "output_type": "stream",
     "text": [
      "/home/dan/miniconda3/envs/netstuff/lib/python3.6/site-packages/imgstore/stores.py:1236: YAMLLoadWarning: calling yaml.load() without Loader=... is deprecated, as the default Loader is unsafe. Please read https://msg.pyyaml.org/load for full details.\n",
      "  clsname = yaml.load(f)[STORE_MD_KEY]['class']\n",
      "/home/dan/miniconda3/envs/netstuff/lib/python3.6/site-packages/imgstore/stores.py:171: YAMLLoadWarning: calling yaml.load() without Loader=... is deprecated, as the default Loader is unsafe. Please read https://msg.pyyaml.org/load for full details.\n",
      "  allmd = yaml.load(f)\n",
      "previous store had incorrect image_shape: corrected (4049, 3866, 3) -> (4048, 3866, 3)\n"
     ]
    },
    {
     "name": "stdout",
     "output_type": "stream",
     "text": [
      "loading pf\n",
      "loading fbf\n",
      "merging framenumber\n"
     ]
    },
    {
     "name": "stderr",
     "output_type": "stream",
     "text": [
      "/home/dan/miniconda3/envs/netstuff/lib/python3.6/site-packages/imgstore/stores.py:1236: YAMLLoadWarning: calling yaml.load() without Loader=... is deprecated, as the default Loader is unsafe. Please read https://msg.pyyaml.org/load for full details.\n",
      "  clsname = yaml.load(f)[STORE_MD_KEY]['class']\n",
      "/home/dan/miniconda3/envs/netstuff/lib/python3.6/site-packages/imgstore/stores.py:171: YAMLLoadWarning: calling yaml.load() without Loader=... is deprecated, as the default Loader is unsafe. Please read https://msg.pyyaml.org/load for full details.\n",
      "  allmd = yaml.load(f)\n",
      "previous store had incorrect image_shape: corrected (4049, 3866, 3) -> (4048, 3866, 3)\n"
     ]
    },
    {
     "name": "stdout",
     "output_type": "stream",
     "text": [
      "loading pf\n",
      "loading fbf\n",
      "merging framenumber\n",
      "10217\n"
     ]
    },
    {
     "name": "stderr",
     "output_type": "stream",
     "text": [
      "/home/dan/miniconda3/envs/netstuff/lib/python3.6/site-packages/imgstore/stores.py:1236: YAMLLoadWarning: calling yaml.load() without Loader=... is deprecated, as the default Loader is unsafe. Please read https://msg.pyyaml.org/load for full details.\n",
      "  clsname = yaml.load(f)[STORE_MD_KEY]['class']\n",
      "/home/dan/miniconda3/envs/netstuff/lib/python3.6/site-packages/imgstore/stores.py:171: YAMLLoadWarning: calling yaml.load() without Loader=... is deprecated, as the default Loader is unsafe. Please read https://msg.pyyaml.org/load for full details.\n",
      "  allmd = yaml.load(f)\n"
     ]
    },
    {
     "name": "stdout",
     "output_type": "stream",
     "text": [
      "loading pf\n",
      "loading fbf\n",
      "merging framenumber\n"
     ]
    },
    {
     "name": "stderr",
     "output_type": "stream",
     "text": [
      "/home/dan/miniconda3/envs/netstuff/lib/python3.6/site-packages/imgstore/stores.py:1236: YAMLLoadWarning: calling yaml.load() without Loader=... is deprecated, as the default Loader is unsafe. Please read https://msg.pyyaml.org/load for full details.\n",
      "  clsname = yaml.load(f)[STORE_MD_KEY]['class']\n",
      "/home/dan/miniconda3/envs/netstuff/lib/python3.6/site-packages/imgstore/stores.py:171: YAMLLoadWarning: calling yaml.load() without Loader=... is deprecated, as the default Loader is unsafe. Please read https://msg.pyyaml.org/load for full details.\n",
      "  allmd = yaml.load(f)\n"
     ]
    },
    {
     "name": "stdout",
     "output_type": "stream",
     "text": [
      "loading pf\n",
      "loading fbf\n",
      "merging framenumber\n"
     ]
    },
    {
     "name": "stderr",
     "output_type": "stream",
     "text": [
      "/home/dan/miniconda3/envs/netstuff/lib/python3.6/site-packages/imgstore/stores.py:1236: YAMLLoadWarning: calling yaml.load() without Loader=... is deprecated, as the default Loader is unsafe. Please read https://msg.pyyaml.org/load for full details.\n",
      "  clsname = yaml.load(f)[STORE_MD_KEY]['class']\n",
      "/home/dan/miniconda3/envs/netstuff/lib/python3.6/site-packages/imgstore/stores.py:171: YAMLLoadWarning: calling yaml.load() without Loader=... is deprecated, as the default Loader is unsafe. Please read https://msg.pyyaml.org/load for full details.\n",
      "  allmd = yaml.load(f)\n"
     ]
    },
    {
     "name": "stdout",
     "output_type": "stream",
     "text": [
      "loading pf\n",
      "loading fbf\n",
      "merging framenumber\n"
     ]
    },
    {
     "name": "stderr",
     "output_type": "stream",
     "text": [
      "/home/dan/miniconda3/envs/netstuff/lib/python3.6/site-packages/imgstore/stores.py:1236: YAMLLoadWarning: calling yaml.load() without Loader=... is deprecated, as the default Loader is unsafe. Please read https://msg.pyyaml.org/load for full details.\n",
      "  clsname = yaml.load(f)[STORE_MD_KEY]['class']\n",
      "/home/dan/miniconda3/envs/netstuff/lib/python3.6/site-packages/imgstore/stores.py:171: YAMLLoadWarning: calling yaml.load() without Loader=... is deprecated, as the default Loader is unsafe. Please read https://msg.pyyaml.org/load for full details.\n",
      "  allmd = yaml.load(f)\n",
      "previous store had incorrect image_shape: corrected (4049, 3866, 3) -> (4048, 3866, 3)\n"
     ]
    },
    {
     "name": "stdout",
     "output_type": "stream",
     "text": [
      "loading pf\n",
      "loading fbf\n",
      "merging framenumber\n"
     ]
    },
    {
     "name": "stderr",
     "output_type": "stream",
     "text": [
      "/home/dan/miniconda3/envs/netstuff/lib/python3.6/site-packages/imgstore/stores.py:1236: YAMLLoadWarning: calling yaml.load() without Loader=... is deprecated, as the default Loader is unsafe. Please read https://msg.pyyaml.org/load for full details.\n",
      "  clsname = yaml.load(f)[STORE_MD_KEY]['class']\n",
      "/home/dan/miniconda3/envs/netstuff/lib/python3.6/site-packages/imgstore/stores.py:171: YAMLLoadWarning: calling yaml.load() without Loader=... is deprecated, as the default Loader is unsafe. Please read https://msg.pyyaml.org/load for full details.\n",
      "  allmd = yaml.load(f)\n",
      "previous store had incorrect image_shape: corrected (4049, 3866, 3) -> (4048, 3866, 3)\n"
     ]
    },
    {
     "name": "stdout",
     "output_type": "stream",
     "text": [
      "loading pf\n",
      "loading fbf\n",
      "merging framenumber\n"
     ]
    },
    {
     "name": "stderr",
     "output_type": "stream",
     "text": [
      "/home/dan/miniconda3/envs/netstuff/lib/python3.6/site-packages/imgstore/stores.py:1236: YAMLLoadWarning: calling yaml.load() without Loader=... is deprecated, as the default Loader is unsafe. Please read https://msg.pyyaml.org/load for full details.\n",
      "  clsname = yaml.load(f)[STORE_MD_KEY]['class']\n",
      "/home/dan/miniconda3/envs/netstuff/lib/python3.6/site-packages/imgstore/stores.py:171: YAMLLoadWarning: calling yaml.load() without Loader=... is deprecated, as the default Loader is unsafe. Please read https://msg.pyyaml.org/load for full details.\n",
      "  allmd = yaml.load(f)\n",
      "previous store had incorrect image_shape: corrected (4049, 3866, 3) -> (4048, 3866, 3)\n"
     ]
    },
    {
     "name": "stdout",
     "output_type": "stream",
     "text": [
      "loading pf\n",
      "loading fbf\n",
      "merging framenumber\n"
     ]
    },
    {
     "name": "stderr",
     "output_type": "stream",
     "text": [
      "/home/dan/miniconda3/envs/netstuff/lib/python3.6/site-packages/imgstore/stores.py:1236: YAMLLoadWarning: calling yaml.load() without Loader=... is deprecated, as the default Loader is unsafe. Please read https://msg.pyyaml.org/load for full details.\n",
      "  clsname = yaml.load(f)[STORE_MD_KEY]['class']\n",
      "/home/dan/miniconda3/envs/netstuff/lib/python3.6/site-packages/imgstore/stores.py:171: YAMLLoadWarning: calling yaml.load() without Loader=... is deprecated, as the default Loader is unsafe. Please read https://msg.pyyaml.org/load for full details.\n",
      "  allmd = yaml.load(f)\n",
      "previous store had incorrect image_shape: corrected (4049, 3866, 3) -> (4048, 3866, 3)\n"
     ]
    },
    {
     "name": "stdout",
     "output_type": "stream",
     "text": [
      "loading pf\n",
      "loading fbf\n",
      "merging framenumber\n"
     ]
    },
    {
     "name": "stderr",
     "output_type": "stream",
     "text": [
      "/home/dan/miniconda3/envs/netstuff/lib/python3.6/site-packages/imgstore/stores.py:1236: YAMLLoadWarning: calling yaml.load() without Loader=... is deprecated, as the default Loader is unsafe. Please read https://msg.pyyaml.org/load for full details.\n",
      "  clsname = yaml.load(f)[STORE_MD_KEY]['class']\n",
      "/home/dan/miniconda3/envs/netstuff/lib/python3.6/site-packages/imgstore/stores.py:171: YAMLLoadWarning: calling yaml.load() without Loader=... is deprecated, as the default Loader is unsafe. Please read https://msg.pyyaml.org/load for full details.\n",
      "  allmd = yaml.load(f)\n",
      "previous store had incorrect image_shape: corrected (4049, 3866, 3) -> (4048, 3866, 3)\n"
     ]
    },
    {
     "name": "stdout",
     "output_type": "stream",
     "text": [
      "loading pf\n",
      "loading fbf\n",
      "merging framenumber\n",
      "15838\n"
     ]
    },
    {
     "name": "stderr",
     "output_type": "stream",
     "text": [
      "/home/dan/miniconda3/envs/netstuff/lib/python3.6/site-packages/imgstore/stores.py:1236: YAMLLoadWarning: calling yaml.load() without Loader=... is deprecated, as the default Loader is unsafe. Please read https://msg.pyyaml.org/load for full details.\n",
      "  clsname = yaml.load(f)[STORE_MD_KEY]['class']\n",
      "/home/dan/miniconda3/envs/netstuff/lib/python3.6/site-packages/imgstore/stores.py:171: YAMLLoadWarning: calling yaml.load() without Loader=... is deprecated, as the default Loader is unsafe. Please read https://msg.pyyaml.org/load for full details.\n",
      "  allmd = yaml.load(f)\n"
     ]
    },
    {
     "name": "stdout",
     "output_type": "stream",
     "text": [
      "loading pf\n",
      "loading fbf\n",
      "merging framenumber\n"
     ]
    },
    {
     "name": "stderr",
     "output_type": "stream",
     "text": [
      "/home/dan/miniconda3/envs/netstuff/lib/python3.6/site-packages/imgstore/stores.py:1236: YAMLLoadWarning: calling yaml.load() without Loader=... is deprecated, as the default Loader is unsafe. Please read https://msg.pyyaml.org/load for full details.\n",
      "  clsname = yaml.load(f)[STORE_MD_KEY]['class']\n",
      "/home/dan/miniconda3/envs/netstuff/lib/python3.6/site-packages/imgstore/stores.py:171: YAMLLoadWarning: calling yaml.load() without Loader=... is deprecated, as the default Loader is unsafe. Please read https://msg.pyyaml.org/load for full details.\n",
      "  allmd = yaml.load(f)\n"
     ]
    },
    {
     "name": "stdout",
     "output_type": "stream",
     "text": [
      "loading pf\n",
      "loading fbf\n",
      "merging framenumber\n"
     ]
    },
    {
     "name": "stderr",
     "output_type": "stream",
     "text": [
      "/home/dan/miniconda3/envs/netstuff/lib/python3.6/site-packages/imgstore/stores.py:1236: YAMLLoadWarning: calling yaml.load() without Loader=... is deprecated, as the default Loader is unsafe. Please read https://msg.pyyaml.org/load for full details.\n",
      "  clsname = yaml.load(f)[STORE_MD_KEY]['class']\n",
      "/home/dan/miniconda3/envs/netstuff/lib/python3.6/site-packages/imgstore/stores.py:171: YAMLLoadWarning: calling yaml.load() without Loader=... is deprecated, as the default Loader is unsafe. Please read https://msg.pyyaml.org/load for full details.\n",
      "  allmd = yaml.load(f)\n"
     ]
    },
    {
     "name": "stdout",
     "output_type": "stream",
     "text": [
      "loading pf\n",
      "loading fbf\n",
      "merging framenumber\n"
     ]
    },
    {
     "name": "stderr",
     "output_type": "stream",
     "text": [
      "/home/dan/miniconda3/envs/netstuff/lib/python3.6/site-packages/imgstore/stores.py:1236: YAMLLoadWarning: calling yaml.load() without Loader=... is deprecated, as the default Loader is unsafe. Please read https://msg.pyyaml.org/load for full details.\n",
      "  clsname = yaml.load(f)[STORE_MD_KEY]['class']\n",
      "/home/dan/miniconda3/envs/netstuff/lib/python3.6/site-packages/imgstore/stores.py:171: YAMLLoadWarning: calling yaml.load() without Loader=... is deprecated, as the default Loader is unsafe. Please read https://msg.pyyaml.org/load for full details.\n",
      "  allmd = yaml.load(f)\n",
      "previous store had incorrect image_shape: corrected (4049, 3866, 3) -> (4048, 3866, 3)\n"
     ]
    },
    {
     "name": "stdout",
     "output_type": "stream",
     "text": [
      "loading pf\n",
      "loading fbf\n",
      "merging framenumber\n"
     ]
    },
    {
     "name": "stderr",
     "output_type": "stream",
     "text": [
      "/home/dan/miniconda3/envs/netstuff/lib/python3.6/site-packages/imgstore/stores.py:1236: YAMLLoadWarning: calling yaml.load() without Loader=... is deprecated, as the default Loader is unsafe. Please read https://msg.pyyaml.org/load for full details.\n",
      "  clsname = yaml.load(f)[STORE_MD_KEY]['class']\n",
      "/home/dan/miniconda3/envs/netstuff/lib/python3.6/site-packages/imgstore/stores.py:171: YAMLLoadWarning: calling yaml.load() without Loader=... is deprecated, as the default Loader is unsafe. Please read https://msg.pyyaml.org/load for full details.\n",
      "  allmd = yaml.load(f)\n",
      "previous store had incorrect image_shape: corrected (4049, 3866, 3) -> (4048, 3866, 3)\n"
     ]
    },
    {
     "name": "stdout",
     "output_type": "stream",
     "text": [
      "loading pf\n",
      "loading fbf\n",
      "merging framenumber\n"
     ]
    },
    {
     "name": "stderr",
     "output_type": "stream",
     "text": [
      "/home/dan/miniconda3/envs/netstuff/lib/python3.6/site-packages/imgstore/stores.py:1236: YAMLLoadWarning: calling yaml.load() without Loader=... is deprecated, as the default Loader is unsafe. Please read https://msg.pyyaml.org/load for full details.\n",
      "  clsname = yaml.load(f)[STORE_MD_KEY]['class']\n",
      "/home/dan/miniconda3/envs/netstuff/lib/python3.6/site-packages/imgstore/stores.py:171: YAMLLoadWarning: calling yaml.load() without Loader=... is deprecated, as the default Loader is unsafe. Please read https://msg.pyyaml.org/load for full details.\n",
      "  allmd = yaml.load(f)\n",
      "previous store had incorrect image_shape: corrected (4049, 3866, 3) -> (4048, 3866, 3)\n"
     ]
    },
    {
     "name": "stdout",
     "output_type": "stream",
     "text": [
      "loading pf\n",
      "loading fbf\n",
      "merging framenumber\n"
     ]
    },
    {
     "name": "stderr",
     "output_type": "stream",
     "text": [
      "/home/dan/miniconda3/envs/netstuff/lib/python3.6/site-packages/imgstore/stores.py:1236: YAMLLoadWarning: calling yaml.load() without Loader=... is deprecated, as the default Loader is unsafe. Please read https://msg.pyyaml.org/load for full details.\n",
      "  clsname = yaml.load(f)[STORE_MD_KEY]['class']\n",
      "/home/dan/miniconda3/envs/netstuff/lib/python3.6/site-packages/imgstore/stores.py:171: YAMLLoadWarning: calling yaml.load() without Loader=... is deprecated, as the default Loader is unsafe. Please read https://msg.pyyaml.org/load for full details.\n",
      "  allmd = yaml.load(f)\n",
      "previous store had incorrect image_shape: corrected (4049, 3866, 3) -> (4048, 3866, 3)\n"
     ]
    },
    {
     "name": "stdout",
     "output_type": "stream",
     "text": [
      "loading pf\n",
      "loading fbf\n",
      "merging framenumber\n"
     ]
    },
    {
     "name": "stderr",
     "output_type": "stream",
     "text": [
      "/home/dan/miniconda3/envs/netstuff/lib/python3.6/site-packages/imgstore/stores.py:1236: YAMLLoadWarning: calling yaml.load() without Loader=... is deprecated, as the default Loader is unsafe. Please read https://msg.pyyaml.org/load for full details.\n",
      "  clsname = yaml.load(f)[STORE_MD_KEY]['class']\n",
      "/home/dan/miniconda3/envs/netstuff/lib/python3.6/site-packages/imgstore/stores.py:171: YAMLLoadWarning: calling yaml.load() without Loader=... is deprecated, as the default Loader is unsafe. Please read https://msg.pyyaml.org/load for full details.\n",
      "  allmd = yaml.load(f)\n",
      "previous store had incorrect image_shape: corrected (4049, 3866, 3) -> (4048, 3866, 3)\n"
     ]
    },
    {
     "name": "stdout",
     "output_type": "stream",
     "text": [
      "loading pf\n",
      "loading fbf\n",
      "merging framenumber\n"
     ]
    }
   ],
   "source": [
    "for idx in range(20):\n",
    "    randFrame = np.random.randint(1000,20000)\n",
    "    print(randFrame)\n",
    "    doit(fig2b, ['8','16','32','64','128','256','512','1024'], prestim_frames=randFrame)\n",
    "    plt.savefig('/media/recnodes/Dan_storage/2019_VCRDM_prep/fig2b01_%06d.png'%randFrame)\n",
    "    plt.close('all')"
   ]
  },
  {
   "cell_type": "code",
   "execution_count": 85,
   "metadata": {},
   "outputs": [
    {
     "name": "stdout",
     "output_type": "stream",
     "text": [
      "1302\n"
     ]
    },
    {
     "name": "stderr",
     "output_type": "stream",
     "text": [
      "/home/dan/miniconda3/envs/netstuff/lib/python3.6/site-packages/imgstore/stores.py:1236: YAMLLoadWarning: calling yaml.load() without Loader=... is deprecated, as the default Loader is unsafe. Please read https://msg.pyyaml.org/load for full details.\n",
      "  clsname = yaml.load(f)[STORE_MD_KEY]['class']\n",
      "/home/dan/miniconda3/envs/netstuff/lib/python3.6/site-packages/imgstore/stores.py:171: YAMLLoadWarning: calling yaml.load() without Loader=... is deprecated, as the default Loader is unsafe. Please read https://msg.pyyaml.org/load for full details.\n",
      "  allmd = yaml.load(f)\n",
      "previous store had incorrect image_shape: corrected (4049, 3866, 3) -> (4048, 3866, 3)\n"
     ]
    },
    {
     "name": "stdout",
     "output_type": "stream",
     "text": [
      "loading pf\n",
      "loading fbf\n",
      "merging framenumber\n"
     ]
    },
    {
     "name": "stderr",
     "output_type": "stream",
     "text": [
      "/home/dan/miniconda3/envs/netstuff/lib/python3.6/site-packages/imgstore/stores.py:1236: YAMLLoadWarning: calling yaml.load() without Loader=... is deprecated, as the default Loader is unsafe. Please read https://msg.pyyaml.org/load for full details.\n",
      "  clsname = yaml.load(f)[STORE_MD_KEY]['class']\n",
      "/home/dan/miniconda3/envs/netstuff/lib/python3.6/site-packages/imgstore/stores.py:171: YAMLLoadWarning: calling yaml.load() without Loader=... is deprecated, as the default Loader is unsafe. Please read https://msg.pyyaml.org/load for full details.\n",
      "  allmd = yaml.load(f)\n",
      "previous store had incorrect image_shape: corrected (4049, 3866, 3) -> (4048, 3866, 3)\n"
     ]
    },
    {
     "name": "stdout",
     "output_type": "stream",
     "text": [
      "loading pf\n",
      "loading fbf\n",
      "merging framenumber\n"
     ]
    },
    {
     "name": "stderr",
     "output_type": "stream",
     "text": [
      "/home/dan/miniconda3/envs/netstuff/lib/python3.6/site-packages/imgstore/stores.py:1236: YAMLLoadWarning: calling yaml.load() without Loader=... is deprecated, as the default Loader is unsafe. Please read https://msg.pyyaml.org/load for full details.\n",
      "  clsname = yaml.load(f)[STORE_MD_KEY]['class']\n",
      "/home/dan/miniconda3/envs/netstuff/lib/python3.6/site-packages/imgstore/stores.py:171: YAMLLoadWarning: calling yaml.load() without Loader=... is deprecated, as the default Loader is unsafe. Please read https://msg.pyyaml.org/load for full details.\n",
      "  allmd = yaml.load(f)\n",
      "previous store had incorrect image_shape: corrected (4049, 3866, 3) -> (4048, 3866, 3)\n"
     ]
    },
    {
     "name": "stdout",
     "output_type": "stream",
     "text": [
      "loading pf\n",
      "loading fbf\n",
      "merging framenumber\n"
     ]
    },
    {
     "name": "stderr",
     "output_type": "stream",
     "text": [
      "/home/dan/miniconda3/envs/netstuff/lib/python3.6/site-packages/imgstore/stores.py:1236: YAMLLoadWarning: calling yaml.load() without Loader=... is deprecated, as the default Loader is unsafe. Please read https://msg.pyyaml.org/load for full details.\n",
      "  clsname = yaml.load(f)[STORE_MD_KEY]['class']\n",
      "/home/dan/miniconda3/envs/netstuff/lib/python3.6/site-packages/imgstore/stores.py:171: YAMLLoadWarning: calling yaml.load() without Loader=... is deprecated, as the default Loader is unsafe. Please read https://msg.pyyaml.org/load for full details.\n",
      "  allmd = yaml.load(f)\n",
      "previous store had incorrect image_shape: corrected (4049, 3866, 3) -> (4048, 3866, 3)\n"
     ]
    },
    {
     "name": "stdout",
     "output_type": "stream",
     "text": [
      "loading pf\n",
      "loading fbf\n",
      "merging framenumber\n"
     ]
    },
    {
     "name": "stderr",
     "output_type": "stream",
     "text": [
      "/home/dan/miniconda3/envs/netstuff/lib/python3.6/site-packages/imgstore/stores.py:1236: YAMLLoadWarning: calling yaml.load() without Loader=... is deprecated, as the default Loader is unsafe. Please read https://msg.pyyaml.org/load for full details.\n",
      "  clsname = yaml.load(f)[STORE_MD_KEY]['class']\n",
      "/home/dan/miniconda3/envs/netstuff/lib/python3.6/site-packages/imgstore/stores.py:171: YAMLLoadWarning: calling yaml.load() without Loader=... is deprecated, as the default Loader is unsafe. Please read https://msg.pyyaml.org/load for full details.\n",
      "  allmd = yaml.load(f)\n",
      "previous store had incorrect image_shape: corrected (4049, 3866, 3) -> (4048, 3866, 3)\n"
     ]
    },
    {
     "name": "stdout",
     "output_type": "stream",
     "text": [
      "loading pf\n",
      "loading fbf\n",
      "merging framenumber\n"
     ]
    },
    {
     "name": "stderr",
     "output_type": "stream",
     "text": [
      "/home/dan/miniconda3/envs/netstuff/lib/python3.6/site-packages/imgstore/stores.py:1236: YAMLLoadWarning: calling yaml.load() without Loader=... is deprecated, as the default Loader is unsafe. Please read https://msg.pyyaml.org/load for full details.\n",
      "  clsname = yaml.load(f)[STORE_MD_KEY]['class']\n",
      "/home/dan/miniconda3/envs/netstuff/lib/python3.6/site-packages/imgstore/stores.py:171: YAMLLoadWarning: calling yaml.load() without Loader=... is deprecated, as the default Loader is unsafe. Please read https://msg.pyyaml.org/load for full details.\n",
      "  allmd = yaml.load(f)\n",
      "previous store had incorrect image_shape: corrected (4049, 3866, 3) -> (4048, 3866, 3)\n"
     ]
    },
    {
     "name": "stdout",
     "output_type": "stream",
     "text": [
      "loading pf\n",
      "loading fbf\n",
      "merging framenumber\n"
     ]
    },
    {
     "name": "stderr",
     "output_type": "stream",
     "text": [
      "/home/dan/miniconda3/envs/netstuff/lib/python3.6/site-packages/imgstore/stores.py:1236: YAMLLoadWarning: calling yaml.load() without Loader=... is deprecated, as the default Loader is unsafe. Please read https://msg.pyyaml.org/load for full details.\n",
      "  clsname = yaml.load(f)[STORE_MD_KEY]['class']\n",
      "/home/dan/miniconda3/envs/netstuff/lib/python3.6/site-packages/imgstore/stores.py:171: YAMLLoadWarning: calling yaml.load() without Loader=... is deprecated, as the default Loader is unsafe. Please read https://msg.pyyaml.org/load for full details.\n",
      "  allmd = yaml.load(f)\n",
      "previous store had incorrect image_shape: corrected (4049, 3866, 3) -> (4048, 3866, 3)\n"
     ]
    },
    {
     "name": "stdout",
     "output_type": "stream",
     "text": [
      "9706\n",
      "loading pf\n",
      "loading fbf\n",
      "merging framenumber\n"
     ]
    },
    {
     "name": "stderr",
     "output_type": "stream",
     "text": [
      "/home/dan/miniconda3/envs/netstuff/lib/python3.6/site-packages/imgstore/stores.py:1236: YAMLLoadWarning: calling yaml.load() without Loader=... is deprecated, as the default Loader is unsafe. Please read https://msg.pyyaml.org/load for full details.\n",
      "  clsname = yaml.load(f)[STORE_MD_KEY]['class']\n",
      "/home/dan/miniconda3/envs/netstuff/lib/python3.6/site-packages/imgstore/stores.py:171: YAMLLoadWarning: calling yaml.load() without Loader=... is deprecated, as the default Loader is unsafe. Please read https://msg.pyyaml.org/load for full details.\n",
      "  allmd = yaml.load(f)\n",
      "previous store had incorrect image_shape: corrected (4049, 3866, 3) -> (4048, 3866, 3)\n"
     ]
    },
    {
     "name": "stdout",
     "output_type": "stream",
     "text": [
      "loading pf\n",
      "loading fbf\n",
      "merging framenumber\n"
     ]
    },
    {
     "name": "stderr",
     "output_type": "stream",
     "text": [
      "/home/dan/miniconda3/envs/netstuff/lib/python3.6/site-packages/imgstore/stores.py:1236: YAMLLoadWarning: calling yaml.load() without Loader=... is deprecated, as the default Loader is unsafe. Please read https://msg.pyyaml.org/load for full details.\n",
      "  clsname = yaml.load(f)[STORE_MD_KEY]['class']\n",
      "/home/dan/miniconda3/envs/netstuff/lib/python3.6/site-packages/imgstore/stores.py:171: YAMLLoadWarning: calling yaml.load() without Loader=... is deprecated, as the default Loader is unsafe. Please read https://msg.pyyaml.org/load for full details.\n",
      "  allmd = yaml.load(f)\n",
      "previous store had incorrect image_shape: corrected (4049, 3866, 3) -> (4048, 3866, 3)\n"
     ]
    },
    {
     "name": "stdout",
     "output_type": "stream",
     "text": [
      "loading pf\n",
      "loading fbf\n",
      "merging framenumber\n"
     ]
    },
    {
     "name": "stderr",
     "output_type": "stream",
     "text": [
      "/home/dan/miniconda3/envs/netstuff/lib/python3.6/site-packages/imgstore/stores.py:1236: YAMLLoadWarning: calling yaml.load() without Loader=... is deprecated, as the default Loader is unsafe. Please read https://msg.pyyaml.org/load for full details.\n",
      "  clsname = yaml.load(f)[STORE_MD_KEY]['class']\n",
      "/home/dan/miniconda3/envs/netstuff/lib/python3.6/site-packages/imgstore/stores.py:171: YAMLLoadWarning: calling yaml.load() without Loader=... is deprecated, as the default Loader is unsafe. Please read https://msg.pyyaml.org/load for full details.\n",
      "  allmd = yaml.load(f)\n",
      "previous store had incorrect image_shape: corrected (4049, 3866, 3) -> (4048, 3866, 3)\n"
     ]
    },
    {
     "name": "stdout",
     "output_type": "stream",
     "text": [
      "loading pf\n",
      "loading fbf\n",
      "merging framenumber\n"
     ]
    },
    {
     "name": "stderr",
     "output_type": "stream",
     "text": [
      "/home/dan/miniconda3/envs/netstuff/lib/python3.6/site-packages/imgstore/stores.py:1236: YAMLLoadWarning: calling yaml.load() without Loader=... is deprecated, as the default Loader is unsafe. Please read https://msg.pyyaml.org/load for full details.\n",
      "  clsname = yaml.load(f)[STORE_MD_KEY]['class']\n",
      "/home/dan/miniconda3/envs/netstuff/lib/python3.6/site-packages/imgstore/stores.py:171: YAMLLoadWarning: calling yaml.load() without Loader=... is deprecated, as the default Loader is unsafe. Please read https://msg.pyyaml.org/load for full details.\n",
      "  allmd = yaml.load(f)\n",
      "previous store had incorrect image_shape: corrected (4049, 3866, 3) -> (4048, 3866, 3)\n"
     ]
    },
    {
     "name": "stdout",
     "output_type": "stream",
     "text": [
      "loading pf\n",
      "loading fbf\n",
      "merging framenumber\n"
     ]
    },
    {
     "name": "stderr",
     "output_type": "stream",
     "text": [
      "/home/dan/miniconda3/envs/netstuff/lib/python3.6/site-packages/imgstore/stores.py:1236: YAMLLoadWarning: calling yaml.load() without Loader=... is deprecated, as the default Loader is unsafe. Please read https://msg.pyyaml.org/load for full details.\n",
      "  clsname = yaml.load(f)[STORE_MD_KEY]['class']\n",
      "/home/dan/miniconda3/envs/netstuff/lib/python3.6/site-packages/imgstore/stores.py:171: YAMLLoadWarning: calling yaml.load() without Loader=... is deprecated, as the default Loader is unsafe. Please read https://msg.pyyaml.org/load for full details.\n",
      "  allmd = yaml.load(f)\n",
      "previous store had incorrect image_shape: corrected (4049, 3866, 3) -> (4048, 3866, 3)\n"
     ]
    },
    {
     "name": "stdout",
     "output_type": "stream",
     "text": [
      "loading pf\n",
      "loading fbf\n",
      "merging framenumber\n",
      "2747\n"
     ]
    },
    {
     "name": "stderr",
     "output_type": "stream",
     "text": [
      "/home/dan/miniconda3/envs/netstuff/lib/python3.6/site-packages/imgstore/stores.py:1236: YAMLLoadWarning: calling yaml.load() without Loader=... is deprecated, as the default Loader is unsafe. Please read https://msg.pyyaml.org/load for full details.\n",
      "  clsname = yaml.load(f)[STORE_MD_KEY]['class']\n",
      "/home/dan/miniconda3/envs/netstuff/lib/python3.6/site-packages/imgstore/stores.py:171: YAMLLoadWarning: calling yaml.load() without Loader=... is deprecated, as the default Loader is unsafe. Please read https://msg.pyyaml.org/load for full details.\n",
      "  allmd = yaml.load(f)\n",
      "previous store had incorrect image_shape: corrected (4049, 3866, 3) -> (4048, 3866, 3)\n"
     ]
    },
    {
     "name": "stdout",
     "output_type": "stream",
     "text": [
      "loading pf\n",
      "loading fbf\n",
      "merging framenumber\n"
     ]
    },
    {
     "name": "stderr",
     "output_type": "stream",
     "text": [
      "/home/dan/miniconda3/envs/netstuff/lib/python3.6/site-packages/imgstore/stores.py:1236: YAMLLoadWarning: calling yaml.load() without Loader=... is deprecated, as the default Loader is unsafe. Please read https://msg.pyyaml.org/load for full details.\n",
      "  clsname = yaml.load(f)[STORE_MD_KEY]['class']\n",
      "/home/dan/miniconda3/envs/netstuff/lib/python3.6/site-packages/imgstore/stores.py:171: YAMLLoadWarning: calling yaml.load() without Loader=... is deprecated, as the default Loader is unsafe. Please read https://msg.pyyaml.org/load for full details.\n",
      "  allmd = yaml.load(f)\n",
      "previous store had incorrect image_shape: corrected (4049, 3866, 3) -> (4048, 3866, 3)\n"
     ]
    },
    {
     "name": "stdout",
     "output_type": "stream",
     "text": [
      "loading pf\n",
      "loading fbf\n",
      "merging framenumber\n"
     ]
    },
    {
     "name": "stderr",
     "output_type": "stream",
     "text": [
      "/home/dan/miniconda3/envs/netstuff/lib/python3.6/site-packages/imgstore/stores.py:1236: YAMLLoadWarning: calling yaml.load() without Loader=... is deprecated, as the default Loader is unsafe. Please read https://msg.pyyaml.org/load for full details.\n",
      "  clsname = yaml.load(f)[STORE_MD_KEY]['class']\n",
      "/home/dan/miniconda3/envs/netstuff/lib/python3.6/site-packages/imgstore/stores.py:171: YAMLLoadWarning: calling yaml.load() without Loader=... is deprecated, as the default Loader is unsafe. Please read https://msg.pyyaml.org/load for full details.\n",
      "  allmd = yaml.load(f)\n",
      "previous store had incorrect image_shape: corrected (4049, 3866, 3) -> (4048, 3866, 3)\n"
     ]
    },
    {
     "name": "stdout",
     "output_type": "stream",
     "text": [
      "loading pf\n",
      "loading fbf\n",
      "merging framenumber\n"
     ]
    },
    {
     "name": "stderr",
     "output_type": "stream",
     "text": [
      "/home/dan/miniconda3/envs/netstuff/lib/python3.6/site-packages/imgstore/stores.py:1236: YAMLLoadWarning: calling yaml.load() without Loader=... is deprecated, as the default Loader is unsafe. Please read https://msg.pyyaml.org/load for full details.\n",
      "  clsname = yaml.load(f)[STORE_MD_KEY]['class']\n",
      "/home/dan/miniconda3/envs/netstuff/lib/python3.6/site-packages/imgstore/stores.py:171: YAMLLoadWarning: calling yaml.load() without Loader=... is deprecated, as the default Loader is unsafe. Please read https://msg.pyyaml.org/load for full details.\n",
      "  allmd = yaml.load(f)\n",
      "previous store had incorrect image_shape: corrected (4049, 3866, 3) -> (4048, 3866, 3)\n"
     ]
    },
    {
     "name": "stdout",
     "output_type": "stream",
     "text": [
      "loading pf\n",
      "loading fbf\n",
      "merging framenumber\n"
     ]
    },
    {
     "name": "stderr",
     "output_type": "stream",
     "text": [
      "/home/dan/miniconda3/envs/netstuff/lib/python3.6/site-packages/imgstore/stores.py:1236: YAMLLoadWarning: calling yaml.load() without Loader=... is deprecated, as the default Loader is unsafe. Please read https://msg.pyyaml.org/load for full details.\n",
      "  clsname = yaml.load(f)[STORE_MD_KEY]['class']\n",
      "/home/dan/miniconda3/envs/netstuff/lib/python3.6/site-packages/imgstore/stores.py:171: YAMLLoadWarning: calling yaml.load() without Loader=... is deprecated, as the default Loader is unsafe. Please read https://msg.pyyaml.org/load for full details.\n",
      "  allmd = yaml.load(f)\n",
      "previous store had incorrect image_shape: corrected (4049, 3866, 3) -> (4048, 3866, 3)\n"
     ]
    },
    {
     "name": "stdout",
     "output_type": "stream",
     "text": [
      "loading pf\n",
      "loading fbf\n",
      "merging framenumber\n"
     ]
    },
    {
     "name": "stderr",
     "output_type": "stream",
     "text": [
      "/home/dan/miniconda3/envs/netstuff/lib/python3.6/site-packages/imgstore/stores.py:1236: YAMLLoadWarning: calling yaml.load() without Loader=... is deprecated, as the default Loader is unsafe. Please read https://msg.pyyaml.org/load for full details.\n",
      "  clsname = yaml.load(f)[STORE_MD_KEY]['class']\n",
      "/home/dan/miniconda3/envs/netstuff/lib/python3.6/site-packages/imgstore/stores.py:171: YAMLLoadWarning: calling yaml.load() without Loader=... is deprecated, as the default Loader is unsafe. Please read https://msg.pyyaml.org/load for full details.\n",
      "  allmd = yaml.load(f)\n",
      "previous store had incorrect image_shape: corrected (4049, 3866, 3) -> (4048, 3866, 3)\n"
     ]
    },
    {
     "name": "stdout",
     "output_type": "stream",
     "text": [
      "loading pf\n",
      "loading fbf\n",
      "merging framenumber\n",
      "14318\n"
     ]
    },
    {
     "name": "stderr",
     "output_type": "stream",
     "text": [
      "/home/dan/miniconda3/envs/netstuff/lib/python3.6/site-packages/imgstore/stores.py:1236: YAMLLoadWarning: calling yaml.load() without Loader=... is deprecated, as the default Loader is unsafe. Please read https://msg.pyyaml.org/load for full details.\n",
      "  clsname = yaml.load(f)[STORE_MD_KEY]['class']\n",
      "/home/dan/miniconda3/envs/netstuff/lib/python3.6/site-packages/imgstore/stores.py:171: YAMLLoadWarning: calling yaml.load() without Loader=... is deprecated, as the default Loader is unsafe. Please read https://msg.pyyaml.org/load for full details.\n",
      "  allmd = yaml.load(f)\n",
      "previous store had incorrect image_shape: corrected (4049, 3866, 3) -> (4048, 3866, 3)\n"
     ]
    },
    {
     "name": "stdout",
     "output_type": "stream",
     "text": [
      "loading pf\n",
      "loading fbf\n",
      "merging framenumber\n"
     ]
    },
    {
     "name": "stderr",
     "output_type": "stream",
     "text": [
      "/home/dan/miniconda3/envs/netstuff/lib/python3.6/site-packages/imgstore/stores.py:1236: YAMLLoadWarning: calling yaml.load() without Loader=... is deprecated, as the default Loader is unsafe. Please read https://msg.pyyaml.org/load for full details.\n",
      "  clsname = yaml.load(f)[STORE_MD_KEY]['class']\n",
      "/home/dan/miniconda3/envs/netstuff/lib/python3.6/site-packages/imgstore/stores.py:171: YAMLLoadWarning: calling yaml.load() without Loader=... is deprecated, as the default Loader is unsafe. Please read https://msg.pyyaml.org/load for full details.\n",
      "  allmd = yaml.load(f)\n",
      "previous store had incorrect image_shape: corrected (4049, 3866, 3) -> (4048, 3866, 3)\n"
     ]
    },
    {
     "name": "stdout",
     "output_type": "stream",
     "text": [
      "loading pf\n",
      "loading fbf\n",
      "merging framenumber\n"
     ]
    },
    {
     "name": "stderr",
     "output_type": "stream",
     "text": [
      "/home/dan/miniconda3/envs/netstuff/lib/python3.6/site-packages/imgstore/stores.py:1236: YAMLLoadWarning: calling yaml.load() without Loader=... is deprecated, as the default Loader is unsafe. Please read https://msg.pyyaml.org/load for full details.\n",
      "  clsname = yaml.load(f)[STORE_MD_KEY]['class']\n",
      "/home/dan/miniconda3/envs/netstuff/lib/python3.6/site-packages/imgstore/stores.py:171: YAMLLoadWarning: calling yaml.load() without Loader=... is deprecated, as the default Loader is unsafe. Please read https://msg.pyyaml.org/load for full details.\n",
      "  allmd = yaml.load(f)\n",
      "previous store had incorrect image_shape: corrected (4049, 3866, 3) -> (4048, 3866, 3)\n"
     ]
    },
    {
     "name": "stdout",
     "output_type": "stream",
     "text": [
      "loading pf\n",
      "loading fbf\n",
      "merging framenumber\n"
     ]
    },
    {
     "name": "stderr",
     "output_type": "stream",
     "text": [
      "/home/dan/miniconda3/envs/netstuff/lib/python3.6/site-packages/imgstore/stores.py:1236: YAMLLoadWarning: calling yaml.load() without Loader=... is deprecated, as the default Loader is unsafe. Please read https://msg.pyyaml.org/load for full details.\n",
      "  clsname = yaml.load(f)[STORE_MD_KEY]['class']\n",
      "/home/dan/miniconda3/envs/netstuff/lib/python3.6/site-packages/imgstore/stores.py:171: YAMLLoadWarning: calling yaml.load() without Loader=... is deprecated, as the default Loader is unsafe. Please read https://msg.pyyaml.org/load for full details.\n",
      "  allmd = yaml.load(f)\n",
      "previous store had incorrect image_shape: corrected (4049, 3866, 3) -> (4048, 3866, 3)\n"
     ]
    },
    {
     "name": "stdout",
     "output_type": "stream",
     "text": [
      "loading pf\n",
      "loading fbf\n",
      "merging framenumber\n"
     ]
    },
    {
     "name": "stderr",
     "output_type": "stream",
     "text": [
      "/home/dan/miniconda3/envs/netstuff/lib/python3.6/site-packages/imgstore/stores.py:1236: YAMLLoadWarning: calling yaml.load() without Loader=... is deprecated, as the default Loader is unsafe. Please read https://msg.pyyaml.org/load for full details.\n",
      "  clsname = yaml.load(f)[STORE_MD_KEY]['class']\n",
      "/home/dan/miniconda3/envs/netstuff/lib/python3.6/site-packages/imgstore/stores.py:171: YAMLLoadWarning: calling yaml.load() without Loader=... is deprecated, as the default Loader is unsafe. Please read https://msg.pyyaml.org/load for full details.\n",
      "  allmd = yaml.load(f)\n",
      "previous store had incorrect image_shape: corrected (4049, 3866, 3) -> (4048, 3866, 3)\n"
     ]
    },
    {
     "name": "stdout",
     "output_type": "stream",
     "text": [
      "loading pf\n",
      "loading fbf\n",
      "merging framenumber\n"
     ]
    },
    {
     "name": "stderr",
     "output_type": "stream",
     "text": [
      "/home/dan/miniconda3/envs/netstuff/lib/python3.6/site-packages/imgstore/stores.py:1236: YAMLLoadWarning: calling yaml.load() without Loader=... is deprecated, as the default Loader is unsafe. Please read https://msg.pyyaml.org/load for full details.\n",
      "  clsname = yaml.load(f)[STORE_MD_KEY]['class']\n",
      "/home/dan/miniconda3/envs/netstuff/lib/python3.6/site-packages/imgstore/stores.py:171: YAMLLoadWarning: calling yaml.load() without Loader=... is deprecated, as the default Loader is unsafe. Please read https://msg.pyyaml.org/load for full details.\n",
      "  allmd = yaml.load(f)\n",
      "previous store had incorrect image_shape: corrected (4049, 3866, 3) -> (4048, 3866, 3)\n"
     ]
    },
    {
     "name": "stdout",
     "output_type": "stream",
     "text": [
      "loading pf\n",
      "loading fbf\n",
      "merging framenumber\n"
     ]
    },
    {
     "name": "stderr",
     "output_type": "stream",
     "text": [
      "/home/dan/miniconda3/envs/netstuff/lib/python3.6/site-packages/imgstore/stores.py:1236: YAMLLoadWarning: calling yaml.load() without Loader=... is deprecated, as the default Loader is unsafe. Please read https://msg.pyyaml.org/load for full details.\n",
      "  clsname = yaml.load(f)[STORE_MD_KEY]['class']\n",
      "/home/dan/miniconda3/envs/netstuff/lib/python3.6/site-packages/imgstore/stores.py:171: YAMLLoadWarning: calling yaml.load() without Loader=... is deprecated, as the default Loader is unsafe. Please read https://msg.pyyaml.org/load for full details.\n",
      "  allmd = yaml.load(f)\n",
      "previous store had incorrect image_shape: corrected (4049, 3866, 3) -> (4048, 3866, 3)\n"
     ]
    },
    {
     "name": "stdout",
     "output_type": "stream",
     "text": [
      "16500\n",
      "loading pf\n",
      "loading fbf\n",
      "merging framenumber\n"
     ]
    },
    {
     "name": "stderr",
     "output_type": "stream",
     "text": [
      "/home/dan/miniconda3/envs/netstuff/lib/python3.6/site-packages/imgstore/stores.py:1236: YAMLLoadWarning: calling yaml.load() without Loader=... is deprecated, as the default Loader is unsafe. Please read https://msg.pyyaml.org/load for full details.\n",
      "  clsname = yaml.load(f)[STORE_MD_KEY]['class']\n",
      "/home/dan/miniconda3/envs/netstuff/lib/python3.6/site-packages/imgstore/stores.py:171: YAMLLoadWarning: calling yaml.load() without Loader=... is deprecated, as the default Loader is unsafe. Please read https://msg.pyyaml.org/load for full details.\n",
      "  allmd = yaml.load(f)\n",
      "previous store had incorrect image_shape: corrected (4049, 3866, 3) -> (4048, 3866, 3)\n"
     ]
    },
    {
     "name": "stdout",
     "output_type": "stream",
     "text": [
      "loading pf\n",
      "loading fbf\n",
      "merging framenumber\n"
     ]
    },
    {
     "name": "stderr",
     "output_type": "stream",
     "text": [
      "/home/dan/miniconda3/envs/netstuff/lib/python3.6/site-packages/imgstore/stores.py:1236: YAMLLoadWarning: calling yaml.load() without Loader=... is deprecated, as the default Loader is unsafe. Please read https://msg.pyyaml.org/load for full details.\n",
      "  clsname = yaml.load(f)[STORE_MD_KEY]['class']\n",
      "/home/dan/miniconda3/envs/netstuff/lib/python3.6/site-packages/imgstore/stores.py:171: YAMLLoadWarning: calling yaml.load() without Loader=... is deprecated, as the default Loader is unsafe. Please read https://msg.pyyaml.org/load for full details.\n",
      "  allmd = yaml.load(f)\n",
      "previous store had incorrect image_shape: corrected (4049, 3866, 3) -> (4048, 3866, 3)\n"
     ]
    },
    {
     "name": "stdout",
     "output_type": "stream",
     "text": [
      "loading pf\n",
      "loading fbf\n",
      "merging framenumber\n"
     ]
    },
    {
     "name": "stderr",
     "output_type": "stream",
     "text": [
      "/home/dan/miniconda3/envs/netstuff/lib/python3.6/site-packages/imgstore/stores.py:1236: YAMLLoadWarning: calling yaml.load() without Loader=... is deprecated, as the default Loader is unsafe. Please read https://msg.pyyaml.org/load for full details.\n",
      "  clsname = yaml.load(f)[STORE_MD_KEY]['class']\n",
      "/home/dan/miniconda3/envs/netstuff/lib/python3.6/site-packages/imgstore/stores.py:171: YAMLLoadWarning: calling yaml.load() without Loader=... is deprecated, as the default Loader is unsafe. Please read https://msg.pyyaml.org/load for full details.\n",
      "  allmd = yaml.load(f)\n",
      "previous store had incorrect image_shape: corrected (4049, 3866, 3) -> (4048, 3866, 3)\n"
     ]
    },
    {
     "name": "stdout",
     "output_type": "stream",
     "text": [
      "loading pf\n",
      "loading fbf\n",
      "merging framenumber\n"
     ]
    },
    {
     "name": "stderr",
     "output_type": "stream",
     "text": [
      "/home/dan/miniconda3/envs/netstuff/lib/python3.6/site-packages/imgstore/stores.py:1236: YAMLLoadWarning: calling yaml.load() without Loader=... is deprecated, as the default Loader is unsafe. Please read https://msg.pyyaml.org/load for full details.\n",
      "  clsname = yaml.load(f)[STORE_MD_KEY]['class']\n",
      "/home/dan/miniconda3/envs/netstuff/lib/python3.6/site-packages/imgstore/stores.py:171: YAMLLoadWarning: calling yaml.load() without Loader=... is deprecated, as the default Loader is unsafe. Please read https://msg.pyyaml.org/load for full details.\n",
      "  allmd = yaml.load(f)\n",
      "previous store had incorrect image_shape: corrected (4049, 3866, 3) -> (4048, 3866, 3)\n"
     ]
    },
    {
     "name": "stdout",
     "output_type": "stream",
     "text": [
      "loading pf\n",
      "loading fbf\n",
      "merging framenumber\n"
     ]
    },
    {
     "name": "stderr",
     "output_type": "stream",
     "text": [
      "/home/dan/miniconda3/envs/netstuff/lib/python3.6/site-packages/imgstore/stores.py:1236: YAMLLoadWarning: calling yaml.load() without Loader=... is deprecated, as the default Loader is unsafe. Please read https://msg.pyyaml.org/load for full details.\n",
      "  clsname = yaml.load(f)[STORE_MD_KEY]['class']\n",
      "/home/dan/miniconda3/envs/netstuff/lib/python3.6/site-packages/imgstore/stores.py:171: YAMLLoadWarning: calling yaml.load() without Loader=... is deprecated, as the default Loader is unsafe. Please read https://msg.pyyaml.org/load for full details.\n",
      "  allmd = yaml.load(f)\n",
      "previous store had incorrect image_shape: corrected (4049, 3866, 3) -> (4048, 3866, 3)\n"
     ]
    },
    {
     "name": "stdout",
     "output_type": "stream",
     "text": [
      "loading pf\n",
      "loading fbf\n",
      "merging framenumber\n"
     ]
    },
    {
     "name": "stderr",
     "output_type": "stream",
     "text": [
      "/home/dan/miniconda3/envs/netstuff/lib/python3.6/site-packages/imgstore/stores.py:1236: YAMLLoadWarning: calling yaml.load() without Loader=... is deprecated, as the default Loader is unsafe. Please read https://msg.pyyaml.org/load for full details.\n",
      "  clsname = yaml.load(f)[STORE_MD_KEY]['class']\n",
      "/home/dan/miniconda3/envs/netstuff/lib/python3.6/site-packages/imgstore/stores.py:171: YAMLLoadWarning: calling yaml.load() without Loader=... is deprecated, as the default Loader is unsafe. Please read https://msg.pyyaml.org/load for full details.\n",
      "  allmd = yaml.load(f)\n",
      "previous store had incorrect image_shape: corrected (4049, 3866, 3) -> (4048, 3866, 3)\n"
     ]
    },
    {
     "name": "stdout",
     "output_type": "stream",
     "text": [
      "7586\n",
      "loading pf\n",
      "loading fbf\n",
      "merging framenumber\n"
     ]
    },
    {
     "name": "stderr",
     "output_type": "stream",
     "text": [
      "/home/dan/miniconda3/envs/netstuff/lib/python3.6/site-packages/imgstore/stores.py:1236: YAMLLoadWarning: calling yaml.load() without Loader=... is deprecated, as the default Loader is unsafe. Please read https://msg.pyyaml.org/load for full details.\n",
      "  clsname = yaml.load(f)[STORE_MD_KEY]['class']\n",
      "/home/dan/miniconda3/envs/netstuff/lib/python3.6/site-packages/imgstore/stores.py:171: YAMLLoadWarning: calling yaml.load() without Loader=... is deprecated, as the default Loader is unsafe. Please read https://msg.pyyaml.org/load for full details.\n",
      "  allmd = yaml.load(f)\n",
      "previous store had incorrect image_shape: corrected (4049, 3866, 3) -> (4048, 3866, 3)\n"
     ]
    },
    {
     "name": "stdout",
     "output_type": "stream",
     "text": [
      "loading pf\n",
      "loading fbf\n",
      "merging framenumber\n"
     ]
    },
    {
     "name": "stderr",
     "output_type": "stream",
     "text": [
      "/home/dan/miniconda3/envs/netstuff/lib/python3.6/site-packages/imgstore/stores.py:1236: YAMLLoadWarning: calling yaml.load() without Loader=... is deprecated, as the default Loader is unsafe. Please read https://msg.pyyaml.org/load for full details.\n",
      "  clsname = yaml.load(f)[STORE_MD_KEY]['class']\n",
      "/home/dan/miniconda3/envs/netstuff/lib/python3.6/site-packages/imgstore/stores.py:171: YAMLLoadWarning: calling yaml.load() without Loader=... is deprecated, as the default Loader is unsafe. Please read https://msg.pyyaml.org/load for full details.\n",
      "  allmd = yaml.load(f)\n",
      "previous store had incorrect image_shape: corrected (4049, 3866, 3) -> (4048, 3866, 3)\n"
     ]
    },
    {
     "name": "stdout",
     "output_type": "stream",
     "text": [
      "loading pf\n",
      "loading fbf\n",
      "merging framenumber\n"
     ]
    },
    {
     "name": "stderr",
     "output_type": "stream",
     "text": [
      "/home/dan/miniconda3/envs/netstuff/lib/python3.6/site-packages/imgstore/stores.py:1236: YAMLLoadWarning: calling yaml.load() without Loader=... is deprecated, as the default Loader is unsafe. Please read https://msg.pyyaml.org/load for full details.\n",
      "  clsname = yaml.load(f)[STORE_MD_KEY]['class']\n",
      "/home/dan/miniconda3/envs/netstuff/lib/python3.6/site-packages/imgstore/stores.py:171: YAMLLoadWarning: calling yaml.load() without Loader=... is deprecated, as the default Loader is unsafe. Please read https://msg.pyyaml.org/load for full details.\n",
      "  allmd = yaml.load(f)\n",
      "previous store had incorrect image_shape: corrected (4049, 3866, 3) -> (4048, 3866, 3)\n"
     ]
    },
    {
     "name": "stdout",
     "output_type": "stream",
     "text": [
      "loading pf\n",
      "loading fbf\n",
      "merging framenumber\n"
     ]
    },
    {
     "name": "stderr",
     "output_type": "stream",
     "text": [
      "/home/dan/miniconda3/envs/netstuff/lib/python3.6/site-packages/imgstore/stores.py:1236: YAMLLoadWarning: calling yaml.load() without Loader=... is deprecated, as the default Loader is unsafe. Please read https://msg.pyyaml.org/load for full details.\n",
      "  clsname = yaml.load(f)[STORE_MD_KEY]['class']\n",
      "/home/dan/miniconda3/envs/netstuff/lib/python3.6/site-packages/imgstore/stores.py:171: YAMLLoadWarning: calling yaml.load() without Loader=... is deprecated, as the default Loader is unsafe. Please read https://msg.pyyaml.org/load for full details.\n",
      "  allmd = yaml.load(f)\n",
      "previous store had incorrect image_shape: corrected (4049, 3866, 3) -> (4048, 3866, 3)\n"
     ]
    },
    {
     "name": "stdout",
     "output_type": "stream",
     "text": [
      "loading pf\n",
      "loading fbf\n",
      "merging framenumber\n"
     ]
    },
    {
     "name": "stderr",
     "output_type": "stream",
     "text": [
      "/home/dan/miniconda3/envs/netstuff/lib/python3.6/site-packages/imgstore/stores.py:1236: YAMLLoadWarning: calling yaml.load() without Loader=... is deprecated, as the default Loader is unsafe. Please read https://msg.pyyaml.org/load for full details.\n",
      "  clsname = yaml.load(f)[STORE_MD_KEY]['class']\n",
      "/home/dan/miniconda3/envs/netstuff/lib/python3.6/site-packages/imgstore/stores.py:171: YAMLLoadWarning: calling yaml.load() without Loader=... is deprecated, as the default Loader is unsafe. Please read https://msg.pyyaml.org/load for full details.\n",
      "  allmd = yaml.load(f)\n",
      "previous store had incorrect image_shape: corrected (4049, 3866, 3) -> (4048, 3866, 3)\n"
     ]
    },
    {
     "name": "stdout",
     "output_type": "stream",
     "text": [
      "loading pf\n",
      "loading fbf\n",
      "merging framenumber\n",
      "12504\n"
     ]
    },
    {
     "name": "stderr",
     "output_type": "stream",
     "text": [
      "/home/dan/miniconda3/envs/netstuff/lib/python3.6/site-packages/imgstore/stores.py:1236: YAMLLoadWarning: calling yaml.load() without Loader=... is deprecated, as the default Loader is unsafe. Please read https://msg.pyyaml.org/load for full details.\n",
      "  clsname = yaml.load(f)[STORE_MD_KEY]['class']\n",
      "/home/dan/miniconda3/envs/netstuff/lib/python3.6/site-packages/imgstore/stores.py:171: YAMLLoadWarning: calling yaml.load() without Loader=... is deprecated, as the default Loader is unsafe. Please read https://msg.pyyaml.org/load for full details.\n",
      "  allmd = yaml.load(f)\n",
      "previous store had incorrect image_shape: corrected (4049, 3866, 3) -> (4048, 3866, 3)\n"
     ]
    },
    {
     "name": "stdout",
     "output_type": "stream",
     "text": [
      "loading pf\n",
      "loading fbf\n",
      "merging framenumber\n"
     ]
    },
    {
     "name": "stderr",
     "output_type": "stream",
     "text": [
      "/home/dan/miniconda3/envs/netstuff/lib/python3.6/site-packages/imgstore/stores.py:1236: YAMLLoadWarning: calling yaml.load() without Loader=... is deprecated, as the default Loader is unsafe. Please read https://msg.pyyaml.org/load for full details.\n",
      "  clsname = yaml.load(f)[STORE_MD_KEY]['class']\n",
      "/home/dan/miniconda3/envs/netstuff/lib/python3.6/site-packages/imgstore/stores.py:171: YAMLLoadWarning: calling yaml.load() without Loader=... is deprecated, as the default Loader is unsafe. Please read https://msg.pyyaml.org/load for full details.\n",
      "  allmd = yaml.load(f)\n",
      "previous store had incorrect image_shape: corrected (4049, 3866, 3) -> (4048, 3866, 3)\n"
     ]
    },
    {
     "name": "stdout",
     "output_type": "stream",
     "text": [
      "loading pf\n",
      "loading fbf\n",
      "merging framenumber\n"
     ]
    },
    {
     "name": "stderr",
     "output_type": "stream",
     "text": [
      "/home/dan/miniconda3/envs/netstuff/lib/python3.6/site-packages/imgstore/stores.py:1236: YAMLLoadWarning: calling yaml.load() without Loader=... is deprecated, as the default Loader is unsafe. Please read https://msg.pyyaml.org/load for full details.\n",
      "  clsname = yaml.load(f)[STORE_MD_KEY]['class']\n",
      "/home/dan/miniconda3/envs/netstuff/lib/python3.6/site-packages/imgstore/stores.py:171: YAMLLoadWarning: calling yaml.load() without Loader=... is deprecated, as the default Loader is unsafe. Please read https://msg.pyyaml.org/load for full details.\n",
      "  allmd = yaml.load(f)\n",
      "previous store had incorrect image_shape: corrected (4049, 3866, 3) -> (4048, 3866, 3)\n"
     ]
    },
    {
     "name": "stdout",
     "output_type": "stream",
     "text": [
      "loading pf\n",
      "loading fbf\n",
      "merging framenumber\n"
     ]
    },
    {
     "name": "stderr",
     "output_type": "stream",
     "text": [
      "/home/dan/miniconda3/envs/netstuff/lib/python3.6/site-packages/imgstore/stores.py:1236: YAMLLoadWarning: calling yaml.load() without Loader=... is deprecated, as the default Loader is unsafe. Please read https://msg.pyyaml.org/load for full details.\n",
      "  clsname = yaml.load(f)[STORE_MD_KEY]['class']\n",
      "/home/dan/miniconda3/envs/netstuff/lib/python3.6/site-packages/imgstore/stores.py:171: YAMLLoadWarning: calling yaml.load() without Loader=... is deprecated, as the default Loader is unsafe. Please read https://msg.pyyaml.org/load for full details.\n",
      "  allmd = yaml.load(f)\n",
      "previous store had incorrect image_shape: corrected (4049, 3866, 3) -> (4048, 3866, 3)\n"
     ]
    },
    {
     "name": "stdout",
     "output_type": "stream",
     "text": [
      "loading pf\n",
      "loading fbf\n",
      "merging framenumber\n"
     ]
    },
    {
     "name": "stderr",
     "output_type": "stream",
     "text": [
      "/home/dan/miniconda3/envs/netstuff/lib/python3.6/site-packages/imgstore/stores.py:1236: YAMLLoadWarning: calling yaml.load() without Loader=... is deprecated, as the default Loader is unsafe. Please read https://msg.pyyaml.org/load for full details.\n",
      "  clsname = yaml.load(f)[STORE_MD_KEY]['class']\n",
      "/home/dan/miniconda3/envs/netstuff/lib/python3.6/site-packages/imgstore/stores.py:171: YAMLLoadWarning: calling yaml.load() without Loader=... is deprecated, as the default Loader is unsafe. Please read https://msg.pyyaml.org/load for full details.\n",
      "  allmd = yaml.load(f)\n",
      "previous store had incorrect image_shape: corrected (4049, 3866, 3) -> (4048, 3866, 3)\n"
     ]
    },
    {
     "name": "stdout",
     "output_type": "stream",
     "text": [
      "loading pf\n",
      "loading fbf\n",
      "merging framenumber\n"
     ]
    },
    {
     "name": "stderr",
     "output_type": "stream",
     "text": [
      "/home/dan/miniconda3/envs/netstuff/lib/python3.6/site-packages/imgstore/stores.py:1236: YAMLLoadWarning: calling yaml.load() without Loader=... is deprecated, as the default Loader is unsafe. Please read https://msg.pyyaml.org/load for full details.\n",
      "  clsname = yaml.load(f)[STORE_MD_KEY]['class']\n",
      "/home/dan/miniconda3/envs/netstuff/lib/python3.6/site-packages/imgstore/stores.py:171: YAMLLoadWarning: calling yaml.load() without Loader=... is deprecated, as the default Loader is unsafe. Please read https://msg.pyyaml.org/load for full details.\n",
      "  allmd = yaml.load(f)\n",
      "previous store had incorrect image_shape: corrected (4049, 3866, 3) -> (4048, 3866, 3)\n"
     ]
    },
    {
     "name": "stdout",
     "output_type": "stream",
     "text": [
      "loading pf\n",
      "loading fbf\n",
      "merging framenumber\n"
     ]
    },
    {
     "name": "stderr",
     "output_type": "stream",
     "text": [
      "/home/dan/miniconda3/envs/netstuff/lib/python3.6/site-packages/imgstore/stores.py:1236: YAMLLoadWarning: calling yaml.load() without Loader=... is deprecated, as the default Loader is unsafe. Please read https://msg.pyyaml.org/load for full details.\n",
      "  clsname = yaml.load(f)[STORE_MD_KEY]['class']\n",
      "/home/dan/miniconda3/envs/netstuff/lib/python3.6/site-packages/imgstore/stores.py:171: YAMLLoadWarning: calling yaml.load() without Loader=... is deprecated, as the default Loader is unsafe. Please read https://msg.pyyaml.org/load for full details.\n",
      "  allmd = yaml.load(f)\n",
      "previous store had incorrect image_shape: corrected (4049, 3866, 3) -> (4048, 3866, 3)\n"
     ]
    },
    {
     "name": "stdout",
     "output_type": "stream",
     "text": [
      "15009\n",
      "loading pf\n",
      "loading fbf\n",
      "merging framenumber\n"
     ]
    },
    {
     "name": "stderr",
     "output_type": "stream",
     "text": [
      "/home/dan/miniconda3/envs/netstuff/lib/python3.6/site-packages/imgstore/stores.py:1236: YAMLLoadWarning: calling yaml.load() without Loader=... is deprecated, as the default Loader is unsafe. Please read https://msg.pyyaml.org/load for full details.\n",
      "  clsname = yaml.load(f)[STORE_MD_KEY]['class']\n",
      "/home/dan/miniconda3/envs/netstuff/lib/python3.6/site-packages/imgstore/stores.py:171: YAMLLoadWarning: calling yaml.load() without Loader=... is deprecated, as the default Loader is unsafe. Please read https://msg.pyyaml.org/load for full details.\n",
      "  allmd = yaml.load(f)\n",
      "previous store had incorrect image_shape: corrected (4049, 3866, 3) -> (4048, 3866, 3)\n"
     ]
    },
    {
     "name": "stdout",
     "output_type": "stream",
     "text": [
      "loading pf\n",
      "loading fbf\n",
      "merging framenumber\n"
     ]
    },
    {
     "name": "stderr",
     "output_type": "stream",
     "text": [
      "/home/dan/miniconda3/envs/netstuff/lib/python3.6/site-packages/imgstore/stores.py:1236: YAMLLoadWarning: calling yaml.load() without Loader=... is deprecated, as the default Loader is unsafe. Please read https://msg.pyyaml.org/load for full details.\n",
      "  clsname = yaml.load(f)[STORE_MD_KEY]['class']\n",
      "/home/dan/miniconda3/envs/netstuff/lib/python3.6/site-packages/imgstore/stores.py:171: YAMLLoadWarning: calling yaml.load() without Loader=... is deprecated, as the default Loader is unsafe. Please read https://msg.pyyaml.org/load for full details.\n",
      "  allmd = yaml.load(f)\n",
      "previous store had incorrect image_shape: corrected (4049, 3866, 3) -> (4048, 3866, 3)\n"
     ]
    },
    {
     "name": "stdout",
     "output_type": "stream",
     "text": [
      "loading pf\n",
      "loading fbf\n",
      "merging framenumber\n"
     ]
    },
    {
     "name": "stderr",
     "output_type": "stream",
     "text": [
      "/home/dan/miniconda3/envs/netstuff/lib/python3.6/site-packages/imgstore/stores.py:1236: YAMLLoadWarning: calling yaml.load() without Loader=... is deprecated, as the default Loader is unsafe. Please read https://msg.pyyaml.org/load for full details.\n",
      "  clsname = yaml.load(f)[STORE_MD_KEY]['class']\n",
      "/home/dan/miniconda3/envs/netstuff/lib/python3.6/site-packages/imgstore/stores.py:171: YAMLLoadWarning: calling yaml.load() without Loader=... is deprecated, as the default Loader is unsafe. Please read https://msg.pyyaml.org/load for full details.\n",
      "  allmd = yaml.load(f)\n",
      "previous store had incorrect image_shape: corrected (4049, 3866, 3) -> (4048, 3866, 3)\n"
     ]
    },
    {
     "name": "stdout",
     "output_type": "stream",
     "text": [
      "loading pf\n",
      "loading fbf\n",
      "merging framenumber\n"
     ]
    },
    {
     "name": "stderr",
     "output_type": "stream",
     "text": [
      "/home/dan/miniconda3/envs/netstuff/lib/python3.6/site-packages/imgstore/stores.py:1236: YAMLLoadWarning: calling yaml.load() without Loader=... is deprecated, as the default Loader is unsafe. Please read https://msg.pyyaml.org/load for full details.\n",
      "  clsname = yaml.load(f)[STORE_MD_KEY]['class']\n",
      "/home/dan/miniconda3/envs/netstuff/lib/python3.6/site-packages/imgstore/stores.py:171: YAMLLoadWarning: calling yaml.load() without Loader=... is deprecated, as the default Loader is unsafe. Please read https://msg.pyyaml.org/load for full details.\n",
      "  allmd = yaml.load(f)\n",
      "previous store had incorrect image_shape: corrected (4049, 3866, 3) -> (4048, 3866, 3)\n"
     ]
    },
    {
     "name": "stdout",
     "output_type": "stream",
     "text": [
      "loading pf\n",
      "loading fbf\n",
      "merging framenumber\n"
     ]
    },
    {
     "name": "stderr",
     "output_type": "stream",
     "text": [
      "/home/dan/miniconda3/envs/netstuff/lib/python3.6/site-packages/imgstore/stores.py:1236: YAMLLoadWarning: calling yaml.load() without Loader=... is deprecated, as the default Loader is unsafe. Please read https://msg.pyyaml.org/load for full details.\n",
      "  clsname = yaml.load(f)[STORE_MD_KEY]['class']\n",
      "/home/dan/miniconda3/envs/netstuff/lib/python3.6/site-packages/imgstore/stores.py:171: YAMLLoadWarning: calling yaml.load() without Loader=... is deprecated, as the default Loader is unsafe. Please read https://msg.pyyaml.org/load for full details.\n",
      "  allmd = yaml.load(f)\n",
      "previous store had incorrect image_shape: corrected (4049, 3866, 3) -> (4048, 3866, 3)\n"
     ]
    },
    {
     "name": "stdout",
     "output_type": "stream",
     "text": [
      "loading pf\n",
      "loading fbf\n",
      "merging framenumber\n",
      "18462\n"
     ]
    },
    {
     "name": "stderr",
     "output_type": "stream",
     "text": [
      "/home/dan/miniconda3/envs/netstuff/lib/python3.6/site-packages/imgstore/stores.py:1236: YAMLLoadWarning: calling yaml.load() without Loader=... is deprecated, as the default Loader is unsafe. Please read https://msg.pyyaml.org/load for full details.\n",
      "  clsname = yaml.load(f)[STORE_MD_KEY]['class']\n",
      "/home/dan/miniconda3/envs/netstuff/lib/python3.6/site-packages/imgstore/stores.py:171: YAMLLoadWarning: calling yaml.load() without Loader=... is deprecated, as the default Loader is unsafe. Please read https://msg.pyyaml.org/load for full details.\n",
      "  allmd = yaml.load(f)\n",
      "previous store had incorrect image_shape: corrected (4049, 3866, 3) -> (4048, 3866, 3)\n"
     ]
    },
    {
     "name": "stdout",
     "output_type": "stream",
     "text": [
      "loading pf\n",
      "loading fbf\n",
      "merging framenumber\n"
     ]
    },
    {
     "name": "stderr",
     "output_type": "stream",
     "text": [
      "/home/dan/miniconda3/envs/netstuff/lib/python3.6/site-packages/imgstore/stores.py:1236: YAMLLoadWarning: calling yaml.load() without Loader=... is deprecated, as the default Loader is unsafe. Please read https://msg.pyyaml.org/load for full details.\n",
      "  clsname = yaml.load(f)[STORE_MD_KEY]['class']\n",
      "/home/dan/miniconda3/envs/netstuff/lib/python3.6/site-packages/imgstore/stores.py:171: YAMLLoadWarning: calling yaml.load() without Loader=... is deprecated, as the default Loader is unsafe. Please read https://msg.pyyaml.org/load for full details.\n",
      "  allmd = yaml.load(f)\n",
      "previous store had incorrect image_shape: corrected (4049, 3866, 3) -> (4048, 3866, 3)\n"
     ]
    },
    {
     "name": "stdout",
     "output_type": "stream",
     "text": [
      "loading pf\n",
      "loading fbf\n",
      "merging framenumber\n"
     ]
    },
    {
     "name": "stderr",
     "output_type": "stream",
     "text": [
      "/home/dan/miniconda3/envs/netstuff/lib/python3.6/site-packages/imgstore/stores.py:1236: YAMLLoadWarning: calling yaml.load() without Loader=... is deprecated, as the default Loader is unsafe. Please read https://msg.pyyaml.org/load for full details.\n",
      "  clsname = yaml.load(f)[STORE_MD_KEY]['class']\n",
      "/home/dan/miniconda3/envs/netstuff/lib/python3.6/site-packages/imgstore/stores.py:171: YAMLLoadWarning: calling yaml.load() without Loader=... is deprecated, as the default Loader is unsafe. Please read https://msg.pyyaml.org/load for full details.\n",
      "  allmd = yaml.load(f)\n",
      "previous store had incorrect image_shape: corrected (4049, 3866, 3) -> (4048, 3866, 3)\n"
     ]
    },
    {
     "name": "stdout",
     "output_type": "stream",
     "text": [
      "loading pf\n",
      "loading fbf\n",
      "merging framenumber\n"
     ]
    },
    {
     "name": "stderr",
     "output_type": "stream",
     "text": [
      "/home/dan/miniconda3/envs/netstuff/lib/python3.6/site-packages/imgstore/stores.py:1236: YAMLLoadWarning: calling yaml.load() without Loader=... is deprecated, as the default Loader is unsafe. Please read https://msg.pyyaml.org/load for full details.\n",
      "  clsname = yaml.load(f)[STORE_MD_KEY]['class']\n",
      "/home/dan/miniconda3/envs/netstuff/lib/python3.6/site-packages/imgstore/stores.py:171: YAMLLoadWarning: calling yaml.load() without Loader=... is deprecated, as the default Loader is unsafe. Please read https://msg.pyyaml.org/load for full details.\n",
      "  allmd = yaml.load(f)\n",
      "previous store had incorrect image_shape: corrected (4049, 3866, 3) -> (4048, 3866, 3)\n"
     ]
    },
    {
     "name": "stdout",
     "output_type": "stream",
     "text": [
      "loading pf\n",
      "loading fbf\n",
      "merging framenumber\n"
     ]
    },
    {
     "name": "stderr",
     "output_type": "stream",
     "text": [
      "/home/dan/miniconda3/envs/netstuff/lib/python3.6/site-packages/imgstore/stores.py:1236: YAMLLoadWarning: calling yaml.load() without Loader=... is deprecated, as the default Loader is unsafe. Please read https://msg.pyyaml.org/load for full details.\n",
      "  clsname = yaml.load(f)[STORE_MD_KEY]['class']\n",
      "/home/dan/miniconda3/envs/netstuff/lib/python3.6/site-packages/imgstore/stores.py:171: YAMLLoadWarning: calling yaml.load() without Loader=... is deprecated, as the default Loader is unsafe. Please read https://msg.pyyaml.org/load for full details.\n",
      "  allmd = yaml.load(f)\n",
      "previous store had incorrect image_shape: corrected (4049, 3866, 3) -> (4048, 3866, 3)\n"
     ]
    },
    {
     "name": "stdout",
     "output_type": "stream",
     "text": [
      "loading pf\n",
      "loading fbf\n",
      "merging framenumber\n"
     ]
    },
    {
     "name": "stderr",
     "output_type": "stream",
     "text": [
      "/home/dan/miniconda3/envs/netstuff/lib/python3.6/site-packages/imgstore/stores.py:1236: YAMLLoadWarning: calling yaml.load() without Loader=... is deprecated, as the default Loader is unsafe. Please read https://msg.pyyaml.org/load for full details.\n",
      "  clsname = yaml.load(f)[STORE_MD_KEY]['class']\n",
      "/home/dan/miniconda3/envs/netstuff/lib/python3.6/site-packages/imgstore/stores.py:171: YAMLLoadWarning: calling yaml.load() without Loader=... is deprecated, as the default Loader is unsafe. Please read https://msg.pyyaml.org/load for full details.\n",
      "  allmd = yaml.load(f)\n",
      "previous store had incorrect image_shape: corrected (4049, 3866, 3) -> (4048, 3866, 3)\n"
     ]
    },
    {
     "name": "stdout",
     "output_type": "stream",
     "text": [
      "loading pf\n",
      "loading fbf\n",
      "merging framenumber\n",
      "9288\n"
     ]
    },
    {
     "name": "stderr",
     "output_type": "stream",
     "text": [
      "/home/dan/miniconda3/envs/netstuff/lib/python3.6/site-packages/imgstore/stores.py:1236: YAMLLoadWarning: calling yaml.load() without Loader=... is deprecated, as the default Loader is unsafe. Please read https://msg.pyyaml.org/load for full details.\n",
      "  clsname = yaml.load(f)[STORE_MD_KEY]['class']\n",
      "/home/dan/miniconda3/envs/netstuff/lib/python3.6/site-packages/imgstore/stores.py:171: YAMLLoadWarning: calling yaml.load() without Loader=... is deprecated, as the default Loader is unsafe. Please read https://msg.pyyaml.org/load for full details.\n",
      "  allmd = yaml.load(f)\n",
      "previous store had incorrect image_shape: corrected (4049, 3866, 3) -> (4048, 3866, 3)\n"
     ]
    },
    {
     "name": "stdout",
     "output_type": "stream",
     "text": [
      "loading pf\n",
      "loading fbf\n",
      "merging framenumber\n"
     ]
    },
    {
     "name": "stderr",
     "output_type": "stream",
     "text": [
      "/home/dan/miniconda3/envs/netstuff/lib/python3.6/site-packages/imgstore/stores.py:1236: YAMLLoadWarning: calling yaml.load() without Loader=... is deprecated, as the default Loader is unsafe. Please read https://msg.pyyaml.org/load for full details.\n",
      "  clsname = yaml.load(f)[STORE_MD_KEY]['class']\n",
      "/home/dan/miniconda3/envs/netstuff/lib/python3.6/site-packages/imgstore/stores.py:171: YAMLLoadWarning: calling yaml.load() without Loader=... is deprecated, as the default Loader is unsafe. Please read https://msg.pyyaml.org/load for full details.\n",
      "  allmd = yaml.load(f)\n",
      "previous store had incorrect image_shape: corrected (4049, 3866, 3) -> (4048, 3866, 3)\n"
     ]
    },
    {
     "name": "stdout",
     "output_type": "stream",
     "text": [
      "loading pf\n",
      "loading fbf\n",
      "merging framenumber\n"
     ]
    },
    {
     "name": "stderr",
     "output_type": "stream",
     "text": [
      "/home/dan/miniconda3/envs/netstuff/lib/python3.6/site-packages/imgstore/stores.py:1236: YAMLLoadWarning: calling yaml.load() without Loader=... is deprecated, as the default Loader is unsafe. Please read https://msg.pyyaml.org/load for full details.\n",
      "  clsname = yaml.load(f)[STORE_MD_KEY]['class']\n",
      "/home/dan/miniconda3/envs/netstuff/lib/python3.6/site-packages/imgstore/stores.py:171: YAMLLoadWarning: calling yaml.load() without Loader=... is deprecated, as the default Loader is unsafe. Please read https://msg.pyyaml.org/load for full details.\n",
      "  allmd = yaml.load(f)\n",
      "previous store had incorrect image_shape: corrected (4049, 3866, 3) -> (4048, 3866, 3)\n"
     ]
    },
    {
     "name": "stdout",
     "output_type": "stream",
     "text": [
      "loading pf\n",
      "loading fbf\n",
      "merging framenumber\n"
     ]
    },
    {
     "name": "stderr",
     "output_type": "stream",
     "text": [
      "/home/dan/miniconda3/envs/netstuff/lib/python3.6/site-packages/imgstore/stores.py:1236: YAMLLoadWarning: calling yaml.load() without Loader=... is deprecated, as the default Loader is unsafe. Please read https://msg.pyyaml.org/load for full details.\n",
      "  clsname = yaml.load(f)[STORE_MD_KEY]['class']\n",
      "/home/dan/miniconda3/envs/netstuff/lib/python3.6/site-packages/imgstore/stores.py:171: YAMLLoadWarning: calling yaml.load() without Loader=... is deprecated, as the default Loader is unsafe. Please read https://msg.pyyaml.org/load for full details.\n",
      "  allmd = yaml.load(f)\n",
      "previous store had incorrect image_shape: corrected (4049, 3866, 3) -> (4048, 3866, 3)\n"
     ]
    },
    {
     "name": "stdout",
     "output_type": "stream",
     "text": [
      "loading pf\n",
      "loading fbf\n",
      "merging framenumber\n"
     ]
    },
    {
     "name": "stderr",
     "output_type": "stream",
     "text": [
      "/home/dan/miniconda3/envs/netstuff/lib/python3.6/site-packages/imgstore/stores.py:1236: YAMLLoadWarning: calling yaml.load() without Loader=... is deprecated, as the default Loader is unsafe. Please read https://msg.pyyaml.org/load for full details.\n",
      "  clsname = yaml.load(f)[STORE_MD_KEY]['class']\n",
      "/home/dan/miniconda3/envs/netstuff/lib/python3.6/site-packages/imgstore/stores.py:171: YAMLLoadWarning: calling yaml.load() without Loader=... is deprecated, as the default Loader is unsafe. Please read https://msg.pyyaml.org/load for full details.\n",
      "  allmd = yaml.load(f)\n",
      "previous store had incorrect image_shape: corrected (4049, 3866, 3) -> (4048, 3866, 3)\n"
     ]
    },
    {
     "name": "stdout",
     "output_type": "stream",
     "text": [
      "loading pf\n",
      "loading fbf\n",
      "merging framenumber\n"
     ]
    },
    {
     "name": "stderr",
     "output_type": "stream",
     "text": [
      "/home/dan/miniconda3/envs/netstuff/lib/python3.6/site-packages/imgstore/stores.py:1236: YAMLLoadWarning: calling yaml.load() without Loader=... is deprecated, as the default Loader is unsafe. Please read https://msg.pyyaml.org/load for full details.\n",
      "  clsname = yaml.load(f)[STORE_MD_KEY]['class']\n",
      "/home/dan/miniconda3/envs/netstuff/lib/python3.6/site-packages/imgstore/stores.py:171: YAMLLoadWarning: calling yaml.load() without Loader=... is deprecated, as the default Loader is unsafe. Please read https://msg.pyyaml.org/load for full details.\n",
      "  allmd = yaml.load(f)\n",
      "previous store had incorrect image_shape: corrected (4049, 3866, 3) -> (4048, 3866, 3)\n"
     ]
    },
    {
     "name": "stdout",
     "output_type": "stream",
     "text": [
      "loading pf\n",
      "loading fbf\n",
      "merging framenumber\n",
      "14701\n"
     ]
    },
    {
     "name": "stderr",
     "output_type": "stream",
     "text": [
      "/home/dan/miniconda3/envs/netstuff/lib/python3.6/site-packages/imgstore/stores.py:1236: YAMLLoadWarning: calling yaml.load() without Loader=... is deprecated, as the default Loader is unsafe. Please read https://msg.pyyaml.org/load for full details.\n",
      "  clsname = yaml.load(f)[STORE_MD_KEY]['class']\n",
      "/home/dan/miniconda3/envs/netstuff/lib/python3.6/site-packages/imgstore/stores.py:171: YAMLLoadWarning: calling yaml.load() without Loader=... is deprecated, as the default Loader is unsafe. Please read https://msg.pyyaml.org/load for full details.\n",
      "  allmd = yaml.load(f)\n",
      "previous store had incorrect image_shape: corrected (4049, 3866, 3) -> (4048, 3866, 3)\n"
     ]
    },
    {
     "name": "stdout",
     "output_type": "stream",
     "text": [
      "loading pf\n",
      "loading fbf\n",
      "merging framenumber\n"
     ]
    },
    {
     "name": "stderr",
     "output_type": "stream",
     "text": [
      "/home/dan/miniconda3/envs/netstuff/lib/python3.6/site-packages/imgstore/stores.py:1236: YAMLLoadWarning: calling yaml.load() without Loader=... is deprecated, as the default Loader is unsafe. Please read https://msg.pyyaml.org/load for full details.\n",
      "  clsname = yaml.load(f)[STORE_MD_KEY]['class']\n",
      "/home/dan/miniconda3/envs/netstuff/lib/python3.6/site-packages/imgstore/stores.py:171: YAMLLoadWarning: calling yaml.load() without Loader=... is deprecated, as the default Loader is unsafe. Please read https://msg.pyyaml.org/load for full details.\n",
      "  allmd = yaml.load(f)\n",
      "previous store had incorrect image_shape: corrected (4049, 3866, 3) -> (4048, 3866, 3)\n"
     ]
    },
    {
     "name": "stdout",
     "output_type": "stream",
     "text": [
      "loading pf\n",
      "loading fbf\n",
      "merging framenumber\n"
     ]
    },
    {
     "name": "stderr",
     "output_type": "stream",
     "text": [
      "/home/dan/miniconda3/envs/netstuff/lib/python3.6/site-packages/imgstore/stores.py:1236: YAMLLoadWarning: calling yaml.load() without Loader=... is deprecated, as the default Loader is unsafe. Please read https://msg.pyyaml.org/load for full details.\n",
      "  clsname = yaml.load(f)[STORE_MD_KEY]['class']\n",
      "/home/dan/miniconda3/envs/netstuff/lib/python3.6/site-packages/imgstore/stores.py:171: YAMLLoadWarning: calling yaml.load() without Loader=... is deprecated, as the default Loader is unsafe. Please read https://msg.pyyaml.org/load for full details.\n",
      "  allmd = yaml.load(f)\n",
      "previous store had incorrect image_shape: corrected (4049, 3866, 3) -> (4048, 3866, 3)\n"
     ]
    },
    {
     "name": "stdout",
     "output_type": "stream",
     "text": [
      "loading pf\n",
      "loading fbf\n",
      "merging framenumber\n"
     ]
    },
    {
     "name": "stderr",
     "output_type": "stream",
     "text": [
      "/home/dan/miniconda3/envs/netstuff/lib/python3.6/site-packages/imgstore/stores.py:1236: YAMLLoadWarning: calling yaml.load() without Loader=... is deprecated, as the default Loader is unsafe. Please read https://msg.pyyaml.org/load for full details.\n",
      "  clsname = yaml.load(f)[STORE_MD_KEY]['class']\n",
      "/home/dan/miniconda3/envs/netstuff/lib/python3.6/site-packages/imgstore/stores.py:171: YAMLLoadWarning: calling yaml.load() without Loader=... is deprecated, as the default Loader is unsafe. Please read https://msg.pyyaml.org/load for full details.\n",
      "  allmd = yaml.load(f)\n",
      "previous store had incorrect image_shape: corrected (4049, 3866, 3) -> (4048, 3866, 3)\n"
     ]
    },
    {
     "name": "stdout",
     "output_type": "stream",
     "text": [
      "loading pf\n",
      "loading fbf\n",
      "merging framenumber\n"
     ]
    },
    {
     "name": "stderr",
     "output_type": "stream",
     "text": [
      "/home/dan/miniconda3/envs/netstuff/lib/python3.6/site-packages/imgstore/stores.py:1236: YAMLLoadWarning: calling yaml.load() without Loader=... is deprecated, as the default Loader is unsafe. Please read https://msg.pyyaml.org/load for full details.\n",
      "  clsname = yaml.load(f)[STORE_MD_KEY]['class']\n",
      "/home/dan/miniconda3/envs/netstuff/lib/python3.6/site-packages/imgstore/stores.py:171: YAMLLoadWarning: calling yaml.load() without Loader=... is deprecated, as the default Loader is unsafe. Please read https://msg.pyyaml.org/load for full details.\n",
      "  allmd = yaml.load(f)\n",
      "previous store had incorrect image_shape: corrected (4049, 3866, 3) -> (4048, 3866, 3)\n"
     ]
    },
    {
     "name": "stdout",
     "output_type": "stream",
     "text": [
      "loading pf\n",
      "loading fbf\n",
      "merging framenumber\n"
     ]
    },
    {
     "name": "stderr",
     "output_type": "stream",
     "text": [
      "/home/dan/miniconda3/envs/netstuff/lib/python3.6/site-packages/imgstore/stores.py:1236: YAMLLoadWarning: calling yaml.load() without Loader=... is deprecated, as the default Loader is unsafe. Please read https://msg.pyyaml.org/load for full details.\n",
      "  clsname = yaml.load(f)[STORE_MD_KEY]['class']\n",
      "/home/dan/miniconda3/envs/netstuff/lib/python3.6/site-packages/imgstore/stores.py:171: YAMLLoadWarning: calling yaml.load() without Loader=... is deprecated, as the default Loader is unsafe. Please read https://msg.pyyaml.org/load for full details.\n",
      "  allmd = yaml.load(f)\n",
      "previous store had incorrect image_shape: corrected (4049, 3866, 3) -> (4048, 3866, 3)\n"
     ]
    },
    {
     "name": "stdout",
     "output_type": "stream",
     "text": [
      "loading pf\n",
      "loading fbf\n",
      "merging framenumber\n"
     ]
    },
    {
     "name": "stderr",
     "output_type": "stream",
     "text": [
      "/home/dan/miniconda3/envs/netstuff/lib/python3.6/site-packages/imgstore/stores.py:1236: YAMLLoadWarning: calling yaml.load() without Loader=... is deprecated, as the default Loader is unsafe. Please read https://msg.pyyaml.org/load for full details.\n",
      "  clsname = yaml.load(f)[STORE_MD_KEY]['class']\n",
      "/home/dan/miniconda3/envs/netstuff/lib/python3.6/site-packages/imgstore/stores.py:171: YAMLLoadWarning: calling yaml.load() without Loader=... is deprecated, as the default Loader is unsafe. Please read https://msg.pyyaml.org/load for full details.\n",
      "  allmd = yaml.load(f)\n",
      "previous store had incorrect image_shape: corrected (4049, 3866, 3) -> (4048, 3866, 3)\n"
     ]
    },
    {
     "name": "stdout",
     "output_type": "stream",
     "text": [
      "6264\n",
      "loading pf\n",
      "loading fbf\n",
      "merging framenumber\n"
     ]
    },
    {
     "name": "stderr",
     "output_type": "stream",
     "text": [
      "/home/dan/miniconda3/envs/netstuff/lib/python3.6/site-packages/imgstore/stores.py:1236: YAMLLoadWarning: calling yaml.load() without Loader=... is deprecated, as the default Loader is unsafe. Please read https://msg.pyyaml.org/load for full details.\n",
      "  clsname = yaml.load(f)[STORE_MD_KEY]['class']\n",
      "/home/dan/miniconda3/envs/netstuff/lib/python3.6/site-packages/imgstore/stores.py:171: YAMLLoadWarning: calling yaml.load() without Loader=... is deprecated, as the default Loader is unsafe. Please read https://msg.pyyaml.org/load for full details.\n",
      "  allmd = yaml.load(f)\n",
      "previous store had incorrect image_shape: corrected (4049, 3866, 3) -> (4048, 3866, 3)\n"
     ]
    },
    {
     "name": "stdout",
     "output_type": "stream",
     "text": [
      "loading pf\n",
      "loading fbf\n",
      "merging framenumber\n"
     ]
    },
    {
     "name": "stderr",
     "output_type": "stream",
     "text": [
      "/home/dan/miniconda3/envs/netstuff/lib/python3.6/site-packages/imgstore/stores.py:1236: YAMLLoadWarning: calling yaml.load() without Loader=... is deprecated, as the default Loader is unsafe. Please read https://msg.pyyaml.org/load for full details.\n",
      "  clsname = yaml.load(f)[STORE_MD_KEY]['class']\n",
      "/home/dan/miniconda3/envs/netstuff/lib/python3.6/site-packages/imgstore/stores.py:171: YAMLLoadWarning: calling yaml.load() without Loader=... is deprecated, as the default Loader is unsafe. Please read https://msg.pyyaml.org/load for full details.\n",
      "  allmd = yaml.load(f)\n",
      "previous store had incorrect image_shape: corrected (4049, 3866, 3) -> (4048, 3866, 3)\n"
     ]
    },
    {
     "name": "stdout",
     "output_type": "stream",
     "text": [
      "loading pf\n",
      "loading fbf\n",
      "merging framenumber\n"
     ]
    },
    {
     "name": "stderr",
     "output_type": "stream",
     "text": [
      "/home/dan/miniconda3/envs/netstuff/lib/python3.6/site-packages/imgstore/stores.py:1236: YAMLLoadWarning: calling yaml.load() without Loader=... is deprecated, as the default Loader is unsafe. Please read https://msg.pyyaml.org/load for full details.\n",
      "  clsname = yaml.load(f)[STORE_MD_KEY]['class']\n",
      "/home/dan/miniconda3/envs/netstuff/lib/python3.6/site-packages/imgstore/stores.py:171: YAMLLoadWarning: calling yaml.load() without Loader=... is deprecated, as the default Loader is unsafe. Please read https://msg.pyyaml.org/load for full details.\n",
      "  allmd = yaml.load(f)\n",
      "previous store had incorrect image_shape: corrected (4049, 3866, 3) -> (4048, 3866, 3)\n"
     ]
    },
    {
     "name": "stdout",
     "output_type": "stream",
     "text": [
      "loading pf\n",
      "loading fbf\n",
      "merging framenumber\n"
     ]
    },
    {
     "name": "stderr",
     "output_type": "stream",
     "text": [
      "/home/dan/miniconda3/envs/netstuff/lib/python3.6/site-packages/imgstore/stores.py:1236: YAMLLoadWarning: calling yaml.load() without Loader=... is deprecated, as the default Loader is unsafe. Please read https://msg.pyyaml.org/load for full details.\n",
      "  clsname = yaml.load(f)[STORE_MD_KEY]['class']\n",
      "/home/dan/miniconda3/envs/netstuff/lib/python3.6/site-packages/imgstore/stores.py:171: YAMLLoadWarning: calling yaml.load() without Loader=... is deprecated, as the default Loader is unsafe. Please read https://msg.pyyaml.org/load for full details.\n",
      "  allmd = yaml.load(f)\n",
      "previous store had incorrect image_shape: corrected (4049, 3866, 3) -> (4048, 3866, 3)\n"
     ]
    },
    {
     "name": "stdout",
     "output_type": "stream",
     "text": [
      "loading pf\n",
      "loading fbf\n",
      "merging framenumber\n"
     ]
    },
    {
     "name": "stderr",
     "output_type": "stream",
     "text": [
      "/home/dan/miniconda3/envs/netstuff/lib/python3.6/site-packages/imgstore/stores.py:1236: YAMLLoadWarning: calling yaml.load() without Loader=... is deprecated, as the default Loader is unsafe. Please read https://msg.pyyaml.org/load for full details.\n",
      "  clsname = yaml.load(f)[STORE_MD_KEY]['class']\n",
      "/home/dan/miniconda3/envs/netstuff/lib/python3.6/site-packages/imgstore/stores.py:171: YAMLLoadWarning: calling yaml.load() without Loader=... is deprecated, as the default Loader is unsafe. Please read https://msg.pyyaml.org/load for full details.\n",
      "  allmd = yaml.load(f)\n",
      "previous store had incorrect image_shape: corrected (4049, 3866, 3) -> (4048, 3866, 3)\n"
     ]
    },
    {
     "name": "stdout",
     "output_type": "stream",
     "text": [
      "loading pf\n",
      "loading fbf\n",
      "merging framenumber\n",
      "16103\n"
     ]
    },
    {
     "name": "stderr",
     "output_type": "stream",
     "text": [
      "/home/dan/miniconda3/envs/netstuff/lib/python3.6/site-packages/imgstore/stores.py:1236: YAMLLoadWarning: calling yaml.load() without Loader=... is deprecated, as the default Loader is unsafe. Please read https://msg.pyyaml.org/load for full details.\n",
      "  clsname = yaml.load(f)[STORE_MD_KEY]['class']\n",
      "/home/dan/miniconda3/envs/netstuff/lib/python3.6/site-packages/imgstore/stores.py:171: YAMLLoadWarning: calling yaml.load() without Loader=... is deprecated, as the default Loader is unsafe. Please read https://msg.pyyaml.org/load for full details.\n",
      "  allmd = yaml.load(f)\n",
      "previous store had incorrect image_shape: corrected (4049, 3866, 3) -> (4048, 3866, 3)\n"
     ]
    },
    {
     "name": "stdout",
     "output_type": "stream",
     "text": [
      "loading pf\n",
      "loading fbf\n",
      "merging framenumber\n"
     ]
    },
    {
     "name": "stderr",
     "output_type": "stream",
     "text": [
      "/home/dan/miniconda3/envs/netstuff/lib/python3.6/site-packages/imgstore/stores.py:1236: YAMLLoadWarning: calling yaml.load() without Loader=... is deprecated, as the default Loader is unsafe. Please read https://msg.pyyaml.org/load for full details.\n",
      "  clsname = yaml.load(f)[STORE_MD_KEY]['class']\n",
      "/home/dan/miniconda3/envs/netstuff/lib/python3.6/site-packages/imgstore/stores.py:171: YAMLLoadWarning: calling yaml.load() without Loader=... is deprecated, as the default Loader is unsafe. Please read https://msg.pyyaml.org/load for full details.\n",
      "  allmd = yaml.load(f)\n",
      "previous store had incorrect image_shape: corrected (4049, 3866, 3) -> (4048, 3866, 3)\n"
     ]
    },
    {
     "name": "stdout",
     "output_type": "stream",
     "text": [
      "loading pf\n",
      "loading fbf\n",
      "merging framenumber\n"
     ]
    },
    {
     "name": "stderr",
     "output_type": "stream",
     "text": [
      "/home/dan/miniconda3/envs/netstuff/lib/python3.6/site-packages/imgstore/stores.py:1236: YAMLLoadWarning: calling yaml.load() without Loader=... is deprecated, as the default Loader is unsafe. Please read https://msg.pyyaml.org/load for full details.\n",
      "  clsname = yaml.load(f)[STORE_MD_KEY]['class']\n",
      "/home/dan/miniconda3/envs/netstuff/lib/python3.6/site-packages/imgstore/stores.py:171: YAMLLoadWarning: calling yaml.load() without Loader=... is deprecated, as the default Loader is unsafe. Please read https://msg.pyyaml.org/load for full details.\n",
      "  allmd = yaml.load(f)\n",
      "previous store had incorrect image_shape: corrected (4049, 3866, 3) -> (4048, 3866, 3)\n"
     ]
    },
    {
     "name": "stdout",
     "output_type": "stream",
     "text": [
      "loading pf\n",
      "loading fbf\n",
      "merging framenumber\n"
     ]
    },
    {
     "name": "stderr",
     "output_type": "stream",
     "text": [
      "/home/dan/miniconda3/envs/netstuff/lib/python3.6/site-packages/imgstore/stores.py:1236: YAMLLoadWarning: calling yaml.load() without Loader=... is deprecated, as the default Loader is unsafe. Please read https://msg.pyyaml.org/load for full details.\n",
      "  clsname = yaml.load(f)[STORE_MD_KEY]['class']\n",
      "/home/dan/miniconda3/envs/netstuff/lib/python3.6/site-packages/imgstore/stores.py:171: YAMLLoadWarning: calling yaml.load() without Loader=... is deprecated, as the default Loader is unsafe. Please read https://msg.pyyaml.org/load for full details.\n",
      "  allmd = yaml.load(f)\n",
      "previous store had incorrect image_shape: corrected (4049, 3866, 3) -> (4048, 3866, 3)\n"
     ]
    },
    {
     "name": "stdout",
     "output_type": "stream",
     "text": [
      "loading pf\n",
      "loading fbf\n",
      "merging framenumber\n"
     ]
    },
    {
     "name": "stderr",
     "output_type": "stream",
     "text": [
      "/home/dan/miniconda3/envs/netstuff/lib/python3.6/site-packages/imgstore/stores.py:1236: YAMLLoadWarning: calling yaml.load() without Loader=... is deprecated, as the default Loader is unsafe. Please read https://msg.pyyaml.org/load for full details.\n",
      "  clsname = yaml.load(f)[STORE_MD_KEY]['class']\n",
      "/home/dan/miniconda3/envs/netstuff/lib/python3.6/site-packages/imgstore/stores.py:171: YAMLLoadWarning: calling yaml.load() without Loader=... is deprecated, as the default Loader is unsafe. Please read https://msg.pyyaml.org/load for full details.\n",
      "  allmd = yaml.load(f)\n",
      "previous store had incorrect image_shape: corrected (4049, 3866, 3) -> (4048, 3866, 3)\n"
     ]
    },
    {
     "name": "stdout",
     "output_type": "stream",
     "text": [
      "loading pf\n",
      "loading fbf\n",
      "merging framenumber\n"
     ]
    },
    {
     "name": "stderr",
     "output_type": "stream",
     "text": [
      "/home/dan/miniconda3/envs/netstuff/lib/python3.6/site-packages/imgstore/stores.py:1236: YAMLLoadWarning: calling yaml.load() without Loader=... is deprecated, as the default Loader is unsafe. Please read https://msg.pyyaml.org/load for full details.\n",
      "  clsname = yaml.load(f)[STORE_MD_KEY]['class']\n",
      "/home/dan/miniconda3/envs/netstuff/lib/python3.6/site-packages/imgstore/stores.py:171: YAMLLoadWarning: calling yaml.load() without Loader=... is deprecated, as the default Loader is unsafe. Please read https://msg.pyyaml.org/load for full details.\n",
      "  allmd = yaml.load(f)\n",
      "previous store had incorrect image_shape: corrected (4049, 3866, 3) -> (4048, 3866, 3)\n"
     ]
    },
    {
     "name": "stdout",
     "output_type": "stream",
     "text": [
      "loading pf\n",
      "loading fbf\n",
      "merging framenumber\n",
      "2289\n"
     ]
    },
    {
     "name": "stderr",
     "output_type": "stream",
     "text": [
      "/home/dan/miniconda3/envs/netstuff/lib/python3.6/site-packages/imgstore/stores.py:1236: YAMLLoadWarning: calling yaml.load() without Loader=... is deprecated, as the default Loader is unsafe. Please read https://msg.pyyaml.org/load for full details.\n",
      "  clsname = yaml.load(f)[STORE_MD_KEY]['class']\n",
      "/home/dan/miniconda3/envs/netstuff/lib/python3.6/site-packages/imgstore/stores.py:171: YAMLLoadWarning: calling yaml.load() without Loader=... is deprecated, as the default Loader is unsafe. Please read https://msg.pyyaml.org/load for full details.\n",
      "  allmd = yaml.load(f)\n",
      "previous store had incorrect image_shape: corrected (4049, 3866, 3) -> (4048, 3866, 3)\n"
     ]
    },
    {
     "name": "stdout",
     "output_type": "stream",
     "text": [
      "loading pf\n",
      "loading fbf\n",
      "merging framenumber\n"
     ]
    },
    {
     "name": "stderr",
     "output_type": "stream",
     "text": [
      "/home/dan/miniconda3/envs/netstuff/lib/python3.6/site-packages/imgstore/stores.py:1236: YAMLLoadWarning: calling yaml.load() without Loader=... is deprecated, as the default Loader is unsafe. Please read https://msg.pyyaml.org/load for full details.\n",
      "  clsname = yaml.load(f)[STORE_MD_KEY]['class']\n",
      "/home/dan/miniconda3/envs/netstuff/lib/python3.6/site-packages/imgstore/stores.py:171: YAMLLoadWarning: calling yaml.load() without Loader=... is deprecated, as the default Loader is unsafe. Please read https://msg.pyyaml.org/load for full details.\n",
      "  allmd = yaml.load(f)\n",
      "previous store had incorrect image_shape: corrected (4049, 3866, 3) -> (4048, 3866, 3)\n"
     ]
    },
    {
     "name": "stdout",
     "output_type": "stream",
     "text": [
      "loading pf\n",
      "loading fbf\n",
      "merging framenumber\n"
     ]
    },
    {
     "name": "stderr",
     "output_type": "stream",
     "text": [
      "/home/dan/miniconda3/envs/netstuff/lib/python3.6/site-packages/imgstore/stores.py:1236: YAMLLoadWarning: calling yaml.load() without Loader=... is deprecated, as the default Loader is unsafe. Please read https://msg.pyyaml.org/load for full details.\n",
      "  clsname = yaml.load(f)[STORE_MD_KEY]['class']\n",
      "/home/dan/miniconda3/envs/netstuff/lib/python3.6/site-packages/imgstore/stores.py:171: YAMLLoadWarning: calling yaml.load() without Loader=... is deprecated, as the default Loader is unsafe. Please read https://msg.pyyaml.org/load for full details.\n",
      "  allmd = yaml.load(f)\n",
      "previous store had incorrect image_shape: corrected (4049, 3866, 3) -> (4048, 3866, 3)\n"
     ]
    },
    {
     "name": "stdout",
     "output_type": "stream",
     "text": [
      "loading pf\n",
      "loading fbf\n",
      "merging framenumber\n"
     ]
    },
    {
     "name": "stderr",
     "output_type": "stream",
     "text": [
      "/home/dan/miniconda3/envs/netstuff/lib/python3.6/site-packages/imgstore/stores.py:1236: YAMLLoadWarning: calling yaml.load() without Loader=... is deprecated, as the default Loader is unsafe. Please read https://msg.pyyaml.org/load for full details.\n",
      "  clsname = yaml.load(f)[STORE_MD_KEY]['class']\n",
      "/home/dan/miniconda3/envs/netstuff/lib/python3.6/site-packages/imgstore/stores.py:171: YAMLLoadWarning: calling yaml.load() without Loader=... is deprecated, as the default Loader is unsafe. Please read https://msg.pyyaml.org/load for full details.\n",
      "  allmd = yaml.load(f)\n",
      "previous store had incorrect image_shape: corrected (4049, 3866, 3) -> (4048, 3866, 3)\n"
     ]
    },
    {
     "name": "stdout",
     "output_type": "stream",
     "text": [
      "loading pf\n",
      "loading fbf\n",
      "merging framenumber\n"
     ]
    },
    {
     "name": "stderr",
     "output_type": "stream",
     "text": [
      "/home/dan/miniconda3/envs/netstuff/lib/python3.6/site-packages/imgstore/stores.py:1236: YAMLLoadWarning: calling yaml.load() without Loader=... is deprecated, as the default Loader is unsafe. Please read https://msg.pyyaml.org/load for full details.\n",
      "  clsname = yaml.load(f)[STORE_MD_KEY]['class']\n",
      "/home/dan/miniconda3/envs/netstuff/lib/python3.6/site-packages/imgstore/stores.py:171: YAMLLoadWarning: calling yaml.load() without Loader=... is deprecated, as the default Loader is unsafe. Please read https://msg.pyyaml.org/load for full details.\n",
      "  allmd = yaml.load(f)\n",
      "previous store had incorrect image_shape: corrected (4049, 3866, 3) -> (4048, 3866, 3)\n"
     ]
    },
    {
     "name": "stdout",
     "output_type": "stream",
     "text": [
      "loading pf\n",
      "loading fbf\n",
      "merging framenumber\n"
     ]
    },
    {
     "name": "stderr",
     "output_type": "stream",
     "text": [
      "/home/dan/miniconda3/envs/netstuff/lib/python3.6/site-packages/imgstore/stores.py:1236: YAMLLoadWarning: calling yaml.load() without Loader=... is deprecated, as the default Loader is unsafe. Please read https://msg.pyyaml.org/load for full details.\n",
      "  clsname = yaml.load(f)[STORE_MD_KEY]['class']\n",
      "/home/dan/miniconda3/envs/netstuff/lib/python3.6/site-packages/imgstore/stores.py:171: YAMLLoadWarning: calling yaml.load() without Loader=... is deprecated, as the default Loader is unsafe. Please read https://msg.pyyaml.org/load for full details.\n",
      "  allmd = yaml.load(f)\n",
      "previous store had incorrect image_shape: corrected (4049, 3866, 3) -> (4048, 3866, 3)\n"
     ]
    },
    {
     "name": "stdout",
     "output_type": "stream",
     "text": [
      "loading pf\n",
      "loading fbf\n",
      "merging framenumber\n",
      "6396\n"
     ]
    },
    {
     "name": "stderr",
     "output_type": "stream",
     "text": [
      "/home/dan/miniconda3/envs/netstuff/lib/python3.6/site-packages/imgstore/stores.py:1236: YAMLLoadWarning: calling yaml.load() without Loader=... is deprecated, as the default Loader is unsafe. Please read https://msg.pyyaml.org/load for full details.\n",
      "  clsname = yaml.load(f)[STORE_MD_KEY]['class']\n",
      "/home/dan/miniconda3/envs/netstuff/lib/python3.6/site-packages/imgstore/stores.py:171: YAMLLoadWarning: calling yaml.load() without Loader=... is deprecated, as the default Loader is unsafe. Please read https://msg.pyyaml.org/load for full details.\n",
      "  allmd = yaml.load(f)\n",
      "previous store had incorrect image_shape: corrected (4049, 3866, 3) -> (4048, 3866, 3)\n"
     ]
    },
    {
     "name": "stdout",
     "output_type": "stream",
     "text": [
      "loading pf\n",
      "loading fbf\n",
      "merging framenumber\n"
     ]
    },
    {
     "name": "stderr",
     "output_type": "stream",
     "text": [
      "/home/dan/miniconda3/envs/netstuff/lib/python3.6/site-packages/imgstore/stores.py:1236: YAMLLoadWarning: calling yaml.load() without Loader=... is deprecated, as the default Loader is unsafe. Please read https://msg.pyyaml.org/load for full details.\n",
      "  clsname = yaml.load(f)[STORE_MD_KEY]['class']\n",
      "/home/dan/miniconda3/envs/netstuff/lib/python3.6/site-packages/imgstore/stores.py:171: YAMLLoadWarning: calling yaml.load() without Loader=... is deprecated, as the default Loader is unsafe. Please read https://msg.pyyaml.org/load for full details.\n",
      "  allmd = yaml.load(f)\n",
      "previous store had incorrect image_shape: corrected (4049, 3866, 3) -> (4048, 3866, 3)\n"
     ]
    },
    {
     "name": "stdout",
     "output_type": "stream",
     "text": [
      "loading pf\n",
      "loading fbf\n",
      "merging framenumber\n"
     ]
    },
    {
     "name": "stderr",
     "output_type": "stream",
     "text": [
      "/home/dan/miniconda3/envs/netstuff/lib/python3.6/site-packages/imgstore/stores.py:1236: YAMLLoadWarning: calling yaml.load() without Loader=... is deprecated, as the default Loader is unsafe. Please read https://msg.pyyaml.org/load for full details.\n",
      "  clsname = yaml.load(f)[STORE_MD_KEY]['class']\n",
      "/home/dan/miniconda3/envs/netstuff/lib/python3.6/site-packages/imgstore/stores.py:171: YAMLLoadWarning: calling yaml.load() without Loader=... is deprecated, as the default Loader is unsafe. Please read https://msg.pyyaml.org/load for full details.\n",
      "  allmd = yaml.load(f)\n",
      "previous store had incorrect image_shape: corrected (4049, 3866, 3) -> (4048, 3866, 3)\n"
     ]
    },
    {
     "name": "stdout",
     "output_type": "stream",
     "text": [
      "loading pf\n",
      "loading fbf\n",
      "merging framenumber\n"
     ]
    },
    {
     "name": "stderr",
     "output_type": "stream",
     "text": [
      "/home/dan/miniconda3/envs/netstuff/lib/python3.6/site-packages/imgstore/stores.py:1236: YAMLLoadWarning: calling yaml.load() without Loader=... is deprecated, as the default Loader is unsafe. Please read https://msg.pyyaml.org/load for full details.\n",
      "  clsname = yaml.load(f)[STORE_MD_KEY]['class']\n",
      "/home/dan/miniconda3/envs/netstuff/lib/python3.6/site-packages/imgstore/stores.py:171: YAMLLoadWarning: calling yaml.load() without Loader=... is deprecated, as the default Loader is unsafe. Please read https://msg.pyyaml.org/load for full details.\n",
      "  allmd = yaml.load(f)\n",
      "previous store had incorrect image_shape: corrected (4049, 3866, 3) -> (4048, 3866, 3)\n"
     ]
    },
    {
     "name": "stdout",
     "output_type": "stream",
     "text": [
      "loading pf\n",
      "loading fbf\n",
      "merging framenumber\n"
     ]
    },
    {
     "name": "stderr",
     "output_type": "stream",
     "text": [
      "/home/dan/miniconda3/envs/netstuff/lib/python3.6/site-packages/imgstore/stores.py:1236: YAMLLoadWarning: calling yaml.load() without Loader=... is deprecated, as the default Loader is unsafe. Please read https://msg.pyyaml.org/load for full details.\n",
      "  clsname = yaml.load(f)[STORE_MD_KEY]['class']\n",
      "/home/dan/miniconda3/envs/netstuff/lib/python3.6/site-packages/imgstore/stores.py:171: YAMLLoadWarning: calling yaml.load() without Loader=... is deprecated, as the default Loader is unsafe. Please read https://msg.pyyaml.org/load for full details.\n",
      "  allmd = yaml.load(f)\n",
      "previous store had incorrect image_shape: corrected (4049, 3866, 3) -> (4048, 3866, 3)\n"
     ]
    },
    {
     "name": "stdout",
     "output_type": "stream",
     "text": [
      "loading pf\n",
      "loading fbf\n",
      "merging framenumber\n"
     ]
    },
    {
     "name": "stderr",
     "output_type": "stream",
     "text": [
      "/home/dan/miniconda3/envs/netstuff/lib/python3.6/site-packages/imgstore/stores.py:1236: YAMLLoadWarning: calling yaml.load() without Loader=... is deprecated, as the default Loader is unsafe. Please read https://msg.pyyaml.org/load for full details.\n",
      "  clsname = yaml.load(f)[STORE_MD_KEY]['class']\n",
      "/home/dan/miniconda3/envs/netstuff/lib/python3.6/site-packages/imgstore/stores.py:171: YAMLLoadWarning: calling yaml.load() without Loader=... is deprecated, as the default Loader is unsafe. Please read https://msg.pyyaml.org/load for full details.\n",
      "  allmd = yaml.load(f)\n",
      "previous store had incorrect image_shape: corrected (4049, 3866, 3) -> (4048, 3866, 3)\n"
     ]
    },
    {
     "name": "stdout",
     "output_type": "stream",
     "text": [
      "loading pf\n",
      "loading fbf\n",
      "merging framenumber\n"
     ]
    },
    {
     "name": "stderr",
     "output_type": "stream",
     "text": [
      "/home/dan/miniconda3/envs/netstuff/lib/python3.6/site-packages/imgstore/stores.py:1236: YAMLLoadWarning: calling yaml.load() without Loader=... is deprecated, as the default Loader is unsafe. Please read https://msg.pyyaml.org/load for full details.\n",
      "  clsname = yaml.load(f)[STORE_MD_KEY]['class']\n",
      "/home/dan/miniconda3/envs/netstuff/lib/python3.6/site-packages/imgstore/stores.py:171: YAMLLoadWarning: calling yaml.load() without Loader=... is deprecated, as the default Loader is unsafe. Please read https://msg.pyyaml.org/load for full details.\n",
      "  allmd = yaml.load(f)\n",
      "previous store had incorrect image_shape: corrected (4049, 3866, 3) -> (4048, 3866, 3)\n"
     ]
    },
    {
     "name": "stdout",
     "output_type": "stream",
     "text": [
      "15551\n",
      "loading pf\n",
      "loading fbf\n",
      "merging framenumber\n"
     ]
    },
    {
     "name": "stderr",
     "output_type": "stream",
     "text": [
      "/home/dan/miniconda3/envs/netstuff/lib/python3.6/site-packages/imgstore/stores.py:1236: YAMLLoadWarning: calling yaml.load() without Loader=... is deprecated, as the default Loader is unsafe. Please read https://msg.pyyaml.org/load for full details.\n",
      "  clsname = yaml.load(f)[STORE_MD_KEY]['class']\n",
      "/home/dan/miniconda3/envs/netstuff/lib/python3.6/site-packages/imgstore/stores.py:171: YAMLLoadWarning: calling yaml.load() without Loader=... is deprecated, as the default Loader is unsafe. Please read https://msg.pyyaml.org/load for full details.\n",
      "  allmd = yaml.load(f)\n",
      "previous store had incorrect image_shape: corrected (4049, 3866, 3) -> (4048, 3866, 3)\n"
     ]
    },
    {
     "name": "stdout",
     "output_type": "stream",
     "text": [
      "loading pf\n",
      "loading fbf\n",
      "merging framenumber\n"
     ]
    },
    {
     "name": "stderr",
     "output_type": "stream",
     "text": [
      "/home/dan/miniconda3/envs/netstuff/lib/python3.6/site-packages/imgstore/stores.py:1236: YAMLLoadWarning: calling yaml.load() without Loader=... is deprecated, as the default Loader is unsafe. Please read https://msg.pyyaml.org/load for full details.\n",
      "  clsname = yaml.load(f)[STORE_MD_KEY]['class']\n",
      "/home/dan/miniconda3/envs/netstuff/lib/python3.6/site-packages/imgstore/stores.py:171: YAMLLoadWarning: calling yaml.load() without Loader=... is deprecated, as the default Loader is unsafe. Please read https://msg.pyyaml.org/load for full details.\n",
      "  allmd = yaml.load(f)\n",
      "previous store had incorrect image_shape: corrected (4049, 3866, 3) -> (4048, 3866, 3)\n"
     ]
    },
    {
     "name": "stdout",
     "output_type": "stream",
     "text": [
      "loading pf\n",
      "loading fbf\n",
      "merging framenumber\n"
     ]
    },
    {
     "name": "stderr",
     "output_type": "stream",
     "text": [
      "/home/dan/miniconda3/envs/netstuff/lib/python3.6/site-packages/imgstore/stores.py:1236: YAMLLoadWarning: calling yaml.load() without Loader=... is deprecated, as the default Loader is unsafe. Please read https://msg.pyyaml.org/load for full details.\n",
      "  clsname = yaml.load(f)[STORE_MD_KEY]['class']\n",
      "/home/dan/miniconda3/envs/netstuff/lib/python3.6/site-packages/imgstore/stores.py:171: YAMLLoadWarning: calling yaml.load() without Loader=... is deprecated, as the default Loader is unsafe. Please read https://msg.pyyaml.org/load for full details.\n",
      "  allmd = yaml.load(f)\n",
      "previous store had incorrect image_shape: corrected (4049, 3866, 3) -> (4048, 3866, 3)\n"
     ]
    },
    {
     "name": "stdout",
     "output_type": "stream",
     "text": [
      "loading pf\n",
      "loading fbf\n",
      "merging framenumber\n"
     ]
    },
    {
     "name": "stderr",
     "output_type": "stream",
     "text": [
      "/home/dan/miniconda3/envs/netstuff/lib/python3.6/site-packages/imgstore/stores.py:1236: YAMLLoadWarning: calling yaml.load() without Loader=... is deprecated, as the default Loader is unsafe. Please read https://msg.pyyaml.org/load for full details.\n",
      "  clsname = yaml.load(f)[STORE_MD_KEY]['class']\n",
      "/home/dan/miniconda3/envs/netstuff/lib/python3.6/site-packages/imgstore/stores.py:171: YAMLLoadWarning: calling yaml.load() without Loader=... is deprecated, as the default Loader is unsafe. Please read https://msg.pyyaml.org/load for full details.\n",
      "  allmd = yaml.load(f)\n",
      "previous store had incorrect image_shape: corrected (4049, 3866, 3) -> (4048, 3866, 3)\n"
     ]
    },
    {
     "name": "stdout",
     "output_type": "stream",
     "text": [
      "loading pf\n",
      "loading fbf\n",
      "merging framenumber\n"
     ]
    },
    {
     "name": "stderr",
     "output_type": "stream",
     "text": [
      "/home/dan/miniconda3/envs/netstuff/lib/python3.6/site-packages/imgstore/stores.py:1236: YAMLLoadWarning: calling yaml.load() without Loader=... is deprecated, as the default Loader is unsafe. Please read https://msg.pyyaml.org/load for full details.\n",
      "  clsname = yaml.load(f)[STORE_MD_KEY]['class']\n",
      "/home/dan/miniconda3/envs/netstuff/lib/python3.6/site-packages/imgstore/stores.py:171: YAMLLoadWarning: calling yaml.load() without Loader=... is deprecated, as the default Loader is unsafe. Please read https://msg.pyyaml.org/load for full details.\n",
      "  allmd = yaml.load(f)\n",
      "previous store had incorrect image_shape: corrected (4049, 3866, 3) -> (4048, 3866, 3)\n"
     ]
    },
    {
     "name": "stdout",
     "output_type": "stream",
     "text": [
      "loading pf\n",
      "loading fbf\n",
      "merging framenumber\n",
      "4062\n"
     ]
    },
    {
     "name": "stderr",
     "output_type": "stream",
     "text": [
      "/home/dan/miniconda3/envs/netstuff/lib/python3.6/site-packages/imgstore/stores.py:1236: YAMLLoadWarning: calling yaml.load() without Loader=... is deprecated, as the default Loader is unsafe. Please read https://msg.pyyaml.org/load for full details.\n",
      "  clsname = yaml.load(f)[STORE_MD_KEY]['class']\n",
      "/home/dan/miniconda3/envs/netstuff/lib/python3.6/site-packages/imgstore/stores.py:171: YAMLLoadWarning: calling yaml.load() without Loader=... is deprecated, as the default Loader is unsafe. Please read https://msg.pyyaml.org/load for full details.\n",
      "  allmd = yaml.load(f)\n",
      "previous store had incorrect image_shape: corrected (4049, 3866, 3) -> (4048, 3866, 3)\n"
     ]
    },
    {
     "name": "stdout",
     "output_type": "stream",
     "text": [
      "loading pf\n",
      "loading fbf\n",
      "merging framenumber\n"
     ]
    },
    {
     "name": "stderr",
     "output_type": "stream",
     "text": [
      "/home/dan/miniconda3/envs/netstuff/lib/python3.6/site-packages/imgstore/stores.py:1236: YAMLLoadWarning: calling yaml.load() without Loader=... is deprecated, as the default Loader is unsafe. Please read https://msg.pyyaml.org/load for full details.\n",
      "  clsname = yaml.load(f)[STORE_MD_KEY]['class']\n",
      "/home/dan/miniconda3/envs/netstuff/lib/python3.6/site-packages/imgstore/stores.py:171: YAMLLoadWarning: calling yaml.load() without Loader=... is deprecated, as the default Loader is unsafe. Please read https://msg.pyyaml.org/load for full details.\n",
      "  allmd = yaml.load(f)\n",
      "previous store had incorrect image_shape: corrected (4049, 3866, 3) -> (4048, 3866, 3)\n"
     ]
    },
    {
     "name": "stdout",
     "output_type": "stream",
     "text": [
      "loading pf\n",
      "loading fbf\n",
      "merging framenumber\n"
     ]
    },
    {
     "name": "stderr",
     "output_type": "stream",
     "text": [
      "/home/dan/miniconda3/envs/netstuff/lib/python3.6/site-packages/imgstore/stores.py:1236: YAMLLoadWarning: calling yaml.load() without Loader=... is deprecated, as the default Loader is unsafe. Please read https://msg.pyyaml.org/load for full details.\n",
      "  clsname = yaml.load(f)[STORE_MD_KEY]['class']\n",
      "/home/dan/miniconda3/envs/netstuff/lib/python3.6/site-packages/imgstore/stores.py:171: YAMLLoadWarning: calling yaml.load() without Loader=... is deprecated, as the default Loader is unsafe. Please read https://msg.pyyaml.org/load for full details.\n",
      "  allmd = yaml.load(f)\n",
      "previous store had incorrect image_shape: corrected (4049, 3866, 3) -> (4048, 3866, 3)\n"
     ]
    },
    {
     "name": "stdout",
     "output_type": "stream",
     "text": [
      "loading pf\n",
      "loading fbf\n",
      "merging framenumber\n"
     ]
    },
    {
     "name": "stderr",
     "output_type": "stream",
     "text": [
      "/home/dan/miniconda3/envs/netstuff/lib/python3.6/site-packages/imgstore/stores.py:1236: YAMLLoadWarning: calling yaml.load() without Loader=... is deprecated, as the default Loader is unsafe. Please read https://msg.pyyaml.org/load for full details.\n",
      "  clsname = yaml.load(f)[STORE_MD_KEY]['class']\n",
      "/home/dan/miniconda3/envs/netstuff/lib/python3.6/site-packages/imgstore/stores.py:171: YAMLLoadWarning: calling yaml.load() without Loader=... is deprecated, as the default Loader is unsafe. Please read https://msg.pyyaml.org/load for full details.\n",
      "  allmd = yaml.load(f)\n",
      "previous store had incorrect image_shape: corrected (4049, 3866, 3) -> (4048, 3866, 3)\n"
     ]
    },
    {
     "name": "stdout",
     "output_type": "stream",
     "text": [
      "loading pf\n",
      "loading fbf\n",
      "merging framenumber\n"
     ]
    },
    {
     "name": "stderr",
     "output_type": "stream",
     "text": [
      "/home/dan/miniconda3/envs/netstuff/lib/python3.6/site-packages/imgstore/stores.py:1236: YAMLLoadWarning: calling yaml.load() without Loader=... is deprecated, as the default Loader is unsafe. Please read https://msg.pyyaml.org/load for full details.\n",
      "  clsname = yaml.load(f)[STORE_MD_KEY]['class']\n",
      "/home/dan/miniconda3/envs/netstuff/lib/python3.6/site-packages/imgstore/stores.py:171: YAMLLoadWarning: calling yaml.load() without Loader=... is deprecated, as the default Loader is unsafe. Please read https://msg.pyyaml.org/load for full details.\n",
      "  allmd = yaml.load(f)\n",
      "previous store had incorrect image_shape: corrected (4049, 3866, 3) -> (4048, 3866, 3)\n"
     ]
    },
    {
     "name": "stdout",
     "output_type": "stream",
     "text": [
      "loading pf\n",
      "loading fbf\n",
      "merging framenumber\n"
     ]
    },
    {
     "name": "stderr",
     "output_type": "stream",
     "text": [
      "/home/dan/miniconda3/envs/netstuff/lib/python3.6/site-packages/imgstore/stores.py:1236: YAMLLoadWarning: calling yaml.load() without Loader=... is deprecated, as the default Loader is unsafe. Please read https://msg.pyyaml.org/load for full details.\n",
      "  clsname = yaml.load(f)[STORE_MD_KEY]['class']\n",
      "/home/dan/miniconda3/envs/netstuff/lib/python3.6/site-packages/imgstore/stores.py:171: YAMLLoadWarning: calling yaml.load() without Loader=... is deprecated, as the default Loader is unsafe. Please read https://msg.pyyaml.org/load for full details.\n",
      "  allmd = yaml.load(f)\n",
      "previous store had incorrect image_shape: corrected (4049, 3866, 3) -> (4048, 3866, 3)\n"
     ]
    },
    {
     "name": "stdout",
     "output_type": "stream",
     "text": [
      "loading pf\n",
      "loading fbf\n",
      "merging framenumber\n"
     ]
    },
    {
     "name": "stderr",
     "output_type": "stream",
     "text": [
      "/home/dan/miniconda3/envs/netstuff/lib/python3.6/site-packages/imgstore/stores.py:1236: YAMLLoadWarning: calling yaml.load() without Loader=... is deprecated, as the default Loader is unsafe. Please read https://msg.pyyaml.org/load for full details.\n",
      "  clsname = yaml.load(f)[STORE_MD_KEY]['class']\n",
      "/home/dan/miniconda3/envs/netstuff/lib/python3.6/site-packages/imgstore/stores.py:171: YAMLLoadWarning: calling yaml.load() without Loader=... is deprecated, as the default Loader is unsafe. Please read https://msg.pyyaml.org/load for full details.\n",
      "  allmd = yaml.load(f)\n",
      "previous store had incorrect image_shape: corrected (4049, 3866, 3) -> (4048, 3866, 3)\n"
     ]
    },
    {
     "name": "stdout",
     "output_type": "stream",
     "text": [
      "5740\n",
      "loading pf\n",
      "loading fbf\n",
      "merging framenumber\n"
     ]
    },
    {
     "name": "stderr",
     "output_type": "stream",
     "text": [
      "/home/dan/miniconda3/envs/netstuff/lib/python3.6/site-packages/imgstore/stores.py:1236: YAMLLoadWarning: calling yaml.load() without Loader=... is deprecated, as the default Loader is unsafe. Please read https://msg.pyyaml.org/load for full details.\n",
      "  clsname = yaml.load(f)[STORE_MD_KEY]['class']\n",
      "/home/dan/miniconda3/envs/netstuff/lib/python3.6/site-packages/imgstore/stores.py:171: YAMLLoadWarning: calling yaml.load() without Loader=... is deprecated, as the default Loader is unsafe. Please read https://msg.pyyaml.org/load for full details.\n",
      "  allmd = yaml.load(f)\n",
      "previous store had incorrect image_shape: corrected (4049, 3866, 3) -> (4048, 3866, 3)\n"
     ]
    },
    {
     "name": "stdout",
     "output_type": "stream",
     "text": [
      "loading pf\n",
      "loading fbf\n",
      "merging framenumber\n"
     ]
    },
    {
     "name": "stderr",
     "output_type": "stream",
     "text": [
      "/home/dan/miniconda3/envs/netstuff/lib/python3.6/site-packages/imgstore/stores.py:1236: YAMLLoadWarning: calling yaml.load() without Loader=... is deprecated, as the default Loader is unsafe. Please read https://msg.pyyaml.org/load for full details.\n",
      "  clsname = yaml.load(f)[STORE_MD_KEY]['class']\n",
      "/home/dan/miniconda3/envs/netstuff/lib/python3.6/site-packages/imgstore/stores.py:171: YAMLLoadWarning: calling yaml.load() without Loader=... is deprecated, as the default Loader is unsafe. Please read https://msg.pyyaml.org/load for full details.\n",
      "  allmd = yaml.load(f)\n",
      "previous store had incorrect image_shape: corrected (4049, 3866, 3) -> (4048, 3866, 3)\n"
     ]
    },
    {
     "name": "stdout",
     "output_type": "stream",
     "text": [
      "loading pf\n",
      "loading fbf\n",
      "merging framenumber\n"
     ]
    },
    {
     "name": "stderr",
     "output_type": "stream",
     "text": [
      "/home/dan/miniconda3/envs/netstuff/lib/python3.6/site-packages/imgstore/stores.py:1236: YAMLLoadWarning: calling yaml.load() without Loader=... is deprecated, as the default Loader is unsafe. Please read https://msg.pyyaml.org/load for full details.\n",
      "  clsname = yaml.load(f)[STORE_MD_KEY]['class']\n",
      "/home/dan/miniconda3/envs/netstuff/lib/python3.6/site-packages/imgstore/stores.py:171: YAMLLoadWarning: calling yaml.load() without Loader=... is deprecated, as the default Loader is unsafe. Please read https://msg.pyyaml.org/load for full details.\n",
      "  allmd = yaml.load(f)\n",
      "previous store had incorrect image_shape: corrected (4049, 3866, 3) -> (4048, 3866, 3)\n"
     ]
    },
    {
     "name": "stdout",
     "output_type": "stream",
     "text": [
      "loading pf\n",
      "loading fbf\n",
      "merging framenumber\n"
     ]
    },
    {
     "name": "stderr",
     "output_type": "stream",
     "text": [
      "/home/dan/miniconda3/envs/netstuff/lib/python3.6/site-packages/imgstore/stores.py:1236: YAMLLoadWarning: calling yaml.load() without Loader=... is deprecated, as the default Loader is unsafe. Please read https://msg.pyyaml.org/load for full details.\n",
      "  clsname = yaml.load(f)[STORE_MD_KEY]['class']\n",
      "/home/dan/miniconda3/envs/netstuff/lib/python3.6/site-packages/imgstore/stores.py:171: YAMLLoadWarning: calling yaml.load() without Loader=... is deprecated, as the default Loader is unsafe. Please read https://msg.pyyaml.org/load for full details.\n",
      "  allmd = yaml.load(f)\n",
      "previous store had incorrect image_shape: corrected (4049, 3866, 3) -> (4048, 3866, 3)\n"
     ]
    },
    {
     "name": "stdout",
     "output_type": "stream",
     "text": [
      "loading pf\n",
      "loading fbf\n",
      "merging framenumber\n"
     ]
    },
    {
     "name": "stderr",
     "output_type": "stream",
     "text": [
      "/home/dan/miniconda3/envs/netstuff/lib/python3.6/site-packages/imgstore/stores.py:1236: YAMLLoadWarning: calling yaml.load() without Loader=... is deprecated, as the default Loader is unsafe. Please read https://msg.pyyaml.org/load for full details.\n",
      "  clsname = yaml.load(f)[STORE_MD_KEY]['class']\n",
      "/home/dan/miniconda3/envs/netstuff/lib/python3.6/site-packages/imgstore/stores.py:171: YAMLLoadWarning: calling yaml.load() without Loader=... is deprecated, as the default Loader is unsafe. Please read https://msg.pyyaml.org/load for full details.\n",
      "  allmd = yaml.load(f)\n",
      "previous store had incorrect image_shape: corrected (4049, 3866, 3) -> (4048, 3866, 3)\n"
     ]
    },
    {
     "name": "stdout",
     "output_type": "stream",
     "text": [
      "loading pf\n",
      "loading fbf\n",
      "merging framenumber\n",
      "13689\n"
     ]
    },
    {
     "name": "stderr",
     "output_type": "stream",
     "text": [
      "/home/dan/miniconda3/envs/netstuff/lib/python3.6/site-packages/imgstore/stores.py:1236: YAMLLoadWarning: calling yaml.load() without Loader=... is deprecated, as the default Loader is unsafe. Please read https://msg.pyyaml.org/load for full details.\n",
      "  clsname = yaml.load(f)[STORE_MD_KEY]['class']\n",
      "/home/dan/miniconda3/envs/netstuff/lib/python3.6/site-packages/imgstore/stores.py:171: YAMLLoadWarning: calling yaml.load() without Loader=... is deprecated, as the default Loader is unsafe. Please read https://msg.pyyaml.org/load for full details.\n",
      "  allmd = yaml.load(f)\n",
      "previous store had incorrect image_shape: corrected (4049, 3866, 3) -> (4048, 3866, 3)\n"
     ]
    },
    {
     "name": "stdout",
     "output_type": "stream",
     "text": [
      "loading pf\n",
      "loading fbf\n",
      "merging framenumber\n"
     ]
    },
    {
     "name": "stderr",
     "output_type": "stream",
     "text": [
      "/home/dan/miniconda3/envs/netstuff/lib/python3.6/site-packages/imgstore/stores.py:1236: YAMLLoadWarning: calling yaml.load() without Loader=... is deprecated, as the default Loader is unsafe. Please read https://msg.pyyaml.org/load for full details.\n",
      "  clsname = yaml.load(f)[STORE_MD_KEY]['class']\n",
      "/home/dan/miniconda3/envs/netstuff/lib/python3.6/site-packages/imgstore/stores.py:171: YAMLLoadWarning: calling yaml.load() without Loader=... is deprecated, as the default Loader is unsafe. Please read https://msg.pyyaml.org/load for full details.\n",
      "  allmd = yaml.load(f)\n",
      "previous store had incorrect image_shape: corrected (4049, 3866, 3) -> (4048, 3866, 3)\n"
     ]
    },
    {
     "name": "stdout",
     "output_type": "stream",
     "text": [
      "loading pf\n",
      "loading fbf\n",
      "merging framenumber\n"
     ]
    },
    {
     "name": "stderr",
     "output_type": "stream",
     "text": [
      "/home/dan/miniconda3/envs/netstuff/lib/python3.6/site-packages/imgstore/stores.py:1236: YAMLLoadWarning: calling yaml.load() without Loader=... is deprecated, as the default Loader is unsafe. Please read https://msg.pyyaml.org/load for full details.\n",
      "  clsname = yaml.load(f)[STORE_MD_KEY]['class']\n",
      "/home/dan/miniconda3/envs/netstuff/lib/python3.6/site-packages/imgstore/stores.py:171: YAMLLoadWarning: calling yaml.load() without Loader=... is deprecated, as the default Loader is unsafe. Please read https://msg.pyyaml.org/load for full details.\n",
      "  allmd = yaml.load(f)\n",
      "previous store had incorrect image_shape: corrected (4049, 3866, 3) -> (4048, 3866, 3)\n"
     ]
    },
    {
     "name": "stdout",
     "output_type": "stream",
     "text": [
      "loading pf\n",
      "loading fbf\n",
      "merging framenumber\n"
     ]
    },
    {
     "name": "stderr",
     "output_type": "stream",
     "text": [
      "/home/dan/miniconda3/envs/netstuff/lib/python3.6/site-packages/imgstore/stores.py:1236: YAMLLoadWarning: calling yaml.load() without Loader=... is deprecated, as the default Loader is unsafe. Please read https://msg.pyyaml.org/load for full details.\n",
      "  clsname = yaml.load(f)[STORE_MD_KEY]['class']\n",
      "/home/dan/miniconda3/envs/netstuff/lib/python3.6/site-packages/imgstore/stores.py:171: YAMLLoadWarning: calling yaml.load() without Loader=... is deprecated, as the default Loader is unsafe. Please read https://msg.pyyaml.org/load for full details.\n",
      "  allmd = yaml.load(f)\n",
      "previous store had incorrect image_shape: corrected (4049, 3866, 3) -> (4048, 3866, 3)\n"
     ]
    },
    {
     "name": "stdout",
     "output_type": "stream",
     "text": [
      "loading pf\n",
      "loading fbf\n",
      "merging framenumber\n"
     ]
    },
    {
     "name": "stderr",
     "output_type": "stream",
     "text": [
      "/home/dan/miniconda3/envs/netstuff/lib/python3.6/site-packages/imgstore/stores.py:1236: YAMLLoadWarning: calling yaml.load() without Loader=... is deprecated, as the default Loader is unsafe. Please read https://msg.pyyaml.org/load for full details.\n",
      "  clsname = yaml.load(f)[STORE_MD_KEY]['class']\n",
      "/home/dan/miniconda3/envs/netstuff/lib/python3.6/site-packages/imgstore/stores.py:171: YAMLLoadWarning: calling yaml.load() without Loader=... is deprecated, as the default Loader is unsafe. Please read https://msg.pyyaml.org/load for full details.\n",
      "  allmd = yaml.load(f)\n",
      "previous store had incorrect image_shape: corrected (4049, 3866, 3) -> (4048, 3866, 3)\n"
     ]
    },
    {
     "name": "stdout",
     "output_type": "stream",
     "text": [
      "loading pf\n",
      "loading fbf\n",
      "merging framenumber\n"
     ]
    },
    {
     "name": "stderr",
     "output_type": "stream",
     "text": [
      "/home/dan/miniconda3/envs/netstuff/lib/python3.6/site-packages/imgstore/stores.py:1236: YAMLLoadWarning: calling yaml.load() without Loader=... is deprecated, as the default Loader is unsafe. Please read https://msg.pyyaml.org/load for full details.\n",
      "  clsname = yaml.load(f)[STORE_MD_KEY]['class']\n",
      "/home/dan/miniconda3/envs/netstuff/lib/python3.6/site-packages/imgstore/stores.py:171: YAMLLoadWarning: calling yaml.load() without Loader=... is deprecated, as the default Loader is unsafe. Please read https://msg.pyyaml.org/load for full details.\n",
      "  allmd = yaml.load(f)\n",
      "previous store had incorrect image_shape: corrected (4049, 3866, 3) -> (4048, 3866, 3)\n"
     ]
    },
    {
     "name": "stdout",
     "output_type": "stream",
     "text": [
      "loading pf\n",
      "loading fbf\n",
      "merging framenumber\n"
     ]
    },
    {
     "name": "stderr",
     "output_type": "stream",
     "text": [
      "/home/dan/miniconda3/envs/netstuff/lib/python3.6/site-packages/imgstore/stores.py:1236: YAMLLoadWarning: calling yaml.load() without Loader=... is deprecated, as the default Loader is unsafe. Please read https://msg.pyyaml.org/load for full details.\n",
      "  clsname = yaml.load(f)[STORE_MD_KEY]['class']\n",
      "/home/dan/miniconda3/envs/netstuff/lib/python3.6/site-packages/imgstore/stores.py:171: YAMLLoadWarning: calling yaml.load() without Loader=... is deprecated, as the default Loader is unsafe. Please read https://msg.pyyaml.org/load for full details.\n",
      "  allmd = yaml.load(f)\n",
      "previous store had incorrect image_shape: corrected (4049, 3866, 3) -> (4048, 3866, 3)\n"
     ]
    },
    {
     "name": "stdout",
     "output_type": "stream",
     "text": [
      "18332\n",
      "loading pf\n",
      "loading fbf\n",
      "merging framenumber\n"
     ]
    },
    {
     "name": "stderr",
     "output_type": "stream",
     "text": [
      "/home/dan/miniconda3/envs/netstuff/lib/python3.6/site-packages/imgstore/stores.py:1236: YAMLLoadWarning: calling yaml.load() without Loader=... is deprecated, as the default Loader is unsafe. Please read https://msg.pyyaml.org/load for full details.\n",
      "  clsname = yaml.load(f)[STORE_MD_KEY]['class']\n",
      "/home/dan/miniconda3/envs/netstuff/lib/python3.6/site-packages/imgstore/stores.py:171: YAMLLoadWarning: calling yaml.load() without Loader=... is deprecated, as the default Loader is unsafe. Please read https://msg.pyyaml.org/load for full details.\n",
      "  allmd = yaml.load(f)\n",
      "previous store had incorrect image_shape: corrected (4049, 3866, 3) -> (4048, 3866, 3)\n"
     ]
    },
    {
     "name": "stdout",
     "output_type": "stream",
     "text": [
      "loading pf\n",
      "loading fbf\n",
      "merging framenumber\n"
     ]
    },
    {
     "name": "stderr",
     "output_type": "stream",
     "text": [
      "/home/dan/miniconda3/envs/netstuff/lib/python3.6/site-packages/imgstore/stores.py:1236: YAMLLoadWarning: calling yaml.load() without Loader=... is deprecated, as the default Loader is unsafe. Please read https://msg.pyyaml.org/load for full details.\n",
      "  clsname = yaml.load(f)[STORE_MD_KEY]['class']\n",
      "/home/dan/miniconda3/envs/netstuff/lib/python3.6/site-packages/imgstore/stores.py:171: YAMLLoadWarning: calling yaml.load() without Loader=... is deprecated, as the default Loader is unsafe. Please read https://msg.pyyaml.org/load for full details.\n",
      "  allmd = yaml.load(f)\n",
      "previous store had incorrect image_shape: corrected (4049, 3866, 3) -> (4048, 3866, 3)\n"
     ]
    },
    {
     "name": "stdout",
     "output_type": "stream",
     "text": [
      "loading pf\n",
      "loading fbf\n",
      "merging framenumber\n"
     ]
    },
    {
     "name": "stderr",
     "output_type": "stream",
     "text": [
      "/home/dan/miniconda3/envs/netstuff/lib/python3.6/site-packages/imgstore/stores.py:1236: YAMLLoadWarning: calling yaml.load() without Loader=... is deprecated, as the default Loader is unsafe. Please read https://msg.pyyaml.org/load for full details.\n",
      "  clsname = yaml.load(f)[STORE_MD_KEY]['class']\n",
      "/home/dan/miniconda3/envs/netstuff/lib/python3.6/site-packages/imgstore/stores.py:171: YAMLLoadWarning: calling yaml.load() without Loader=... is deprecated, as the default Loader is unsafe. Please read https://msg.pyyaml.org/load for full details.\n",
      "  allmd = yaml.load(f)\n",
      "previous store had incorrect image_shape: corrected (4049, 3866, 3) -> (4048, 3866, 3)\n"
     ]
    },
    {
     "name": "stdout",
     "output_type": "stream",
     "text": [
      "loading pf\n",
      "loading fbf\n",
      "merging framenumber\n"
     ]
    },
    {
     "name": "stderr",
     "output_type": "stream",
     "text": [
      "/home/dan/miniconda3/envs/netstuff/lib/python3.6/site-packages/imgstore/stores.py:1236: YAMLLoadWarning: calling yaml.load() without Loader=... is deprecated, as the default Loader is unsafe. Please read https://msg.pyyaml.org/load for full details.\n",
      "  clsname = yaml.load(f)[STORE_MD_KEY]['class']\n",
      "/home/dan/miniconda3/envs/netstuff/lib/python3.6/site-packages/imgstore/stores.py:171: YAMLLoadWarning: calling yaml.load() without Loader=... is deprecated, as the default Loader is unsafe. Please read https://msg.pyyaml.org/load for full details.\n",
      "  allmd = yaml.load(f)\n",
      "previous store had incorrect image_shape: corrected (4049, 3866, 3) -> (4048, 3866, 3)\n"
     ]
    },
    {
     "name": "stdout",
     "output_type": "stream",
     "text": [
      "loading pf\n",
      "loading fbf\n",
      "merging framenumber\n"
     ]
    },
    {
     "name": "stderr",
     "output_type": "stream",
     "text": [
      "/home/dan/miniconda3/envs/netstuff/lib/python3.6/site-packages/imgstore/stores.py:1236: YAMLLoadWarning: calling yaml.load() without Loader=... is deprecated, as the default Loader is unsafe. Please read https://msg.pyyaml.org/load for full details.\n",
      "  clsname = yaml.load(f)[STORE_MD_KEY]['class']\n",
      "/home/dan/miniconda3/envs/netstuff/lib/python3.6/site-packages/imgstore/stores.py:171: YAMLLoadWarning: calling yaml.load() without Loader=... is deprecated, as the default Loader is unsafe. Please read https://msg.pyyaml.org/load for full details.\n",
      "  allmd = yaml.load(f)\n",
      "previous store had incorrect image_shape: corrected (4049, 3866, 3) -> (4048, 3866, 3)\n"
     ]
    },
    {
     "name": "stdout",
     "output_type": "stream",
     "text": [
      "loading pf\n",
      "loading fbf\n",
      "merging framenumber\n"
     ]
    }
   ],
   "source": [
    "for idx in range(20):\n",
    "    randFrame = np.random.randint(1000,20000)\n",
    "    print(randFrame)\n",
    "    doit(up128, ['0.0','0.2','0.4','0.6','0.8','1.0'], prestim_frames=randFrame)\n",
    "    plt.savefig('/media/recnodes/Dan_storage/2019_VCRDM_prep/fig2c01_%06d.png'%randFrame)\n",
    "    plt.close('all')"
   ]
  },
  {
   "cell_type": "code",
   "execution_count": 54,
   "metadata": {},
   "outputs": [
    {
     "name": "stdout",
     "output_type": "stream",
     "text": [
      "loading pf\n",
      "loading fbf\n",
      "merging framenumber\n"
     ]
    }
   ],
   "source": [
    "MAIN_DIR = slashdir(fig2b[0])\n",
    "store = imgstore.new_for_filename(MAIN_DIR + 'metadata.yaml')\n",
    "frame = store.frame_min + 456\n",
    "log = stims.get_logfile(MAIN_DIR)\n",
    "\n",
    "print('loading pf')\n",
    "pf = pd.read_pickle(MAIN_DIR + 'track/perframe_stats.pickle')\n",
    "\n",
    "if len(pf.shape) ==1:\n",
    "    import joblib\n",
    "    pf = joblib.load(MAIN_DIR + 'track/perframe_stats.pickle')\n",
    "if not 'frame' in pf.columns:\n",
    "    pf['frame'] = pf.index\n",
    "if not 'FrameNumber' in pf.columns:\n",
    "    ret, pf = stims.sync_data(pf, log, store)\n",
    "\n",
    "print('loading fbf')\n",
    "fbf = pd.read_pickle(MAIN_DIR + 'track/frameByFrameData.pickle')\n",
    "if len(fbf.shape) ==1:\n",
    "    import joblib\n",
    "    fbf = joblib.load(MAIN_DIR + 'track/frameByFrameData.pickle')\n",
    "if not 'frame' in fbf.columns:\n",
    "    fbf['frame'] = fbf.index\n",
    "if not 'FrameNumber' in fbf.columns:\n",
    "    print('merging framenumber')\n",
    "    fbf = fbf.merge(pf[['FrameNumber','frame']], left_on='frame', right_on='frame')\n",
    "    #ret, fbf = stims.sync_data(fbf, log, store)\n",
    "\n",
    "fbf.loc[:,'uVX'] = fbf.loc[:,XVEL] / fbf.loc[:,SPEED]\n",
    "fbf.loc[:,'uVY'] = fbf.loc[:,YVEL] / fbf.loc[:,SPEED]\n",
    "fbf['R'] = rotationOrder(160,160,fbf[XPOS],fbf[YPOS],fbf['uVX'],fbf['uVY'])\n",
    "fbf['colVal'] = fbf['R']/2.0 +0.5 #rescale to 0-1\n"
   ]
  },
  {
   "cell_type": "code",
   "execution_count": 69,
   "metadata": {},
   "outputs": [
    {
     "data": {
      "text/plain": [
       "9277"
      ]
     },
     "execution_count": 69,
     "metadata": {},
     "output_type": "execute_result"
    }
   ],
   "source": [
    "int(pf.iloc[(pf['median_dRotation_cArea']-0.4).abs().argsort()[:1]]['frame'].values)"
   ]
  },
  {
   "cell_type": "code",
   "execution_count": 74,
   "metadata": {},
   "outputs": [
    {
     "name": "stderr",
     "output_type": "stream",
     "text": [
      "/home/dan/miniconda3/envs/netstuff/lib/python3.6/site-packages/imgstore/stores.py:1236: YAMLLoadWarning: calling yaml.load() without Loader=... is deprecated, as the default Loader is unsafe. Please read https://msg.pyyaml.org/load for full details.\n",
      "  clsname = yaml.load(f)[STORE_MD_KEY]['class']\n",
      "/home/dan/miniconda3/envs/netstuff/lib/python3.6/site-packages/imgstore/stores.py:171: YAMLLoadWarning: calling yaml.load() without Loader=... is deprecated, as the default Loader is unsafe. Please read https://msg.pyyaml.org/load for full details.\n",
      "  allmd = yaml.load(f)\n"
     ]
    },
    {
     "name": "stdout",
     "output_type": "stream",
     "text": [
      "loading pf\n",
      "loading fbf\n",
      "merging framenumber\n"
     ]
    },
    {
     "name": "stderr",
     "output_type": "stream",
     "text": [
      "/home/dan/miniconda3/envs/netstuff/lib/python3.6/site-packages/imgstore/stores.py:1236: YAMLLoadWarning: calling yaml.load() without Loader=... is deprecated, as the default Loader is unsafe. Please read https://msg.pyyaml.org/load for full details.\n",
      "  clsname = yaml.load(f)[STORE_MD_KEY]['class']\n",
      "/home/dan/miniconda3/envs/netstuff/lib/python3.6/site-packages/imgstore/stores.py:171: YAMLLoadWarning: calling yaml.load() without Loader=... is deprecated, as the default Loader is unsafe. Please read https://msg.pyyaml.org/load for full details.\n",
      "  allmd = yaml.load(f)\n"
     ]
    },
    {
     "name": "stdout",
     "output_type": "stream",
     "text": [
      "loading pf\n",
      "loading fbf\n",
      "merging framenumber\n"
     ]
    },
    {
     "name": "stderr",
     "output_type": "stream",
     "text": [
      "/home/dan/miniconda3/envs/netstuff/lib/python3.6/site-packages/imgstore/stores.py:1236: YAMLLoadWarning: calling yaml.load() without Loader=... is deprecated, as the default Loader is unsafe. Please read https://msg.pyyaml.org/load for full details.\n",
      "  clsname = yaml.load(f)[STORE_MD_KEY]['class']\n",
      "/home/dan/miniconda3/envs/netstuff/lib/python3.6/site-packages/imgstore/stores.py:171: YAMLLoadWarning: calling yaml.load() without Loader=... is deprecated, as the default Loader is unsafe. Please read https://msg.pyyaml.org/load for full details.\n",
      "  allmd = yaml.load(f)\n"
     ]
    },
    {
     "name": "stdout",
     "output_type": "stream",
     "text": [
      "loading pf\n",
      "loading fbf\n",
      "merging framenumber\n"
     ]
    },
    {
     "name": "stderr",
     "output_type": "stream",
     "text": [
      "/home/dan/miniconda3/envs/netstuff/lib/python3.6/site-packages/imgstore/stores.py:1236: YAMLLoadWarning: calling yaml.load() without Loader=... is deprecated, as the default Loader is unsafe. Please read https://msg.pyyaml.org/load for full details.\n",
      "  clsname = yaml.load(f)[STORE_MD_KEY]['class']\n",
      "/home/dan/miniconda3/envs/netstuff/lib/python3.6/site-packages/imgstore/stores.py:171: YAMLLoadWarning: calling yaml.load() without Loader=... is deprecated, as the default Loader is unsafe. Please read https://msg.pyyaml.org/load for full details.\n",
      "  allmd = yaml.load(f)\n",
      "previous store had incorrect image_shape: corrected (4049, 3866, 3) -> (4048, 3866, 3)\n"
     ]
    },
    {
     "name": "stdout",
     "output_type": "stream",
     "text": [
      "loading pf\n",
      "loading fbf\n",
      "merging framenumber\n"
     ]
    },
    {
     "name": "stderr",
     "output_type": "stream",
     "text": [
      "/home/dan/miniconda3/envs/netstuff/lib/python3.6/site-packages/imgstore/stores.py:1236: YAMLLoadWarning: calling yaml.load() without Loader=... is deprecated, as the default Loader is unsafe. Please read https://msg.pyyaml.org/load for full details.\n",
      "  clsname = yaml.load(f)[STORE_MD_KEY]['class']\n",
      "/home/dan/miniconda3/envs/netstuff/lib/python3.6/site-packages/imgstore/stores.py:171: YAMLLoadWarning: calling yaml.load() without Loader=... is deprecated, as the default Loader is unsafe. Please read https://msg.pyyaml.org/load for full details.\n",
      "  allmd = yaml.load(f)\n",
      "previous store had incorrect image_shape: corrected (4049, 3866, 3) -> (4048, 3866, 3)\n"
     ]
    },
    {
     "name": "stdout",
     "output_type": "stream",
     "text": [
      "loading pf\n",
      "loading fbf\n",
      "merging framenumber\n"
     ]
    },
    {
     "name": "stderr",
     "output_type": "stream",
     "text": [
      "/home/dan/miniconda3/envs/netstuff/lib/python3.6/site-packages/imgstore/stores.py:1236: YAMLLoadWarning: calling yaml.load() without Loader=... is deprecated, as the default Loader is unsafe. Please read https://msg.pyyaml.org/load for full details.\n",
      "  clsname = yaml.load(f)[STORE_MD_KEY]['class']\n",
      "/home/dan/miniconda3/envs/netstuff/lib/python3.6/site-packages/imgstore/stores.py:171: YAMLLoadWarning: calling yaml.load() without Loader=... is deprecated, as the default Loader is unsafe. Please read https://msg.pyyaml.org/load for full details.\n",
      "  allmd = yaml.load(f)\n",
      "previous store had incorrect image_shape: corrected (4049, 3866, 3) -> (4048, 3866, 3)\n"
     ]
    },
    {
     "name": "stdout",
     "output_type": "stream",
     "text": [
      "loading pf\n",
      "loading fbf\n",
      "merging framenumber\n"
     ]
    },
    {
     "name": "stderr",
     "output_type": "stream",
     "text": [
      "/home/dan/miniconda3/envs/netstuff/lib/python3.6/site-packages/imgstore/stores.py:1236: YAMLLoadWarning: calling yaml.load() without Loader=... is deprecated, as the default Loader is unsafe. Please read https://msg.pyyaml.org/load for full details.\n",
      "  clsname = yaml.load(f)[STORE_MD_KEY]['class']\n",
      "/home/dan/miniconda3/envs/netstuff/lib/python3.6/site-packages/imgstore/stores.py:171: YAMLLoadWarning: calling yaml.load() without Loader=... is deprecated, as the default Loader is unsafe. Please read https://msg.pyyaml.org/load for full details.\n",
      "  allmd = yaml.load(f)\n",
      "previous store had incorrect image_shape: corrected (4049, 3866, 3) -> (4048, 3866, 3)\n"
     ]
    },
    {
     "name": "stdout",
     "output_type": "stream",
     "text": [
      "loading pf\n",
      "loading fbf\n",
      "merging framenumber\n"
     ]
    },
    {
     "name": "stderr",
     "output_type": "stream",
     "text": [
      "/home/dan/miniconda3/envs/netstuff/lib/python3.6/site-packages/imgstore/stores.py:1236: YAMLLoadWarning: calling yaml.load() without Loader=... is deprecated, as the default Loader is unsafe. Please read https://msg.pyyaml.org/load for full details.\n",
      "  clsname = yaml.load(f)[STORE_MD_KEY]['class']\n",
      "/home/dan/miniconda3/envs/netstuff/lib/python3.6/site-packages/imgstore/stores.py:171: YAMLLoadWarning: calling yaml.load() without Loader=... is deprecated, as the default Loader is unsafe. Please read https://msg.pyyaml.org/load for full details.\n",
      "  allmd = yaml.load(f)\n",
      "previous store had incorrect image_shape: corrected (4049, 3866, 3) -> (4048, 3866, 3)\n"
     ]
    },
    {
     "name": "stdout",
     "output_type": "stream",
     "text": [
      "loading pf\n",
      "loading fbf\n",
      "merging framenumber\n"
     ]
    },
    {
     "data": {
      "image/png": "[encoded data removed]",
      "text/plain": [
       "<Figure size 1152x576 with 8 Axes>"
      ]
     },
     "metadata": {
      "needs_background": "light"
     },
     "output_type": "display_data"
    }
   ],
   "source": [
    "doit(fig2b, ['8','16','32','64','128','256','512','1024'], prestim_frames=0, startCoh=0.4)"
   ]
  }
 ],
 "metadata": {
  "kernelspec": {
   "display_name": "Python 3",
   "language": "python",
   "name": "python3"
  },
  "language_info": {
   "codemirror_mode": {
    "name": "ipython",
    "version": 3
   },
   "file_extension": ".py",
   "mimetype": "text/x-python",
   "name": "python",
   "nbconvert_exporter": "python",
   "pygments_lexer": "ipython3",
   "version": "3.6.7"
  }
 },
 "nbformat": 4,
 "nbformat_minor": 4
}
