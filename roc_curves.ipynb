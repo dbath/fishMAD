{
 "cells": [
  {
   "cell_type": "code",
   "execution_count": 1,
   "metadata": {},
   "outputs": [],
   "source": [
    "import numpy as np\n",
    "from sklearn import metrics\n",
    "import pandas as pd\n",
    "import matplotlib.pyplot as plt\n",
    "import matplotlib\n",
    "\n",
    "\n",
    "groupsizes = [4,8,16,32,64,128,256,512,1024]\n",
    "coherences = [0.0,0.2,0.4,0.6,0.8,1.0]"
   ]
  },
  {
   "cell_type": "code",
   "execution_count": 2,
   "metadata": {},
   "outputs": [],
   "source": [
    "alldata = pd.read_pickle('/media/recnodes/Dan_storage/20200120_coherence_data_compiled_full.pickle')"
   ]
  },
  {
   "cell_type": "code",
   "execution_count": 3,
   "metadata": {},
   "outputs": [],
   "source": [
    "alldata['groupsize'] = alldata['groupsize'].astype(int)\n",
    "alldata['coh'] = np.around(alldata['coh'],1)\n",
    "\n",
    "alldata['Information'] = alldata['entropy_Ra']*-1.0 #negative entropy for information"
   ]
  },
  {
   "cell_type": "code",
   "execution_count": 4,
   "metadata": {},
   "outputs": [],
   "source": [
    "responseonly = alldata.loc[alldata['syncTime'].between(np.timedelta64(270,'s'), \n",
    "                                                   np.timedelta64(300,'s')), :]\n",
    "responseonly = responseonly.loc[responseonly['date'] != '20181026', :] #exclude data from this date, when fish were left in the tank overnight"
   ]
  },
  {
   "cell_type": "code",
   "execution_count": 5,
   "metadata": {},
   "outputs": [
    {
     "name": "stderr",
     "output_type": "stream",
     "text": [
      "/home/dan/miniconda3/envs/netstuff/lib/python3.6/site-packages/ipykernel_launcher.py:5: SettingWithCopyWarning: \n",
      "A value is trying to be set on a copy of a slice from a DataFrame.\n",
      "Try using .loc[row_indexer,col_indexer] = value instead\n",
      "\n",
      "See the caveats in the documentation: http://pandas.pydata.org/pandas-docs/stable/user_guide/indexing.html#returning-a-view-versus-a-copy\n",
      "  \"\"\"\n",
      "/home/dan/miniconda3/envs/netstuff/lib/python3.6/site-packages/ipykernel_launcher.py:6: SettingWithCopyWarning: \n",
      "A value is trying to be set on a copy of a slice from a DataFrame.\n",
      "Try using .loc[row_indexer,col_indexer] = value instead\n",
      "\n",
      "See the caveats in the documentation: http://pandas.pydata.org/pandas-docs/stable/user_guide/indexing.html#returning-a-view-versus-a-copy\n",
      "  \n"
     ]
    }
   ],
   "source": [
    "r = responseonly[['trialID','dir','coh','groupsize','median_dRotation_cArea','entropy_Ra']]\n",
    "\n",
    "#de-normalize by direction to give discrete answers\n",
    "#multiply by 100 because silly sklearn uses max+1 in fpr\n",
    "r['R'] = r['median_dRotation_cArea'] * np.around(r['dir'])*100.0\n",
    "r['dir'] = np.around(r['dir'])\n",
    "r = r.loc[abs(r['dir']) == 1,:] #fails when dir == 0\n"
   ]
  },
  {
   "cell_type": "code",
   "execution_count": 34,
   "metadata": {},
   "outputs": [],
   "source": [
    "def bootstrap_ROC(groupedDF, k=1000, col='R'):\n",
    "    #provide data grouped by trialID\n",
    "    \n",
    "    # get the direction of each trial\n",
    "    y_true = np.sign(groupedDF['dir'].mean())\n",
    "    \n",
    "    fpr_distribution = []\n",
    "    tpr_distribution = []\n",
    "    thresh_distribution = []\n",
    "    auc_scores = []\n",
    "    for idx in range(k):\n",
    "        dirs = []\n",
    "        resampled_trials=[]\n",
    "        for trialid, trial in groupedDF:\n",
    "            resample = trial.reset_index().sample(int(len(trial)/2), replace=True)\n",
    "            resampled_trials.append(resample[col])\n",
    "            dirs.append(resample['dir'])\n",
    "            #print(resample[0:5])\n",
    "        #drop_intermediate to ensure fpr, tpr, and thresholds have same length every time\n",
    "        fpr, tpr, thresholds = metrics.roc_curve(np.concatenate(dirs), np.concatenate(resampled_trials), pos_label=1, drop_intermediate=False)\n",
    "        auc = 'asdf'#metrics.roc_auc_score(dirs, resampled_trials)\n",
    "        fpr_distribution.append(fpr)\n",
    "        tpr_distribution.append(tpr)\n",
    "        thresh_distribution.append(thresholds)\n",
    "        auc_scores.append(auc)\n",
    "    return np.stack(fpr_distribution, axis=-1),np.stack(tpr_distribution, axis=-1), np.stack(thresh_distribution, axis=-1), auc_scores"
   ]
  },
  {
   "cell_type": "code",
   "execution_count": 35,
   "metadata": {
    "scrolled": true
   },
   "outputs": [
    {
     "ename": "ValueError",
     "evalue": "all input arrays must have the same shape",
     "output_type": "error",
     "traceback": [
      "\u001b[0;31m---------------------------------------------------------------------------\u001b[0m",
      "\u001b[0;31mValueError\u001b[0m                                Traceback (most recent call last)",
      "\u001b[0;32m<ipython-input-35-1a560a2ff4c0>\u001b[0m in \u001b[0;36m<module>\u001b[0;34m\u001b[0m\n\u001b[1;32m      2\u001b[0m \u001b[0mrcoh\u001b[0m \u001b[0;34m=\u001b[0m \u001b[0mr\u001b[0m\u001b[0;34m.\u001b[0m\u001b[0mloc\u001b[0m\u001b[0;34m[\u001b[0m\u001b[0mr\u001b[0m\u001b[0;34m.\u001b[0m\u001b[0mcoh\u001b[0m\u001b[0;34m.\u001b[0m\u001b[0misin\u001b[0m\u001b[0;34m(\u001b[0m\u001b[0mcoherences\u001b[0m\u001b[0;34m)\u001b[0m\u001b[0;34m,\u001b[0m\u001b[0;34m:\u001b[0m\u001b[0;34m]\u001b[0m\u001b[0;34m\u001b[0m\u001b[0;34m\u001b[0m\u001b[0m\n\u001b[1;32m      3\u001b[0m \u001b[0mtg\u001b[0m \u001b[0;34m=\u001b[0m \u001b[0mrcoh\u001b[0m\u001b[0;34m.\u001b[0m\u001b[0mgroupby\u001b[0m\u001b[0;34m(\u001b[0m\u001b[0;34m'trialID'\u001b[0m\u001b[0;34m)\u001b[0m\u001b[0;34m\u001b[0m\u001b[0;34m\u001b[0m\u001b[0m\n\u001b[0;32m----> 4\u001b[0;31m \u001b[0mf\u001b[0m\u001b[0;34m,\u001b[0m \u001b[0mt\u001b[0m\u001b[0;34m,\u001b[0m \u001b[0mth\u001b[0m\u001b[0;34m,\u001b[0m \u001b[0mauc\u001b[0m \u001b[0;34m=\u001b[0m \u001b[0mbootstrap_ROC\u001b[0m\u001b[0;34m(\u001b[0m\u001b[0mtg\u001b[0m\u001b[0;34m,\u001b[0m \u001b[0mk\u001b[0m\u001b[0;34m=\u001b[0m\u001b[0;36m10\u001b[0m\u001b[0;34m)\u001b[0m\u001b[0;34m\u001b[0m\u001b[0;34m\u001b[0m\u001b[0m\n\u001b[0m",
      "\u001b[0;32m<ipython-input-34-b05d4c9e16d4>\u001b[0m in \u001b[0;36mbootstrap_ROC\u001b[0;34m(groupedDF, k, col)\u001b[0m\n\u001b[1;32m     24\u001b[0m         \u001b[0mthresh_distribution\u001b[0m\u001b[0;34m.\u001b[0m\u001b[0mappend\u001b[0m\u001b[0;34m(\u001b[0m\u001b[0mthresholds\u001b[0m\u001b[0;34m)\u001b[0m\u001b[0;34m\u001b[0m\u001b[0;34m\u001b[0m\u001b[0m\n\u001b[1;32m     25\u001b[0m         \u001b[0mauc_scores\u001b[0m\u001b[0;34m.\u001b[0m\u001b[0mappend\u001b[0m\u001b[0;34m(\u001b[0m\u001b[0mauc\u001b[0m\u001b[0;34m)\u001b[0m\u001b[0;34m\u001b[0m\u001b[0;34m\u001b[0m\u001b[0m\n\u001b[0;32m---> 26\u001b[0;31m     \u001b[0;32mreturn\u001b[0m \u001b[0mnp\u001b[0m\u001b[0;34m.\u001b[0m\u001b[0mstack\u001b[0m\u001b[0;34m(\u001b[0m\u001b[0mfpr_distribution\u001b[0m\u001b[0;34m,\u001b[0m \u001b[0maxis\u001b[0m\u001b[0;34m=\u001b[0m\u001b[0;34m-\u001b[0m\u001b[0;36m1\u001b[0m\u001b[0;34m)\u001b[0m\u001b[0;34m,\u001b[0m\u001b[0mnp\u001b[0m\u001b[0;34m.\u001b[0m\u001b[0mstack\u001b[0m\u001b[0;34m(\u001b[0m\u001b[0mtpr_distribution\u001b[0m\u001b[0;34m,\u001b[0m \u001b[0maxis\u001b[0m\u001b[0;34m=\u001b[0m\u001b[0;34m-\u001b[0m\u001b[0;36m1\u001b[0m\u001b[0;34m)\u001b[0m\u001b[0;34m,\u001b[0m \u001b[0mnp\u001b[0m\u001b[0;34m.\u001b[0m\u001b[0mstack\u001b[0m\u001b[0;34m(\u001b[0m\u001b[0mthresh_distribution\u001b[0m\u001b[0;34m,\u001b[0m \u001b[0maxis\u001b[0m\u001b[0;34m=\u001b[0m\u001b[0;34m-\u001b[0m\u001b[0;36m1\u001b[0m\u001b[0;34m)\u001b[0m\u001b[0;34m,\u001b[0m \u001b[0mauc_scores\u001b[0m\u001b[0;34m\u001b[0m\u001b[0;34m\u001b[0m\u001b[0m\n\u001b[0m",
      "\u001b[0;32m<__array_function__ internals>\u001b[0m in \u001b[0;36mstack\u001b[0;34m(*args, **kwargs)\u001b[0m\n",
      "\u001b[0;32m~/miniconda3/envs/netstuff/lib/python3.6/site-packages/numpy/core/shape_base.py\u001b[0m in \u001b[0;36mstack\u001b[0;34m(arrays, axis, out)\u001b[0m\n\u001b[1;32m    423\u001b[0m     \u001b[0mshapes\u001b[0m \u001b[0;34m=\u001b[0m \u001b[0;34m{\u001b[0m\u001b[0marr\u001b[0m\u001b[0;34m.\u001b[0m\u001b[0mshape\u001b[0m \u001b[0;32mfor\u001b[0m \u001b[0marr\u001b[0m \u001b[0;32min\u001b[0m \u001b[0marrays\u001b[0m\u001b[0;34m}\u001b[0m\u001b[0;34m\u001b[0m\u001b[0;34m\u001b[0m\u001b[0m\n\u001b[1;32m    424\u001b[0m     \u001b[0;32mif\u001b[0m \u001b[0mlen\u001b[0m\u001b[0;34m(\u001b[0m\u001b[0mshapes\u001b[0m\u001b[0;34m)\u001b[0m \u001b[0;34m!=\u001b[0m \u001b[0;36m1\u001b[0m\u001b[0;34m:\u001b[0m\u001b[0;34m\u001b[0m\u001b[0;34m\u001b[0m\u001b[0m\n\u001b[0;32m--> 425\u001b[0;31m         \u001b[0;32mraise\u001b[0m \u001b[0mValueError\u001b[0m\u001b[0;34m(\u001b[0m\u001b[0;34m'all input arrays must have the same shape'\u001b[0m\u001b[0;34m)\u001b[0m\u001b[0;34m\u001b[0m\u001b[0;34m\u001b[0m\u001b[0m\n\u001b[0m\u001b[1;32m    426\u001b[0m \u001b[0;34m\u001b[0m\u001b[0m\n\u001b[1;32m    427\u001b[0m     \u001b[0mresult_ndim\u001b[0m \u001b[0;34m=\u001b[0m \u001b[0marrays\u001b[0m\u001b[0;34m[\u001b[0m\u001b[0;36m0\u001b[0m\u001b[0;34m]\u001b[0m\u001b[0;34m.\u001b[0m\u001b[0mndim\u001b[0m \u001b[0;34m+\u001b[0m \u001b[0;36m1\u001b[0m\u001b[0;34m\u001b[0m\u001b[0;34m\u001b[0m\u001b[0m\n",
      "\u001b[0;31mValueError\u001b[0m: all input arrays must have the same shape"
     ]
    }
   ],
   "source": [
    "r['coh'] = np.around(r['coh'], 1)\n",
    "rcoh = r.loc[r.coh.isin(coherences),:]\n",
    "tg = rcoh.groupby('trialID')\n",
    "f, t, th, auc = bootstrap_ROC(tg, k=10)"
   ]
  },
  {
   "cell_type": "code",
   "execution_count": 33,
   "metadata": {},
   "outputs": [
    {
     "data": {
      "text/plain": [
       "array([1, 2, 3, 4, 5, 1, 2, 3, 4, 5, 1, 2, 3, 4, 5])"
      ]
     },
     "execution_count": 33,
     "metadata": {},
     "output_type": "execute_result"
    }
   ],
   "source": [
    "l = []\n",
    "m = [1,2,3,4,5]\n",
    "l.append(m)\n",
    "l.append(m)\n",
    "l.append(m)\n",
    "np.concatenate(l)"
   ]
  },
  {
   "cell_type": "code",
   "execution_count": null,
   "metadata": {},
   "outputs": [],
   "source": [
    "coherences = [0.0,0.2,0.4,0.6,0.8,1.0]\n",
    "\n",
    "N = len(coherences)\n",
    "plt.rcParams[\"axes.prop_cycle\"] = plt.cycler(\"color\", \n",
    "                                             plt.cm.viridis(np.linspace(0,1,N)))\n",
    "g = rcoh.groupby('coh')\n",
    "for group, data in g:\n",
    "    tg = data.groupby('trialID')\n",
    "    fpr, tpr, thresholds, auc = bootstrap_ROC(tg, k=20)\n",
    "    plt.fill_between(fpr.mean(axis=1), np.quantile(tpr,0.025, axis=1), np.quantile(tpr, 0.975, axis=1), alpha=0.4)\n",
    "    plt.plot(fpr.mean(axis=1),tpr.mean(axis=1), label=group)\n",
    "plt.legend()\n",
    "plt.title('receiver operating characteristic (ROC)')\n",
    "plt.xlabel('false positive rate')\n",
    "plt.ylabel('true positive rate')\n",
    "ax = plt.gca()\n",
    "ax.spines['top'].set_visible(False)\n",
    "ax.spines['right'].set_visible(False)\n",
    "\n",
    "ax.plot([0,1],[0,1], 'k--')\n",
    "ax.set_aspect_ratio(1)\n",
    "\n",
    "#plt.fill_between(f.mean(axis=1), np.quantile(t,0.025, axis=1), np.quantile(t, 0.975, axis=1), alpha=0.4)\n",
    "#plt.plot(f.mean(axis=1),t.mean(axis=1))\n",
    "#np.quantile(t,0.25, axis=1) ==  np.quantile(t,0.75, axis=1)"
   ]
  },
  {
   "cell_type": "code",
   "execution_count": null,
   "metadata": {},
   "outputs": [],
   "source": [
    "r['coh'] = np.around(r['coh'], 1)\n",
    "rcoh = r.loc[r.coh.isin(coherences),:]\n",
    "N = len(set(rcoh['coh']))\n",
    "\n",
    "plt.rcParams[\"axes.prop_cycle\"] = plt.cycler(\"color\", \n",
    "                                             plt.cm.viridis(np.linspace(0,1,N)))\n",
    "\n",
    "\n",
    "g = rcoh.groupby('coh')\n",
    "for group, data in g:\n",
    "    scores = data['R']\n",
    "    y_true = np.around(data['dir'])\n",
    "    fpr, tpr, thresholds = metrics.roc_curve(y_true, scores, pos_label=1)\n",
    "    plt.plot(fpr, tpr, label=group)\n",
    "plt.legend()\n",
    "plt.title('receiver operating characteristic (ROC)')\n",
    "plt.xlabel('false positive rate')\n",
    "plt.ylabel('true positive rate')\n",
    "ax = plt.gca()\n",
    "ax.spines['top'].set_visible(False)\n",
    "ax.spines['right'].set_visible(False)\n",
    "\n",
    "ax.plot([0,1],[0,1], 'k--')\n",
    "\n",
    "plt.savefig('/media/recnodes/Dan_storage/20200622_ROC_curve_by_coh.svg')"
   ]
  },
  {
   "cell_type": "code",
   "execution_count": null,
   "metadata": {},
   "outputs": [],
   "source": [
    "rcoh['coh100'] = np.around(rcoh['coh']*100) #because silly AUC adds 1\n",
    "g = rcoh.groupby('coh100')\n",
    "xdata = []\n",
    "ydata = []\n",
    "for group, data in g:\n",
    "    scores = data['R']\n",
    "    y_true = np.sign(data['dir'])\n",
    "    auc = metrics.roc_auc_score(y_true, scores)\n",
    "    xdata.append(int(group))\n",
    "    ydata.append(auc)\n",
    "    plt.scatter(float(group/100.0), auc, label=group)\n",
    "\n",
    "    \n",
    "  \n",
    "    #plt.legend()\n",
    "#plt.xscale('log', basex=2)\n",
    "\n",
    "plt.xlabel('stimulus coherence')\n",
    "plt.ylabel('Area under the ROC curve')\n",
    "ax = plt.gca()\n",
    "ax.spines['top'].set_visible(False)\n",
    "ax.spines['right'].set_visible(False)\n",
    "\n",
    "\n",
    "def func(x, a, b, c):\n",
    "  #return a * np.exp(-b * x) + c\n",
    "  return a * np.log(b * x) + c\n",
    "\n",
    "from scipy.optimize import curve_fit\n",
    "\n",
    "popt, pcov = curve_fit(func, xdata, ydata)\n",
    "\n",
    "print(popt)\n",
    "yfit = [func(X, *popt) for X in np.linspace(1,100, 100)]\n",
    "#plt.plot(np.linspace(1,100, 100), yfit, 'r-',\n",
    "#         label='fit: a=%5.1f, b=%5.1f, c=%5.1f' % tuple(popt))  \n",
    "plt.legend()\n",
    "\n",
    "plt.savefig('/media/recnodes/Dan_storage/20200622_ROC_AUC_by_coh.svg')"
   ]
  },
  {
   "cell_type": "code",
   "execution_count": null,
   "metadata": {},
   "outputs": [],
   "source": [
    "\n",
    "N = len(set(r['groupsize']))\n",
    "\n",
    "plt.rcParams[\"axes.prop_cycle\"] = plt.cycler(\"color\", \n",
    "                                             plt.cm.viridis(np.linspace(0,1,N)))\n",
    "\n",
    "\n",
    "g = r.groupby('groupsize')\n",
    "for group, data in g:\n",
    "    scores = data['R']\n",
    "    y_true = np.around(data['dir'])\n",
    "    fpr, tpr, thresholds = metrics.roc_curve(y_true, scores, pos_label=1)\n",
    "    plt.plot(fpr, tpr, label=group)\n",
    "plt.legend()\n",
    "plt.title('receiver operating characteristic (ROC)')\n",
    "plt.xlabel('false positive rate')\n",
    "plt.ylabel('true positive rate')\n",
    "ax = plt.gca()\n",
    "ax.spines['top'].set_visible(False)\n",
    "ax.spines['right'].set_visible(False)\n",
    "ax.plot([0,1],[0,1], 'k--')\n",
    "plt.savefig('/media/recnodes/Dan_storage/20200621_ROC_curve.svg')"
   ]
  },
  {
   "cell_type": "code",
   "execution_count": null,
   "metadata": {},
   "outputs": [],
   "source": [
    "g = r.groupby('groupsize')\n",
    "xdata = []\n",
    "ydata = []\n",
    "for group, data in g:\n",
    "    scores = data['R']\n",
    "    y_true = np.sign(data['dir'])\n",
    "    auc = metrics.roc_auc_score(y_true, scores)\n",
    "    xdata.append(int(group))\n",
    "    ydata.append(auc)\n",
    "    plt.scatter(int(group), auc, label=group)\n",
    "\n",
    "    \n",
    "  \n",
    "    #plt.legend()\n",
    "#plt.xscale('log', basex=2)\n",
    "\n",
    "plt.xlabel('group size')\n",
    "plt.ylabel('Area under the ROC curve')\n",
    "ax = plt.gca()\n",
    "ax.spines['top'].set_visible(False)\n",
    "ax.spines['right'].set_visible(False)\n",
    "\n",
    "\n",
    "def func(x, a, b, c):\n",
    "  #return a * np.exp(-b * x) + c\n",
    "  return a * np.log(b * x) + c\n",
    "\n",
    "from scipy.optimize import curve_fit\n",
    "\n",
    "popt, pcov = curve_fit(func, xdata, ydata)\n",
    "\n",
    "print(popt)\n",
    "yfit = [func(X, *popt) for X in np.linspace(1,1024, 100)]\n",
    "plt.plot(np.linspace(1,1024, 100), yfit, 'r-',\n",
    "         label='fit: a=%5.3f, b=%5.3f, c=%5.3f' % tuple(popt))  \n",
    "plt.legend()\n",
    "\n",
    "plt.savefig('/media/recnodes/Dan_storage/20200621_ROC_AUC.svg')"
   ]
  },
  {
   "cell_type": "code",
   "execution_count": null,
   "metadata": {},
   "outputs": [],
   "source": [
    "\n",
    "\n",
    "responseonly = responseonly.loc[responseonly.coh.isin(coherences),:]\n",
    "cols = ['median_dRotation_cArea','std_dRotation_cArea','Information','normed']\n",
    "titles = ['median','std. dev.','information', 'info/sqrt(N)']\n",
    "R=1\n",
    "S=0\n",
    "\n",
    "from scipy.ndimage.filters import gaussian_filter\n",
    "#from skimage.transform import resize \n",
    "from mpl_toolkits.axes_grid1 import make_axes_locatable\n",
    "\n",
    "def heatmap(df, fig=None, ax=None, SIGMA=0, RESIZE_FACTOR=1):\n",
    "    \"\"\"\n",
    "    pass a 2d dataframe (for example, df.groupby([col1,col2])[col3].mean().unstack() )\n",
    "    \n",
    "    returns a heatmap as an imshow image with optional smoothing (sigma, resizing)\n",
    "    \"\"\"\n",
    "    if fig == None:\n",
    "        fig = plt.figure()\n",
    "    if ax == None:\n",
    "        ax = fig.add_subplot(111)\n",
    "    img = np.array(df)\n",
    "    #resized = resize(img, (img.shape[0]*RESIZE_FACTOR, img.shape[1]*RESIZE_FACTOR))\n",
    "    filtered_img = gaussian_filter(img, SIGMA)\n",
    "    plt.sca(ax)\n",
    "    #show image\n",
    "    im = ax.imshow(filtered_img, origin='lower')\n",
    "    #create colourbar\n",
    "    divider = make_axes_locatable(ax)\n",
    "    cax = divider.append_axes(\"right\", size=\"5%\", pad=0.05)\n",
    "    plt.colorbar(im, cax=cax)\n",
    "    return\n",
    "\n",
    "\n",
    "g = responseonly.groupby('trialID').median()\n",
    "g['coh'] = np.around(g['coh'], 1)\n",
    "g['normed'] = g['Information']/np.sqrt(g['groupsize'])\n",
    "\n",
    "#def plotent(S, R):\n",
    "_fig = plt.figure()\n",
    "for i in range(4):\n",
    "    axi = _fig.add_subplot(1,4,i+1)\n",
    "    heatmap(g.groupby(['groupsize','coh'])[cols[i]].mean().unstack(), \n",
    "               RESIZE_FACTOR=R, SIGMA=S,\n",
    "               fig=_fig, ax=axi)\n",
    "    axi.set_ylabel('Group Size')\n",
    "    axi.set_xlabel('Coherence')\n",
    "    axi.set_title(titles[i])\n",
    "    axi.spines['top'].set_visible(False)\n",
    "    axi.spines['right'].set_visible(False)\n",
    "#plt.show()\n",
    "#    return\n",
    "plt.savefig('/media/recnodes/Dan_storage/20200621_heatmaps.svg')"
   ]
  },
  {
   "cell_type": "code",
   "execution_count": null,
   "metadata": {},
   "outputs": [],
   "source": [
    "g['normed'] = g['Information']/g['groupsize']\n",
    "g.groupby(['groupsize','coh'])['normed'].mean().unstack()"
   ]
  }
 ],
 "metadata": {
  "kernelspec": {
   "display_name": "Python 3",
   "language": "python",
   "name": "python3"
  },
  "language_info": {
   "codemirror_mode": {
    "name": "ipython",
    "version": 3
   },
   "file_extension": ".py",
   "mimetype": "text/x-python",
   "name": "python",
   "nbconvert_exporter": "python",
   "pygments_lexer": "ipython3",
   "version": "3.6.7"
  }
 },
 "nbformat": 4,
 "nbformat_minor": 4
}
